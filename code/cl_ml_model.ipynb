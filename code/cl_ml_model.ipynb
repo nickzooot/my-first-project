{
  "cells": [
    {
      "cell_type": "markdown",
      "metadata": {
        "id": "5EBd4MS_7Tgw"
      },
      "source": [
        "# Setting up"
      ]
    },
    {
      "cell_type": "code",
      "execution_count": null,
      "metadata": {
        "colab": {
          "base_uri": "https://localhost:8080/"
        },
        "id": "mN7zkLiTC_Rr",
        "outputId": "4bbec5a4-0d40-4e39-ed6d-4a42180f51ef"
      },
      "outputs": [
        {
          "output_type": "stream",
          "name": "stdout",
          "text": [
            "Drive already mounted at /content/drive; to attempt to forcibly remount, call drive.mount(\"/content/drive\", force_remount=True).\n"
          ]
        }
      ],
      "source": [
        "from google.colab import drive\n",
        "drive.mount('/content/drive')"
      ]
    },
    {
      "cell_type": "code",
      "execution_count": null,
      "metadata": {
        "colab": {
          "base_uri": "https://localhost:8080/"
        },
        "id": "JfYjkkTsCviZ",
        "outputId": "59dba50d-3e3c-4066-ee1c-cd70728c1c64"
      },
      "outputs": [
        {
          "output_type": "stream",
          "name": "stdout",
          "text": [
            "/content/drive/MyDrive/Colab Notebooks/Emotion-Detection-From-Tweets-Using-BERT-and-SVM-Ensemble-Model-master\n"
          ]
        }
      ],
      "source": [
        "%cd /content/drive/MyDrive/Colab\\ Notebooks/Emotion-Detection-From-Tweets-Using-BERT-and-SVM-Ensemble-Model-master"
      ]
    },
    {
      "cell_type": "code",
      "execution_count": null,
      "metadata": {
        "colab": {
          "base_uri": "https://localhost:8080/"
        },
        "id": "vOOQIHvwzEIj",
        "outputId": "2ae3e405-ca90-48fb-b8d1-1c2b21788a83"
      },
      "outputs": [
        {
          "output_type": "stream",
          "name": "stdout",
          "text": [
            "/usr/local/lib/python3.10/dist-packages/gdown/cli.py:121: FutureWarning: Option `--id` was deprecated in version 4.3.1 and will be removed in 5.0. You don't need to pass it anymore to use a file ID.\n",
            "  warnings.warn(\n",
            "Downloading...\n",
            "From: https://drive.google.com/uc?id=1up7d8aWd0H-QDN2konB_4oAwa4oHJQr2\n",
            "To: /content/drive/MyDrive/Colab Notebooks/Emotion-Detection-From-Tweets-Using-BERT-and-SVM-Ensemble-Model-master/wassa_dataset.zip\n",
            "100% 364k/364k [00:00<00:00, 36.2MB/s]\n",
            "/usr/local/lib/python3.10/dist-packages/gdown/cli.py:121: FutureWarning: Option `--id` was deprecated in version 4.3.1 and will be removed in 5.0. You don't need to pass it anymore to use a file ID.\n",
            "  warnings.warn(\n",
            "Downloading...\n",
            "From: https://drive.google.com/uc?id=1doKr_6jKH1kwFFCL92LhAHnDwHVmCQVK\n",
            "To: /content/drive/MyDrive/Colab Notebooks/Emotion-Detection-From-Tweets-Using-BERT-and-SVM-Ensemble-Model-master/emoticons.csv\n",
            "100% 6.02k/6.02k [00:00<00:00, 17.3MB/s]\n",
            "/usr/local/lib/python3.10/dist-packages/gdown/cli.py:121: FutureWarning: Option `--id` was deprecated in version 4.3.1 and will be removed in 5.0. You don't need to pass it anymore to use a file ID.\n",
            "  warnings.warn(\n",
            "Downloading...\n",
            "From: https://drive.google.com/uc?id=1mUoiYzyUs6ihlmkqskdPPgo0O1ainWqw\n",
            "To: /content/drive/MyDrive/Colab Notebooks/Emotion-Detection-From-Tweets-Using-BERT-and-SVM-Ensemble-Model-master/codes.json\n",
            "100% 216k/216k [00:00<00:00, 23.3MB/s]\n",
            "mkdir: cannot create directory ‘/root/.demoji’: File exists\n",
            "Archive:  wassa_dataset.zip\n",
            "caution: filename not matched:  -y\n"
          ]
        }
      ],
      "source": [
        "!gdown --id 1up7d8aWd0H-QDN2konB_4oAwa4oHJQr2\n",
        "!gdown --id 1doKr_6jKH1kwFFCL92LhAHnDwHVmCQVK\n",
        "!gdown --id 1mUoiYzyUs6ihlmkqskdPPgo0O1ainWqw\n",
        "!mkdir ~/.demoji\n",
        "!mv codes.json ~/.demoji/\n",
        "!unzip wassa_dataset.zip -y\n",
        "!rm wassa_dataset.zip\n",
        "!pip install -qq demoji\n",
        "!pip install -qq unidecode\n",
        "!pip install -qq snowballstemmer"
      ]
    },
    {
      "cell_type": "code",
      "execution_count": null,
      "metadata": {
        "id": "_wJlYjafC5mJ"
      },
      "outputs": [],
      "source": []
    },
    {
      "cell_type": "code",
      "execution_count": null,
      "metadata": {
        "id": "7ZQuG8GQzYUZ"
      },
      "outputs": [],
      "source": [
        "import pandas as pd\n",
        "import matplotlib.pyplot as plt\n",
        "from sklearn.model_selection import train_test_split\n",
        "from sklearn import svm\n",
        "from sklearn.metrics import confusion_matrix\n",
        "from nltk import PorterStemmer, word_tokenize\n",
        "from nltk.corpus import stopwords\n",
        "from nltk.stem import SnowballStemmer\n",
        "import nltk\n",
        "from sklearn.feature_extraction.text import TfidfVectorizer\n",
        "import re\n",
        "import unidecode\n",
        "from sklearn.preprocessing import LabelEncoder\n",
        "from sklearn.metrics import accuracy_score\n",
        "import numpy as np\n",
        "import itertools\n",
        "from sklearn.naive_bayes import MultinomialNB, GaussianNB\n",
        "import pickle\n",
        "import snowballstemmer\n",
        "from sklearn.metrics import precision_score\n",
        "from sklearn.metrics import recall_score\n",
        "from sklearn.metrics import f1_score\n",
        "from sklearn.metrics import classification_report"
      ]
    },
    {
      "cell_type": "code",
      "execution_count": null,
      "metadata": {
        "colab": {
          "base_uri": "https://localhost:8080/"
        },
        "id": "mQ-xz4QR4ibS",
        "outputId": "497a0e93-ed6f-4b17-f6e2-7695a536f052"
      },
      "outputs": [
        {
          "output_type": "stream",
          "name": "stderr",
          "text": [
            "[nltk_data] Downloading collection 'all'\n",
            "[nltk_data]    | \n",
            "[nltk_data]    | Downloading package abc to /root/nltk_data...\n",
            "[nltk_data]    |   Package abc is already up-to-date!\n",
            "[nltk_data]    | Downloading package alpino to /root/nltk_data...\n",
            "[nltk_data]    |   Package alpino is already up-to-date!\n",
            "[nltk_data]    | Downloading package averaged_perceptron_tagger to\n",
            "[nltk_data]    |     /root/nltk_data...\n",
            "[nltk_data]    |   Package averaged_perceptron_tagger is already up-\n",
            "[nltk_data]    |       to-date!\n",
            "[nltk_data]    | Downloading package averaged_perceptron_tagger_ru to\n",
            "[nltk_data]    |     /root/nltk_data...\n",
            "[nltk_data]    |   Package averaged_perceptron_tagger_ru is already\n",
            "[nltk_data]    |       up-to-date!\n",
            "[nltk_data]    | Downloading package basque_grammars to\n",
            "[nltk_data]    |     /root/nltk_data...\n",
            "[nltk_data]    |   Package basque_grammars is already up-to-date!\n",
            "[nltk_data]    | Downloading package bcp47 to /root/nltk_data...\n",
            "[nltk_data]    |   Package bcp47 is already up-to-date!\n",
            "[nltk_data]    | Downloading package biocreative_ppi to\n",
            "[nltk_data]    |     /root/nltk_data...\n",
            "[nltk_data]    |   Package biocreative_ppi is already up-to-date!\n",
            "[nltk_data]    | Downloading package bllip_wsj_no_aux to\n",
            "[nltk_data]    |     /root/nltk_data...\n",
            "[nltk_data]    |   Package bllip_wsj_no_aux is already up-to-date!\n",
            "[nltk_data]    | Downloading package book_grammars to\n",
            "[nltk_data]    |     /root/nltk_data...\n",
            "[nltk_data]    |   Package book_grammars is already up-to-date!\n",
            "[nltk_data]    | Downloading package brown to /root/nltk_data...\n",
            "[nltk_data]    |   Package brown is already up-to-date!\n",
            "[nltk_data]    | Downloading package brown_tei to /root/nltk_data...\n",
            "[nltk_data]    |   Package brown_tei is already up-to-date!\n",
            "[nltk_data]    | Downloading package cess_cat to /root/nltk_data...\n",
            "[nltk_data]    |   Package cess_cat is already up-to-date!\n",
            "[nltk_data]    | Downloading package cess_esp to /root/nltk_data...\n",
            "[nltk_data]    |   Package cess_esp is already up-to-date!\n",
            "[nltk_data]    | Downloading package chat80 to /root/nltk_data...\n",
            "[nltk_data]    |   Package chat80 is already up-to-date!\n",
            "[nltk_data]    | Downloading package city_database to\n",
            "[nltk_data]    |     /root/nltk_data...\n",
            "[nltk_data]    |   Package city_database is already up-to-date!\n",
            "[nltk_data]    | Downloading package cmudict to /root/nltk_data...\n",
            "[nltk_data]    |   Package cmudict is already up-to-date!\n",
            "[nltk_data]    | Downloading package comparative_sentences to\n",
            "[nltk_data]    |     /root/nltk_data...\n",
            "[nltk_data]    |   Package comparative_sentences is already up-to-\n",
            "[nltk_data]    |       date!\n",
            "[nltk_data]    | Downloading package comtrans to /root/nltk_data...\n",
            "[nltk_data]    |   Package comtrans is already up-to-date!\n",
            "[nltk_data]    | Downloading package conll2000 to /root/nltk_data...\n",
            "[nltk_data]    |   Package conll2000 is already up-to-date!\n",
            "[nltk_data]    | Downloading package conll2002 to /root/nltk_data...\n",
            "[nltk_data]    |   Package conll2002 is already up-to-date!\n",
            "[nltk_data]    | Downloading package conll2007 to /root/nltk_data...\n",
            "[nltk_data]    |   Package conll2007 is already up-to-date!\n",
            "[nltk_data]    | Downloading package crubadan to /root/nltk_data...\n",
            "[nltk_data]    |   Package crubadan is already up-to-date!\n",
            "[nltk_data]    | Downloading package dependency_treebank to\n",
            "[nltk_data]    |     /root/nltk_data...\n",
            "[nltk_data]    |   Package dependency_treebank is already up-to-date!\n",
            "[nltk_data]    | Downloading package dolch to /root/nltk_data...\n",
            "[nltk_data]    |   Package dolch is already up-to-date!\n",
            "[nltk_data]    | Downloading package europarl_raw to\n",
            "[nltk_data]    |     /root/nltk_data...\n",
            "[nltk_data]    |   Package europarl_raw is already up-to-date!\n",
            "[nltk_data]    | Downloading package extended_omw to\n",
            "[nltk_data]    |     /root/nltk_data...\n",
            "[nltk_data]    |   Package extended_omw is already up-to-date!\n",
            "[nltk_data]    | Downloading package floresta to /root/nltk_data...\n",
            "[nltk_data]    |   Package floresta is already up-to-date!\n",
            "[nltk_data]    | Downloading package framenet_v15 to\n",
            "[nltk_data]    |     /root/nltk_data...\n",
            "[nltk_data]    |   Package framenet_v15 is already up-to-date!\n",
            "[nltk_data]    | Downloading package framenet_v17 to\n",
            "[nltk_data]    |     /root/nltk_data...\n",
            "[nltk_data]    |   Package framenet_v17 is already up-to-date!\n",
            "[nltk_data]    | Downloading package gazetteers to /root/nltk_data...\n",
            "[nltk_data]    |   Package gazetteers is already up-to-date!\n",
            "[nltk_data]    | Downloading package genesis to /root/nltk_data...\n",
            "[nltk_data]    |   Package genesis is already up-to-date!\n",
            "[nltk_data]    | Downloading package gutenberg to /root/nltk_data...\n",
            "[nltk_data]    |   Package gutenberg is already up-to-date!\n",
            "[nltk_data]    | Downloading package ieer to /root/nltk_data...\n",
            "[nltk_data]    |   Package ieer is already up-to-date!\n",
            "[nltk_data]    | Downloading package inaugural to /root/nltk_data...\n",
            "[nltk_data]    |   Package inaugural is already up-to-date!\n",
            "[nltk_data]    | Downloading package indian to /root/nltk_data...\n",
            "[nltk_data]    |   Package indian is already up-to-date!\n",
            "[nltk_data]    | Downloading package jeita to /root/nltk_data...\n",
            "[nltk_data]    |   Package jeita is already up-to-date!\n",
            "[nltk_data]    | Downloading package kimmo to /root/nltk_data...\n",
            "[nltk_data]    |   Package kimmo is already up-to-date!\n",
            "[nltk_data]    | Downloading package knbc to /root/nltk_data...\n",
            "[nltk_data]    |   Package knbc is already up-to-date!\n",
            "[nltk_data]    | Downloading package large_grammars to\n",
            "[nltk_data]    |     /root/nltk_data...\n",
            "[nltk_data]    |   Package large_grammars is already up-to-date!\n",
            "[nltk_data]    | Downloading package lin_thesaurus to\n",
            "[nltk_data]    |     /root/nltk_data...\n",
            "[nltk_data]    |   Package lin_thesaurus is already up-to-date!\n",
            "[nltk_data]    | Downloading package mac_morpho to /root/nltk_data...\n",
            "[nltk_data]    |   Package mac_morpho is already up-to-date!\n",
            "[nltk_data]    | Downloading package machado to /root/nltk_data...\n",
            "[nltk_data]    |   Package machado is already up-to-date!\n",
            "[nltk_data]    | Downloading package masc_tagged to /root/nltk_data...\n",
            "[nltk_data]    |   Package masc_tagged is already up-to-date!\n",
            "[nltk_data]    | Downloading package maxent_ne_chunker to\n",
            "[nltk_data]    |     /root/nltk_data...\n",
            "[nltk_data]    |   Package maxent_ne_chunker is already up-to-date!\n",
            "[nltk_data]    | Downloading package maxent_treebank_pos_tagger to\n",
            "[nltk_data]    |     /root/nltk_data...\n",
            "[nltk_data]    |   Package maxent_treebank_pos_tagger is already up-\n",
            "[nltk_data]    |       to-date!\n",
            "[nltk_data]    | Downloading package moses_sample to\n",
            "[nltk_data]    |     /root/nltk_data...\n",
            "[nltk_data]    |   Package moses_sample is already up-to-date!\n",
            "[nltk_data]    | Downloading package movie_reviews to\n",
            "[nltk_data]    |     /root/nltk_data...\n",
            "[nltk_data]    |   Package movie_reviews is already up-to-date!\n",
            "[nltk_data]    | Downloading package mte_teip5 to /root/nltk_data...\n",
            "[nltk_data]    |   Package mte_teip5 is already up-to-date!\n",
            "[nltk_data]    | Downloading package mwa_ppdb to /root/nltk_data...\n",
            "[nltk_data]    |   Package mwa_ppdb is already up-to-date!\n",
            "[nltk_data]    | Downloading package names to /root/nltk_data...\n",
            "[nltk_data]    |   Package names is already up-to-date!\n",
            "[nltk_data]    | Downloading package nombank.1.0 to /root/nltk_data...\n",
            "[nltk_data]    |   Package nombank.1.0 is already up-to-date!\n",
            "[nltk_data]    | Downloading package nonbreaking_prefixes to\n",
            "[nltk_data]    |     /root/nltk_data...\n",
            "[nltk_data]    |   Package nonbreaking_prefixes is already up-to-date!\n",
            "[nltk_data]    | Downloading package nps_chat to /root/nltk_data...\n",
            "[nltk_data]    |   Package nps_chat is already up-to-date!\n",
            "[nltk_data]    | Downloading package omw to /root/nltk_data...\n",
            "[nltk_data]    |   Package omw is already up-to-date!\n",
            "[nltk_data]    | Downloading package omw-1.4 to /root/nltk_data...\n",
            "[nltk_data]    |   Package omw-1.4 is already up-to-date!\n",
            "[nltk_data]    | Downloading package opinion_lexicon to\n",
            "[nltk_data]    |     /root/nltk_data...\n",
            "[nltk_data]    |   Package opinion_lexicon is already up-to-date!\n",
            "[nltk_data]    | Downloading package panlex_swadesh to\n",
            "[nltk_data]    |     /root/nltk_data...\n",
            "[nltk_data]    |   Package panlex_swadesh is already up-to-date!\n",
            "[nltk_data]    | Downloading package paradigms to /root/nltk_data...\n",
            "[nltk_data]    |   Package paradigms is already up-to-date!\n",
            "[nltk_data]    | Downloading package pe08 to /root/nltk_data...\n",
            "[nltk_data]    |   Package pe08 is already up-to-date!\n",
            "[nltk_data]    | Downloading package perluniprops to\n",
            "[nltk_data]    |     /root/nltk_data...\n",
            "[nltk_data]    |   Package perluniprops is already up-to-date!\n",
            "[nltk_data]    | Downloading package pil to /root/nltk_data...\n",
            "[nltk_data]    |   Package pil is already up-to-date!\n",
            "[nltk_data]    | Downloading package pl196x to /root/nltk_data...\n",
            "[nltk_data]    |   Package pl196x is already up-to-date!\n",
            "[nltk_data]    | Downloading package porter_test to /root/nltk_data...\n",
            "[nltk_data]    |   Package porter_test is already up-to-date!\n",
            "[nltk_data]    | Downloading package ppattach to /root/nltk_data...\n",
            "[nltk_data]    |   Package ppattach is already up-to-date!\n",
            "[nltk_data]    | Downloading package problem_reports to\n",
            "[nltk_data]    |     /root/nltk_data...\n",
            "[nltk_data]    |   Package problem_reports is already up-to-date!\n",
            "[nltk_data]    | Downloading package product_reviews_1 to\n",
            "[nltk_data]    |     /root/nltk_data...\n",
            "[nltk_data]    |   Package product_reviews_1 is already up-to-date!\n",
            "[nltk_data]    | Downloading package product_reviews_2 to\n",
            "[nltk_data]    |     /root/nltk_data...\n",
            "[nltk_data]    |   Package product_reviews_2 is already up-to-date!\n",
            "[nltk_data]    | Downloading package propbank to /root/nltk_data...\n",
            "[nltk_data]    |   Package propbank is already up-to-date!\n",
            "[nltk_data]    | Downloading package pros_cons to /root/nltk_data...\n",
            "[nltk_data]    |   Package pros_cons is already up-to-date!\n",
            "[nltk_data]    | Downloading package ptb to /root/nltk_data...\n",
            "[nltk_data]    |   Package ptb is already up-to-date!\n",
            "[nltk_data]    | Downloading package punkt to /root/nltk_data...\n",
            "[nltk_data]    |   Package punkt is already up-to-date!\n",
            "[nltk_data]    | Downloading package qc to /root/nltk_data...\n",
            "[nltk_data]    |   Package qc is already up-to-date!\n",
            "[nltk_data]    | Downloading package reuters to /root/nltk_data...\n",
            "[nltk_data]    |   Package reuters is already up-to-date!\n",
            "[nltk_data]    | Downloading package rslp to /root/nltk_data...\n",
            "[nltk_data]    |   Package rslp is already up-to-date!\n",
            "[nltk_data]    | Downloading package rte to /root/nltk_data...\n",
            "[nltk_data]    |   Package rte is already up-to-date!\n",
            "[nltk_data]    | Downloading package sample_grammars to\n",
            "[nltk_data]    |     /root/nltk_data...\n",
            "[nltk_data]    |   Package sample_grammars is already up-to-date!\n",
            "[nltk_data]    | Downloading package semcor to /root/nltk_data...\n",
            "[nltk_data]    |   Package semcor is already up-to-date!\n",
            "[nltk_data]    | Downloading package senseval to /root/nltk_data...\n",
            "[nltk_data]    |   Package senseval is already up-to-date!\n",
            "[nltk_data]    | Downloading package sentence_polarity to\n",
            "[nltk_data]    |     /root/nltk_data...\n",
            "[nltk_data]    |   Package sentence_polarity is already up-to-date!\n",
            "[nltk_data]    | Downloading package sentiwordnet to\n",
            "[nltk_data]    |     /root/nltk_data...\n",
            "[nltk_data]    |   Package sentiwordnet is already up-to-date!\n",
            "[nltk_data]    | Downloading package shakespeare to /root/nltk_data...\n",
            "[nltk_data]    |   Package shakespeare is already up-to-date!\n",
            "[nltk_data]    | Downloading package sinica_treebank to\n",
            "[nltk_data]    |     /root/nltk_data...\n",
            "[nltk_data]    |   Package sinica_treebank is already up-to-date!\n",
            "[nltk_data]    | Downloading package smultron to /root/nltk_data...\n",
            "[nltk_data]    |   Package smultron is already up-to-date!\n",
            "[nltk_data]    | Downloading package snowball_data to\n",
            "[nltk_data]    |     /root/nltk_data...\n",
            "[nltk_data]    |   Package snowball_data is already up-to-date!\n",
            "[nltk_data]    | Downloading package spanish_grammars to\n",
            "[nltk_data]    |     /root/nltk_data...\n",
            "[nltk_data]    |   Package spanish_grammars is already up-to-date!\n",
            "[nltk_data]    | Downloading package state_union to /root/nltk_data...\n",
            "[nltk_data]    |   Package state_union is already up-to-date!\n",
            "[nltk_data]    | Downloading package stopwords to /root/nltk_data...\n",
            "[nltk_data]    |   Package stopwords is already up-to-date!\n",
            "[nltk_data]    | Downloading package subjectivity to\n",
            "[nltk_data]    |     /root/nltk_data...\n",
            "[nltk_data]    |   Package subjectivity is already up-to-date!\n",
            "[nltk_data]    | Downloading package swadesh to /root/nltk_data...\n",
            "[nltk_data]    |   Package swadesh is already up-to-date!\n",
            "[nltk_data]    | Downloading package switchboard to /root/nltk_data...\n",
            "[nltk_data]    |   Package switchboard is already up-to-date!\n",
            "[nltk_data]    | Downloading package tagsets to /root/nltk_data...\n",
            "[nltk_data]    |   Package tagsets is already up-to-date!\n",
            "[nltk_data]    | Downloading package timit to /root/nltk_data...\n",
            "[nltk_data]    |   Package timit is already up-to-date!\n",
            "[nltk_data]    | Downloading package toolbox to /root/nltk_data...\n",
            "[nltk_data]    |   Package toolbox is already up-to-date!\n",
            "[nltk_data]    | Downloading package treebank to /root/nltk_data...\n",
            "[nltk_data]    |   Package treebank is already up-to-date!\n",
            "[nltk_data]    | Downloading package twitter_samples to\n",
            "[nltk_data]    |     /root/nltk_data...\n",
            "[nltk_data]    |   Package twitter_samples is already up-to-date!\n",
            "[nltk_data]    | Downloading package udhr to /root/nltk_data...\n",
            "[nltk_data]    |   Package udhr is already up-to-date!\n",
            "[nltk_data]    | Downloading package udhr2 to /root/nltk_data...\n",
            "[nltk_data]    |   Package udhr2 is already up-to-date!\n",
            "[nltk_data]    | Downloading package unicode_samples to\n",
            "[nltk_data]    |     /root/nltk_data...\n",
            "[nltk_data]    |   Package unicode_samples is already up-to-date!\n",
            "[nltk_data]    | Downloading package universal_tagset to\n",
            "[nltk_data]    |     /root/nltk_data...\n",
            "[nltk_data]    |   Package universal_tagset is already up-to-date!\n",
            "[nltk_data]    | Downloading package universal_treebanks_v20 to\n",
            "[nltk_data]    |     /root/nltk_data...\n",
            "[nltk_data]    |   Package universal_treebanks_v20 is already up-to-\n",
            "[nltk_data]    |       date!\n",
            "[nltk_data]    | Downloading package vader_lexicon to\n",
            "[nltk_data]    |     /root/nltk_data...\n",
            "[nltk_data]    |   Package vader_lexicon is already up-to-date!\n",
            "[nltk_data]    | Downloading package verbnet to /root/nltk_data...\n",
            "[nltk_data]    |   Package verbnet is already up-to-date!\n",
            "[nltk_data]    | Downloading package verbnet3 to /root/nltk_data...\n",
            "[nltk_data]    |   Package verbnet3 is already up-to-date!\n",
            "[nltk_data]    | Downloading package webtext to /root/nltk_data...\n",
            "[nltk_data]    |   Package webtext is already up-to-date!\n",
            "[nltk_data]    | Downloading package wmt15_eval to /root/nltk_data...\n",
            "[nltk_data]    |   Package wmt15_eval is already up-to-date!\n",
            "[nltk_data]    | Downloading package word2vec_sample to\n",
            "[nltk_data]    |     /root/nltk_data...\n",
            "[nltk_data]    |   Package word2vec_sample is already up-to-date!\n",
            "[nltk_data]    | Downloading package wordnet to /root/nltk_data...\n",
            "[nltk_data]    |   Package wordnet is already up-to-date!\n",
            "[nltk_data]    | Downloading package wordnet2021 to /root/nltk_data...\n",
            "[nltk_data]    |   Package wordnet2021 is already up-to-date!\n",
            "[nltk_data]    | Downloading package wordnet2022 to /root/nltk_data...\n",
            "[nltk_data]    |   Package wordnet2022 is already up-to-date!\n",
            "[nltk_data]    | Downloading package wordnet31 to /root/nltk_data...\n",
            "[nltk_data]    |   Package wordnet31 is already up-to-date!\n",
            "[nltk_data]    | Downloading package wordnet_ic to /root/nltk_data...\n",
            "[nltk_data]    |   Package wordnet_ic is already up-to-date!\n",
            "[nltk_data]    | Downloading package words to /root/nltk_data...\n",
            "[nltk_data]    |   Package words is already up-to-date!\n",
            "[nltk_data]    | Downloading package ycoe to /root/nltk_data...\n",
            "[nltk_data]    |   Package ycoe is already up-to-date!\n",
            "[nltk_data]    | \n",
            "[nltk_data]  Done downloading collection all\n"
          ]
        },
        {
          "output_type": "execute_result",
          "data": {
            "text/plain": [
              "True"
            ]
          },
          "metadata": {},
          "execution_count": 5
        }
      ],
      "source": [
        "nltk.download(\"all\")"
      ]
    },
    {
      "cell_type": "markdown",
      "metadata": {
        "id": "ITaI_a6E7fuS"
      },
      "source": [
        "# Loading the dataset"
      ]
    },
    {
      "cell_type": "code",
      "execution_count": null,
      "metadata": {
        "colab": {
          "base_uri": "https://localhost:8080/"
        },
        "id": "wClL__cmtH7G",
        "outputId": "7148fae4-ba87-46a2-e1ce-dfa04f5cb353"
      },
      "outputs": [
        {
          "output_type": "stream",
          "name": "stdout",
          "text": [
            "Bert.ipynb\t      dataset.zip      README.md\twassa_test.csv\n",
            "Bert_wassa.ipynb      emoticons.csv    SVM.ipynb\twassa_train.csv\n",
            "best_model_state.bin  LICENSE\t       svm_model.obj\twassa_val.csv\n",
            "checkpoints\t      models_anal.png  SVM_wassa.ipynb\n"
          ]
        }
      ],
      "source": [
        "!ls"
      ]
    },
    {
      "cell_type": "code",
      "execution_count": null,
      "metadata": {
        "id": "jcIpNp8Atyip"
      },
      "outputs": [],
      "source": [
        "%load_ext autoreload\n",
        "%autoreload 2\n",
        "import pandas as pd\n",
        "%config InlineBackend.figure_format = 'svg'\n",
        "%matplotlib inline\n",
        "import numpy as np\n",
        "import matplotlib.pyplot as plt\n",
        "import seaborn as sns"
      ]
    },
    {
      "cell_type": "code",
      "execution_count": null,
      "metadata": {
        "id": "zSEDRPh1tpMj"
      },
      "outputs": [],
      "source": [
        "plt.rc('font', family='serif')"
      ]
    },
    {
      "cell_type": "code",
      "execution_count": null,
      "metadata": {
        "colab": {
          "base_uri": "https://localhost:8080/",
          "height": 595
        },
        "id": "A3VUIV3Xza8B",
        "outputId": "26d6a461-d75a-47c7-8f7e-8a5a832839ec"
      },
      "outputs": [
        {
          "output_type": "display_data",
          "data": {
            "text/plain": [
              "<Figure size 640x480 with 1 Axes>"
            ],
            "image/svg+xml": "<?xml version=\"1.0\" encoding=\"utf-8\" standalone=\"no\"?>\n<!DOCTYPE svg PUBLIC \"-//W3C//DTD SVG 1.1//EN\"\n  \"http://www.w3.org/Graphics/SVG/1.1/DTD/svg11.dtd\">\n<svg xmlns:xlink=\"http://www.w3.org/1999/xlink\" width=\"403.97pt\" height=\"341.307312pt\" viewBox=\"0 0 403.97 341.307312\" xmlns=\"http://www.w3.org/2000/svg\" version=\"1.1\">\n <metadata>\n  <rdf:RDF xmlns:dc=\"http://purl.org/dc/elements/1.1/\" xmlns:cc=\"http://creativecommons.org/ns#\" xmlns:rdf=\"http://www.w3.org/1999/02/22-rdf-syntax-ns#\">\n   <cc:Work>\n    <dc:type rdf:resource=\"http://purl.org/dc/dcmitype/StillImage\"/>\n    <dc:date>2023-05-26T13:32:26.848275</dc:date>\n    <dc:format>image/svg+xml</dc:format>\n    <dc:creator>\n     <cc:Agent>\n      <dc:title>Matplotlib v3.7.1, https://matplotlib.org/</dc:title>\n     </cc:Agent>\n    </dc:creator>\n   </cc:Work>\n  </rdf:RDF>\n </metadata>\n <defs>\n  <style type=\"text/css\">*{stroke-linejoin: round; stroke-linecap: butt}</style>\n </defs>\n <g id=\"figure_1\">\n  <g id=\"patch_1\">\n   <path d=\"M 0 341.307312 \nL 403.97 341.307312 \nL 403.97 0 \nL 0 0 \nz\n\" style=\"fill: #ffffff\"/>\n  </g>\n  <g id=\"axes_1\">\n   <g id=\"patch_2\">\n    <path d=\"M 39.65 273.312 \nL 396.77 273.312 \nL 396.77 7.2 \nL 39.65 7.2 \nz\n\" style=\"fill: #ffffff\"/>\n   </g>\n   <g id=\"patch_3\">\n    <path d=\"M 57.506 273.312 \nL 93.218 273.312 \nL 93.218 19.872 \nL 57.506 19.872 \nz\n\" clip-path=\"url(#p83f41e4e85)\" style=\"fill: #1f77b4\"/>\n   </g>\n   <g id=\"patch_4\">\n    <path d=\"M 128.93 273.312 \nL 164.642 273.312 \nL 164.642 19.872 \nL 128.93 19.872 \nz\n\" clip-path=\"url(#p83f41e4e85)\" style=\"fill: #1f77b4\"/>\n   </g>\n   <g id=\"patch_5\">\n    <path d=\"M 200.354 273.312 \nL 236.066 273.312 \nL 236.066 19.872 \nL 200.354 19.872 \nz\n\" clip-path=\"url(#p83f41e4e85)\" style=\"fill: #1f77b4\"/>\n   </g>\n   <g id=\"patch_6\">\n    <path d=\"M 271.778 273.312 \nL 307.49 273.312 \nL 307.49 19.872 \nL 271.778 19.872 \nz\n\" clip-path=\"url(#p83f41e4e85)\" style=\"fill: #1f77b4\"/>\n   </g>\n   <g id=\"patch_7\">\n    <path d=\"M 343.202 273.312 \nL 378.914 273.312 \nL 378.914 19.872 \nL 343.202 19.872 \nz\n\" clip-path=\"url(#p83f41e4e85)\" style=\"fill: #1f77b4\"/>\n   </g>\n   <g id=\"matplotlib.axis_1\">\n    <g id=\"xtick_1\">\n     <g id=\"line2d_1\">\n      <defs>\n       <path id=\"m70c8e71c64\" d=\"M 0 0 \nL 0 3.5 \n\" style=\"stroke: #000000; stroke-width: 0.8\"/>\n      </defs>\n      <g>\n       <use xlink:href=\"#m70c8e71c64\" x=\"75.362\" y=\"273.312\" style=\"stroke: #000000; stroke-width: 0.8\"/>\n      </g>\n     </g>\n     <g id=\"text_1\">\n      <!-- anger -->\n      <g transform=\"translate(77.979188 309.815125) rotate(-90) scale(0.1 -0.1)\">\n       <defs>\n        <path id=\"DejaVuSerif-61\" d=\"M 2547 1044 \nL 2547 1747 \nL 1806 1747 \nQ 1378 1747 1168 1562 \nQ 959 1378 959 997 \nQ 959 650 1171 447 \nQ 1384 244 1747 244 \nQ 2106 244 2326 466 \nQ 2547 688 2547 1044 \nz\nM 3122 2075 \nL 3122 331 \nL 3634 331 \nL 3634 0 \nL 2547 0 \nL 2547 359 \nQ 2356 128 2106 18 \nQ 1856 -91 1522 -91 \nQ 969 -91 644 203 \nQ 319 497 319 997 \nQ 319 1513 691 1797 \nQ 1063 2081 1741 2081 \nL 2547 2081 \nL 2547 2309 \nQ 2547 2688 2317 2895 \nQ 2088 3103 1672 3103 \nQ 1328 3103 1125 2947 \nQ 922 2791 872 2484 \nL 575 2484 \nL 575 3156 \nQ 875 3284 1158 3348 \nQ 1441 3413 1709 3413 \nQ 2400 3413 2761 3070 \nQ 3122 2728 3122 2075 \nz\n\" transform=\"scale(0.015625)\"/>\n        <path id=\"DejaVuSerif-6e\" d=\"M 263 0 \nL 263 331 \nL 781 331 \nL 781 2988 \nL 231 2988 \nL 231 3322 \nL 1356 3322 \nL 1356 2731 \nQ 1516 3069 1770 3241 \nQ 2025 3413 2363 3413 \nQ 2913 3413 3172 3097 \nQ 3431 2781 3431 2113 \nL 3431 331 \nL 3944 331 \nL 3944 0 \nL 2356 0 \nL 2356 331 \nL 2853 331 \nL 2853 1931 \nQ 2853 2541 2703 2767 \nQ 2553 2994 2175 2994 \nQ 1775 2994 1565 2701 \nQ 1356 2409 1356 1850 \nL 1356 331 \nL 1856 331 \nL 1856 0 \nL 263 0 \nz\n\" transform=\"scale(0.015625)\"/>\n        <path id=\"DejaVuSerif-67\" d=\"M 3359 2988 \nL 3359 72 \nQ 3359 -644 2965 -1033 \nQ 2572 -1422 1844 -1422 \nQ 1516 -1422 1216 -1362 \nQ 916 -1303 641 -1184 \nL 641 -488 \nL 941 -488 \nQ 997 -813 1206 -963 \nQ 1416 -1113 1806 -1113 \nQ 2313 -1113 2548 -827 \nQ 2784 -541 2784 72 \nL 2784 519 \nQ 2616 206 2355 57 \nQ 2094 -91 1709 -91 \nQ 1097 -91 708 395 \nQ 319 881 319 1663 \nQ 319 2444 706 2928 \nQ 1094 3413 1709 3413 \nQ 2094 3413 2355 3264 \nQ 2616 3116 2784 2803 \nL 2784 3322 \nL 3909 3322 \nL 3909 2988 \nL 3359 2988 \nz\nM 2784 1825 \nQ 2784 2422 2554 2737 \nQ 2325 3053 1888 3053 \nQ 1444 3053 1217 2703 \nQ 991 2353 991 1663 \nQ 991 975 1217 622 \nQ 1444 269 1888 269 \nQ 2325 269 2554 583 \nQ 2784 897 2784 1497 \nL 2784 1825 \nz\n\" transform=\"scale(0.015625)\"/>\n        <path id=\"DejaVuSerif-65\" d=\"M 3469 1600 \nL 991 1600 \nL 991 1575 \nQ 991 903 1244 561 \nQ 1497 219 1991 219 \nQ 2369 219 2611 417 \nQ 2853 616 2950 1006 \nL 3413 1006 \nQ 3275 459 2904 184 \nQ 2534 -91 1931 -91 \nQ 1203 -91 761 389 \nQ 319 869 319 1663 \nQ 319 2450 753 2931 \nQ 1188 3413 1894 3413 \nQ 2647 3413 3050 2948 \nQ 3453 2484 3469 1600 \nz\nM 2791 1931 \nQ 2772 2513 2545 2808 \nQ 2319 3103 1894 3103 \nQ 1497 3103 1269 2806 \nQ 1041 2509 991 1931 \nL 2791 1931 \nz\n\" transform=\"scale(0.015625)\"/>\n        <path id=\"DejaVuSerif-72\" d=\"M 3059 3328 \nL 3059 2497 \nL 2728 2497 \nQ 2713 2744 2591 2866 \nQ 2469 2988 2234 2988 \nQ 1809 2988 1582 2694 \nQ 1356 2400 1356 1850 \nL 1356 331 \nL 2022 331 \nL 2022 0 \nL 263 0 \nL 263 331 \nL 781 331 \nL 781 2994 \nL 231 2994 \nL 231 3322 \nL 1356 3322 \nL 1356 2731 \nQ 1525 3078 1790 3245 \nQ 2056 3413 2438 3413 \nQ 2578 3413 2733 3391 \nQ 2888 3369 3059 3328 \nz\n\" transform=\"scale(0.015625)\"/>\n       </defs>\n       <use xlink:href=\"#DejaVuSerif-61\"/>\n       <use xlink:href=\"#DejaVuSerif-6e\" x=\"59.619141\"/>\n       <use xlink:href=\"#DejaVuSerif-67\" x=\"124.023438\"/>\n       <use xlink:href=\"#DejaVuSerif-65\" x=\"188.037109\"/>\n       <use xlink:href=\"#DejaVuSerif-72\" x=\"247.216797\"/>\n      </g>\n     </g>\n    </g>\n    <g id=\"xtick_2\">\n     <g id=\"line2d_2\">\n      <g>\n       <use xlink:href=\"#m70c8e71c64\" x=\"146.786\" y=\"273.312\" style=\"stroke: #000000; stroke-width: 0.8\"/>\n      </g>\n     </g>\n     <g id=\"text_2\">\n      <!-- fear -->\n      <g transform=\"translate(149.545375 300.6745) rotate(-90) scale(0.1 -0.1)\">\n       <defs>\n        <path id=\"DejaVuSerif-66\" d=\"M 2753 4078 \nL 2450 4078 \nQ 2447 4313 2317 4434 \nQ 2188 4556 1941 4556 \nQ 1619 4556 1487 4379 \nQ 1356 4203 1356 3750 \nL 1356 3322 \nL 2284 3322 \nL 2284 2988 \nL 1356 2988 \nL 1356 331 \nL 2094 331 \nL 2094 0 \nL 231 0 \nL 231 331 \nL 781 331 \nL 781 2988 \nL 231 2988 \nL 231 3322 \nL 781 3322 \nL 781 3738 \nQ 781 4294 1070 4578 \nQ 1359 4863 1919 4863 \nQ 2128 4863 2337 4825 \nQ 2547 4788 2753 4709 \nL 2753 4078 \nz\n\" transform=\"scale(0.015625)\"/>\n       </defs>\n       <use xlink:href=\"#DejaVuSerif-66\"/>\n       <use xlink:href=\"#DejaVuSerif-65\" x=\"37.011719\"/>\n       <use xlink:href=\"#DejaVuSerif-61\" x=\"96.191406\"/>\n       <use xlink:href=\"#DejaVuSerif-72\" x=\"155.810547\"/>\n      </g>\n     </g>\n    </g>\n    <g id=\"xtick_3\">\n     <g id=\"line2d_3\">\n      <g>\n       <use xlink:href=\"#m70c8e71c64\" x=\"218.21\" y=\"273.312\" style=\"stroke: #000000; stroke-width: 0.8\"/>\n      </g>\n     </g>\n     <g id=\"text_3\">\n      <!-- joy -->\n      <g transform=\"translate(220.827188 295.082312) rotate(-90) scale(0.1 -0.1)\">\n       <defs>\n        <path id=\"DejaVuSerif-6a\" d=\"M 641 4353 \nQ 641 4497 745 4603 \nQ 850 4709 997 4709 \nQ 1141 4709 1245 4603 \nQ 1350 4497 1350 4353 \nQ 1350 4206 1248 4103 \nQ 1147 4000 997 4000 \nQ 850 4000 745 4103 \nQ 641 4206 641 4353 \nz\nM 781 2988 \nL 238 2988 \nL 238 3322 \nL 1356 3322 \nL 1356 -325 \nQ 1356 -838 1051 -1130 \nQ 747 -1422 213 -1422 \nQ -13 -1422 -217 -1370 \nQ -422 -1319 -616 -1216 \nL -616 -531 \nL -319 -531 \nQ -297 -831 -164 -972 \nQ -31 -1113 225 -1113 \nQ 509 -1113 645 -920 \nQ 781 -728 781 -325 \nL 781 2988 \nz\n\" transform=\"scale(0.015625)\"/>\n        <path id=\"DejaVuSerif-6f\" d=\"M 1925 219 \nQ 2388 219 2623 584 \nQ 2859 950 2859 1663 \nQ 2859 2375 2623 2739 \nQ 2388 3103 1925 3103 \nQ 1463 3103 1227 2739 \nQ 991 2375 991 1663 \nQ 991 950 1228 584 \nQ 1466 219 1925 219 \nz\nM 1925 -91 \nQ 1200 -91 759 389 \nQ 319 869 319 1663 \nQ 319 2456 758 2934 \nQ 1197 3413 1925 3413 \nQ 2653 3413 3092 2934 \nQ 3531 2456 3531 1663 \nQ 3531 869 3092 389 \nQ 2653 -91 1925 -91 \nz\n\" transform=\"scale(0.015625)\"/>\n        <path id=\"DejaVuSerif-79\" d=\"M 1381 -609 \nL 1600 -56 \nL 359 2988 \nL -19 2988 \nL -19 3322 \nL 1509 3322 \nL 1509 2988 \nL 978 2988 \nL 1913 703 \nL 2847 2988 \nL 2350 2988 \nL 2350 3322 \nL 3597 3322 \nL 3597 2988 \nL 3225 2988 \nL 1703 -750 \nQ 1547 -1138 1356 -1280 \nQ 1166 -1422 819 -1422 \nQ 672 -1422 517 -1397 \nQ 363 -1372 206 -1325 \nL 206 -691 \nL 500 -691 \nQ 519 -903 608 -995 \nQ 697 -1088 884 -1088 \nQ 1056 -1088 1161 -992 \nQ 1266 -897 1381 -609 \nz\n\" transform=\"scale(0.015625)\"/>\n       </defs>\n       <use xlink:href=\"#DejaVuSerif-6a\"/>\n       <use xlink:href=\"#DejaVuSerif-6f\" x=\"31.005859\"/>\n       <use xlink:href=\"#DejaVuSerif-79\" x=\"91.210938\"/>\n      </g>\n     </g>\n    </g>\n    <g id=\"xtick_4\">\n     <g id=\"line2d_4\">\n      <g>\n       <use xlink:href=\"#m70c8e71c64\" x=\"289.634\" y=\"273.312\" style=\"stroke: #000000; stroke-width: 0.8\"/>\n      </g>\n     </g>\n     <g id=\"text_4\">\n      <!-- neutral -->\n      <g transform=\"translate(292.393375 317.071375) rotate(-90) scale(0.1 -0.1)\">\n       <defs>\n        <path id=\"DejaVuSerif-75\" d=\"M 2266 3322 \nL 3341 3322 \nL 3341 331 \nL 3884 331 \nL 3884 0 \nL 2766 0 \nL 2766 588 \nQ 2606 256 2353 82 \nQ 2100 -91 1766 -91 \nQ 1213 -91 952 223 \nQ 691 538 691 1209 \nL 691 2988 \nL 172 2988 \nL 172 3322 \nL 1269 3322 \nL 1269 1388 \nQ 1269 781 1417 556 \nQ 1566 331 1947 331 \nQ 2347 331 2556 625 \nQ 2766 919 2766 1478 \nL 2766 2988 \nL 2266 2988 \nL 2266 3322 \nz\n\" transform=\"scale(0.015625)\"/>\n        <path id=\"DejaVuSerif-74\" d=\"M 691 2988 \nL 184 2988 \nL 184 3322 \nL 691 3322 \nL 691 4353 \nL 1269 4353 \nL 1269 3322 \nL 2350 3322 \nL 2350 2988 \nL 1269 2988 \nL 1269 878 \nQ 1269 456 1350 337 \nQ 1431 219 1650 219 \nQ 1875 219 1978 351 \nQ 2081 484 2088 781 \nL 2522 781 \nQ 2497 328 2275 118 \nQ 2053 -91 1600 -91 \nQ 1103 -91 897 129 \nQ 691 350 691 878 \nL 691 2988 \nz\n\" transform=\"scale(0.015625)\"/>\n        <path id=\"DejaVuSerif-6c\" d=\"M 1313 331 \nL 1856 331 \nL 1856 0 \nL 184 0 \nL 184 331 \nL 738 331 \nL 738 4531 \nL 184 4531 \nL 184 4863 \nL 1313 4863 \nL 1313 331 \nz\n\" transform=\"scale(0.015625)\"/>\n       </defs>\n       <use xlink:href=\"#DejaVuSerif-6e\"/>\n       <use xlink:href=\"#DejaVuSerif-65\" x=\"64.404297\"/>\n       <use xlink:href=\"#DejaVuSerif-75\" x=\"123.583984\"/>\n       <use xlink:href=\"#DejaVuSerif-74\" x=\"187.988281\"/>\n       <use xlink:href=\"#DejaVuSerif-72\" x=\"228.173828\"/>\n       <use xlink:href=\"#DejaVuSerif-61\" x=\"275.976562\"/>\n       <use xlink:href=\"#DejaVuSerif-6c\" x=\"335.595703\"/>\n      </g>\n     </g>\n    </g>\n    <g id=\"xtick_5\">\n     <g id=\"line2d_5\">\n      <g>\n       <use xlink:href=\"#m70c8e71c64\" x=\"361.058\" y=\"273.312\" style=\"stroke: #000000; stroke-width: 0.8\"/>\n      </g>\n     </g>\n     <g id=\"text_5\">\n      <!-- sadness -->\n      <g transform=\"translate(363.817375 320.429187) rotate(-90) scale(0.1 -0.1)\">\n       <defs>\n        <path id=\"DejaVuSerif-73\" d=\"M 359 184 \nL 359 959 \nL 691 959 \nQ 703 588 923 403 \nQ 1144 219 1575 219 \nQ 1963 219 2166 364 \nQ 2369 509 2369 788 \nQ 2369 1006 2220 1140 \nQ 2072 1275 1594 1428 \nL 1178 1569 \nQ 750 1706 558 1912 \nQ 366 2119 366 2438 \nQ 366 2894 700 3153 \nQ 1034 3413 1625 3413 \nQ 1888 3413 2178 3344 \nQ 2469 3275 2778 3144 \nL 2778 2419 \nL 2447 2419 \nQ 2434 2741 2221 2922 \nQ 2009 3103 1644 3103 \nQ 1281 3103 1095 2975 \nQ 909 2847 909 2591 \nQ 909 2381 1050 2254 \nQ 1191 2128 1613 1997 \nL 2069 1856 \nQ 2541 1709 2748 1489 \nQ 2956 1269 2956 922 \nQ 2956 450 2595 179 \nQ 2234 -91 1600 -91 \nQ 1278 -91 972 -22 \nQ 666 47 359 184 \nz\n\" transform=\"scale(0.015625)\"/>\n        <path id=\"DejaVuSerif-64\" d=\"M 3359 331 \nL 3909 331 \nL 3909 0 \nL 2784 0 \nL 2784 519 \nQ 2616 206 2355 57 \nQ 2094 -91 1709 -91 \nQ 1097 -91 708 395 \nQ 319 881 319 1663 \nQ 319 2444 706 2928 \nQ 1094 3413 1709 3413 \nQ 2094 3413 2355 3264 \nQ 2616 3116 2784 2803 \nL 2784 4531 \nL 2241 4531 \nL 2241 4863 \nL 3359 4863 \nL 3359 331 \nz\nM 2784 1497 \nL 2784 1825 \nQ 2784 2422 2554 2737 \nQ 2325 3053 1888 3053 \nQ 1444 3053 1217 2703 \nQ 991 2353 991 1663 \nQ 991 975 1217 622 \nQ 1444 269 1888 269 \nQ 2325 269 2554 583 \nQ 2784 897 2784 1497 \nz\n\" transform=\"scale(0.015625)\"/>\n       </defs>\n       <use xlink:href=\"#DejaVuSerif-73\"/>\n       <use xlink:href=\"#DejaVuSerif-61\" x=\"51.318359\"/>\n       <use xlink:href=\"#DejaVuSerif-64\" x=\"110.9375\"/>\n       <use xlink:href=\"#DejaVuSerif-6e\" x=\"174.951172\"/>\n       <use xlink:href=\"#DejaVuSerif-65\" x=\"239.355469\"/>\n       <use xlink:href=\"#DejaVuSerif-73\" x=\"298.535156\"/>\n       <use xlink:href=\"#DejaVuSerif-73\" x=\"349.853516\"/>\n      </g>\n     </g>\n    </g>\n    <g id=\"text_6\">\n     <!-- emotion -->\n     <g transform=\"translate(197.66 332.027625) scale(0.1 -0.1)\">\n      <defs>\n       <path id=\"DejaVuSerif-6d\" d=\"M 3316 2675 \nQ 3481 3041 3739 3227 \nQ 3997 3413 4341 3413 \nQ 4863 3413 5119 3089 \nQ 5375 2766 5375 2113 \nL 5375 331 \nL 5894 331 \nL 5894 0 \nL 4300 0 \nL 4300 331 \nL 4800 331 \nL 4800 2047 \nQ 4800 2556 4650 2772 \nQ 4500 2988 4153 2988 \nQ 3769 2988 3567 2697 \nQ 3366 2406 3366 1850 \nL 3366 331 \nL 3866 331 \nL 3866 0 \nL 2291 0 \nL 2291 331 \nL 2791 331 \nL 2791 2069 \nQ 2791 2566 2641 2777 \nQ 2491 2988 2144 2988 \nQ 1759 2988 1557 2697 \nQ 1356 2406 1356 1850 \nL 1356 331 \nL 1856 331 \nL 1856 0 \nL 263 0 \nL 263 331 \nL 781 331 \nL 781 2994 \nL 231 2994 \nL 231 3322 \nL 1356 3322 \nL 1356 2731 \nQ 1516 3063 1762 3238 \nQ 2009 3413 2322 3413 \nQ 2709 3413 2968 3220 \nQ 3228 3028 3316 2675 \nz\n\" transform=\"scale(0.015625)\"/>\n       <path id=\"DejaVuSerif-69\" d=\"M 622 4353 \nQ 622 4497 726 4603 \nQ 831 4709 978 4709 \nQ 1122 4709 1226 4603 \nQ 1331 4497 1331 4353 \nQ 1331 4206 1228 4103 \nQ 1125 4000 978 4000 \nQ 831 4000 726 4103 \nQ 622 4206 622 4353 \nz\nM 1356 331 \nL 1900 331 \nL 1900 0 \nL 231 0 \nL 231 331 \nL 781 331 \nL 781 2988 \nL 231 2988 \nL 231 3322 \nL 1356 3322 \nL 1356 331 \nz\n\" transform=\"scale(0.015625)\"/>\n      </defs>\n      <use xlink:href=\"#DejaVuSerif-65\"/>\n      <use xlink:href=\"#DejaVuSerif-6d\" x=\"59.179688\"/>\n      <use xlink:href=\"#DejaVuSerif-6f\" x=\"154.003906\"/>\n      <use xlink:href=\"#DejaVuSerif-74\" x=\"214.208984\"/>\n      <use xlink:href=\"#DejaVuSerif-69\" x=\"254.394531\"/>\n      <use xlink:href=\"#DejaVuSerif-6f\" x=\"286.376953\"/>\n      <use xlink:href=\"#DejaVuSerif-6e\" x=\"346.582031\"/>\n     </g>\n    </g>\n   </g>\n   <g id=\"matplotlib.axis_2\">\n    <g id=\"ytick_1\">\n     <g id=\"line2d_6\">\n      <defs>\n       <path id=\"md5b133188c\" d=\"M 0 0 \nL -3.5 0 \n\" style=\"stroke: #000000; stroke-width: 0.8\"/>\n      </defs>\n      <g>\n       <use xlink:href=\"#md5b133188c\" x=\"39.65\" y=\"273.312\" style=\"stroke: #000000; stroke-width: 0.8\"/>\n      </g>\n     </g>\n     <g id=\"text_7\">\n      <!-- 0 -->\n      <g transform=\"translate(26.2875 277.111219) scale(0.1 -0.1)\">\n       <defs>\n        <path id=\"DejaVuSerif-30\" d=\"M 2034 219 \nQ 2513 219 2750 744 \nQ 2988 1269 2988 2328 \nQ 2988 3391 2750 3916 \nQ 2513 4441 2034 4441 \nQ 1556 4441 1318 3916 \nQ 1081 3391 1081 2328 \nQ 1081 1269 1318 744 \nQ 1556 219 2034 219 \nz\nM 2034 -91 \nQ 1275 -91 848 546 \nQ 422 1184 422 2328 \nQ 422 3475 848 4112 \nQ 1275 4750 2034 4750 \nQ 2797 4750 3222 4112 \nQ 3647 3475 3647 2328 \nQ 3647 1184 3222 546 \nQ 2797 -91 2034 -91 \nz\n\" transform=\"scale(0.015625)\"/>\n       </defs>\n       <use xlink:href=\"#DejaVuSerif-30\"/>\n      </g>\n     </g>\n    </g>\n    <g id=\"ytick_2\">\n     <g id=\"line2d_7\">\n      <g>\n       <use xlink:href=\"#md5b133188c\" x=\"39.65\" y=\"231.072\" style=\"stroke: #000000; stroke-width: 0.8\"/>\n      </g>\n     </g>\n     <g id=\"text_8\">\n      <!-- 200 -->\n      <g transform=\"translate(13.5625 234.871219) scale(0.1 -0.1)\">\n       <defs>\n        <path id=\"DejaVuSerif-32\" d=\"M 819 3553 \nL 469 3553 \nL 469 4384 \nQ 803 4563 1142 4656 \nQ 1481 4750 1806 4750 \nQ 2534 4750 2956 4397 \nQ 3378 4044 3378 3438 \nQ 3378 2753 2422 1800 \nQ 2347 1728 2309 1691 \nL 1131 513 \nL 3078 513 \nL 3078 1088 \nL 3444 1088 \nL 3444 0 \nL 434 0 \nL 434 341 \nL 1850 1753 \nQ 2319 2222 2519 2614 \nQ 2719 3006 2719 3438 \nQ 2719 3909 2473 4175 \nQ 2228 4441 1797 4441 \nQ 1350 4441 1106 4219 \nQ 863 3997 819 3553 \nz\n\" transform=\"scale(0.015625)\"/>\n       </defs>\n       <use xlink:href=\"#DejaVuSerif-32\"/>\n       <use xlink:href=\"#DejaVuSerif-30\" x=\"63.623047\"/>\n       <use xlink:href=\"#DejaVuSerif-30\" x=\"127.246094\"/>\n      </g>\n     </g>\n    </g>\n    <g id=\"ytick_3\">\n     <g id=\"line2d_8\">\n      <g>\n       <use xlink:href=\"#md5b133188c\" x=\"39.65\" y=\"188.832\" style=\"stroke: #000000; stroke-width: 0.8\"/>\n      </g>\n     </g>\n     <g id=\"text_9\">\n      <!-- 400 -->\n      <g transform=\"translate(13.5625 192.631219) scale(0.1 -0.1)\">\n       <defs>\n        <path id=\"DejaVuSerif-34\" d=\"M 2234 1581 \nL 2234 4063 \nL 641 1581 \nL 2234 1581 \nz\nM 3609 0 \nL 1484 0 \nL 1484 331 \nL 2234 331 \nL 2234 1247 \nL 197 1247 \nL 197 1588 \nL 2241 4750 \nL 2859 4750 \nL 2859 1581 \nL 3750 1581 \nL 3750 1247 \nL 2859 1247 \nL 2859 331 \nL 3609 331 \nL 3609 0 \nz\n\" transform=\"scale(0.015625)\"/>\n       </defs>\n       <use xlink:href=\"#DejaVuSerif-34\"/>\n       <use xlink:href=\"#DejaVuSerif-30\" x=\"63.623047\"/>\n       <use xlink:href=\"#DejaVuSerif-30\" x=\"127.246094\"/>\n      </g>\n     </g>\n    </g>\n    <g id=\"ytick_4\">\n     <g id=\"line2d_9\">\n      <g>\n       <use xlink:href=\"#md5b133188c\" x=\"39.65\" y=\"146.592\" style=\"stroke: #000000; stroke-width: 0.8\"/>\n      </g>\n     </g>\n     <g id=\"text_10\">\n      <!-- 600 -->\n      <g transform=\"translate(13.5625 150.391219) scale(0.1 -0.1)\">\n       <defs>\n        <path id=\"DejaVuSerif-36\" d=\"M 2094 219 \nQ 2534 219 2771 542 \nQ 3009 866 3009 1472 \nQ 3009 2078 2771 2401 \nQ 2534 2725 2094 2725 \nQ 1647 2725 1412 2412 \nQ 1178 2100 1178 1509 \nQ 1178 888 1415 553 \nQ 1653 219 2094 219 \nz\nM 1075 2569 \nQ 1288 2803 1556 2918 \nQ 1825 3034 2163 3034 \nQ 2859 3034 3264 2615 \nQ 3669 2197 3669 1472 \nQ 3669 763 3233 336 \nQ 2797 -91 2069 -91 \nQ 1278 -91 853 498 \nQ 428 1088 428 2181 \nQ 428 3406 931 4078 \nQ 1434 4750 2350 4750 \nQ 2597 4750 2869 4703 \nQ 3141 4656 3425 4563 \nL 3425 3794 \nL 3072 3794 \nQ 3034 4109 2831 4275 \nQ 2628 4441 2284 4441 \nQ 1678 4441 1381 3981 \nQ 1084 3522 1075 2569 \nz\n\" transform=\"scale(0.015625)\"/>\n       </defs>\n       <use xlink:href=\"#DejaVuSerif-36\"/>\n       <use xlink:href=\"#DejaVuSerif-30\" x=\"63.623047\"/>\n       <use xlink:href=\"#DejaVuSerif-30\" x=\"127.246094\"/>\n      </g>\n     </g>\n    </g>\n    <g id=\"ytick_5\">\n     <g id=\"line2d_10\">\n      <g>\n       <use xlink:href=\"#md5b133188c\" x=\"39.65\" y=\"104.352\" style=\"stroke: #000000; stroke-width: 0.8\"/>\n      </g>\n     </g>\n     <g id=\"text_11\">\n      <!-- 800 -->\n      <g transform=\"translate(13.5625 108.151219) scale(0.1 -0.1)\">\n       <defs>\n        <path id=\"DejaVuSerif-38\" d=\"M 2981 1275 \nQ 2981 1775 2732 2051 \nQ 2484 2328 2034 2328 \nQ 1584 2328 1336 2051 \nQ 1088 1775 1088 1275 \nQ 1088 772 1336 495 \nQ 1584 219 2034 219 \nQ 2484 219 2732 495 \nQ 2981 772 2981 1275 \nz\nM 2853 3541 \nQ 2853 3966 2637 4203 \nQ 2422 4441 2034 4441 \nQ 1650 4441 1433 4203 \nQ 1216 3966 1216 3541 \nQ 1216 3113 1433 2875 \nQ 1650 2638 2034 2638 \nQ 2422 2638 2637 2875 \nQ 2853 3113 2853 3541 \nz\nM 2516 2484 \nQ 3047 2413 3344 2092 \nQ 3641 1772 3641 1275 \nQ 3641 619 3225 264 \nQ 2809 -91 2034 -91 \nQ 1263 -91 845 264 \nQ 428 619 428 1275 \nQ 428 1772 725 2092 \nQ 1022 2413 1556 2484 \nQ 1084 2569 832 2842 \nQ 581 3116 581 3541 \nQ 581 4103 968 4426 \nQ 1356 4750 2034 4750 \nQ 2713 4750 3100 4426 \nQ 3488 4103 3488 3541 \nQ 3488 3116 3236 2842 \nQ 2984 2569 2516 2484 \nz\n\" transform=\"scale(0.015625)\"/>\n       </defs>\n       <use xlink:href=\"#DejaVuSerif-38\"/>\n       <use xlink:href=\"#DejaVuSerif-30\" x=\"63.623047\"/>\n       <use xlink:href=\"#DejaVuSerif-30\" x=\"127.246094\"/>\n      </g>\n     </g>\n    </g>\n    <g id=\"ytick_6\">\n     <g id=\"line2d_11\">\n      <g>\n       <use xlink:href=\"#md5b133188c\" x=\"39.65\" y=\"62.112\" style=\"stroke: #000000; stroke-width: 0.8\"/>\n      </g>\n     </g>\n     <g id=\"text_12\">\n      <!-- 1000 -->\n      <g transform=\"translate(7.2 65.911219) scale(0.1 -0.1)\">\n       <defs>\n        <path id=\"DejaVuSerif-31\" d=\"M 909 0 \nL 909 331 \nL 1722 331 \nL 1722 4213 \nL 781 3603 \nL 781 4013 \nL 1919 4750 \nL 2350 4750 \nL 2350 331 \nL 3163 331 \nL 3163 0 \nL 909 0 \nz\n\" transform=\"scale(0.015625)\"/>\n       </defs>\n       <use xlink:href=\"#DejaVuSerif-31\"/>\n       <use xlink:href=\"#DejaVuSerif-30\" x=\"63.623047\"/>\n       <use xlink:href=\"#DejaVuSerif-30\" x=\"127.246094\"/>\n       <use xlink:href=\"#DejaVuSerif-30\" x=\"190.869141\"/>\n      </g>\n     </g>\n    </g>\n    <g id=\"ytick_7\">\n     <g id=\"line2d_12\">\n      <g>\n       <use xlink:href=\"#md5b133188c\" x=\"39.65\" y=\"19.872\" style=\"stroke: #000000; stroke-width: 0.8\"/>\n      </g>\n     </g>\n     <g id=\"text_13\">\n      <!-- 1200 -->\n      <g transform=\"translate(7.2 23.671219) scale(0.1 -0.1)\">\n       <use xlink:href=\"#DejaVuSerif-31\"/>\n       <use xlink:href=\"#DejaVuSerif-32\" x=\"63.623047\"/>\n       <use xlink:href=\"#DejaVuSerif-30\" x=\"127.246094\"/>\n       <use xlink:href=\"#DejaVuSerif-30\" x=\"190.869141\"/>\n      </g>\n     </g>\n    </g>\n   </g>\n   <g id=\"patch_8\">\n    <path d=\"M 39.65 273.312 \nL 39.65 7.2 \n\" style=\"fill: none; stroke: #000000; stroke-width: 0.8; stroke-linejoin: miter; stroke-linecap: square\"/>\n   </g>\n   <g id=\"patch_9\">\n    <path d=\"M 396.77 273.312 \nL 396.77 7.2 \n\" style=\"fill: none; stroke: #000000; stroke-width: 0.8; stroke-linejoin: miter; stroke-linecap: square\"/>\n   </g>\n   <g id=\"patch_10\">\n    <path d=\"M 39.65 273.312 \nL 396.77 273.312 \n\" style=\"fill: none; stroke: #000000; stroke-width: 0.8; stroke-linejoin: miter; stroke-linecap: square\"/>\n   </g>\n   <g id=\"patch_11\">\n    <path d=\"M 39.65 7.2 \nL 396.77 7.2 \n\" style=\"fill: none; stroke: #000000; stroke-width: 0.8; stroke-linejoin: miter; stroke-linecap: square\"/>\n   </g>\n   <g id=\"legend_1\">\n    <g id=\"patch_12\">\n     <path d=\"M 329.335625 29.878125 \nL 389.77 29.878125 \nQ 391.77 29.878125 391.77 27.878125 \nL 391.77 14.2 \nQ 391.77 12.2 389.77 12.2 \nL 329.335625 12.2 \nQ 327.335625 12.2 327.335625 14.2 \nL 327.335625 27.878125 \nQ 327.335625 29.878125 329.335625 29.878125 \nz\n\" style=\"fill: #ffffff; opacity: 0.8; stroke: #cccccc; stroke-linejoin: miter\"/>\n    </g>\n    <g id=\"patch_13\">\n     <path d=\"M 331.335625 23.798437 \nL 351.335625 23.798437 \nL 351.335625 16.798437 \nL 331.335625 16.798437 \nz\n\" style=\"fill: #1f77b4\"/>\n    </g>\n    <g id=\"text_14\">\n     <!-- tweet -->\n     <g transform=\"translate(359.335625 23.798437) scale(0.1 -0.1)\">\n      <defs>\n       <path id=\"DejaVuSerif-77\" d=\"M 3072 3322 \nL 3922 728 \nL 4672 2988 \nL 4191 2988 \nL 4191 3322 \nL 5394 3322 \nL 5394 2988 \nL 5025 2988 \nL 4038 0 \nL 3559 0 \nL 2741 2484 \nL 1919 0 \nL 1459 0 \nL 475 2988 \nL 103 2988 \nL 103 3322 \nL 1606 3322 \nL 1606 2988 \nL 1069 2988 \nL 1813 728 \nL 2669 3322 \nL 3072 3322 \nz\n\" transform=\"scale(0.015625)\"/>\n      </defs>\n      <use xlink:href=\"#DejaVuSerif-74\"/>\n      <use xlink:href=\"#DejaVuSerif-77\" x=\"40.185547\"/>\n      <use xlink:href=\"#DejaVuSerif-65\" x=\"125.78125\"/>\n      <use xlink:href=\"#DejaVuSerif-65\" x=\"184.960938\"/>\n      <use xlink:href=\"#DejaVuSerif-74\" x=\"244.140625\"/>\n     </g>\n    </g>\n   </g>\n  </g>\n </g>\n <defs>\n  <clipPath id=\"p83f41e4e85\">\n   <rect x=\"39.65\" y=\"7.2\" width=\"357.12\" height=\"266.112\"/>\n  </clipPath>\n </defs>\n</svg>\n"
          },
          "metadata": {}
        },
        {
          "output_type": "stream",
          "name": "stdout",
          "text": [
            "         tweet\n",
            "emotion       \n",
            "anger     1200\n",
            "fear      1200\n",
            "joy       1200\n",
            "neutral   1200\n",
            "sadness   1200\n"
          ]
        }
      ],
      "source": [
        "df_train = pd.read_csv(\"wassa_train.csv\")\n",
        "df_val = pd.read_csv(\"wassa_val.csv\")\n",
        "df_test = pd.read_csv(\"wassa_test.csv\")\n",
        "n_samples = df_train[[\"tweet\", \"emotion\"]].groupby(\"emotion\").count()\n",
        "n_samples.plot(kind=\"bar\")\n",
        "plt.show()\n",
        "\n",
        "print(n_samples)"
      ]
    },
    {
      "cell_type": "code",
      "execution_count": null,
      "metadata": {
        "id": "nfLa7cbWXU3c"
      },
      "outputs": [],
      "source": [
        "labels = ['joy', 'anger', 'fear', 'sadness', 'neutral']"
      ]
    },
    {
      "cell_type": "markdown",
      "metadata": {
        "id": "GbDG0rDS7nnN"
      },
      "source": [
        "# Useful functions"
      ]
    },
    {
      "cell_type": "code",
      "execution_count": null,
      "metadata": {
        "id": "w6BunpRn0tjc"
      },
      "outputs": [],
      "source": [
        "def pickle_object(object, location):\n",
        "    filehandler = open(location, \"wb\")\n",
        "    pickle.dump(object, filehandler)\n",
        "    filehandler.close()\n",
        "\n",
        "def pickle_load_object(location):\n",
        "    file = open(location, 'rb')\n",
        "    object = pickle.load(file)\n",
        "    file.close()\n",
        "    return object\n",
        "\n",
        "def plot_confusion_matrix(cm,\n",
        "                          target_names,\n",
        "                          title='Confusion matrix',\n",
        "                          cmap=None,\n",
        "                          normalize=True):\n",
        "    accuracy = np.trace(cm) / float(np.sum(cm))\n",
        "    misclass = 1 - accuracy\n",
        "    cmap='Purples'\n",
        "    if cmap is None:\n",
        "        cmap = plt.get_cmap('Purples')\n",
        "\n",
        "    plt.rcParams.update({'font.size': 20})\n",
        "    plt.figure(figsize=(12, 8))\n",
        "    im = plt.imshow(cm, interpolation='nearest', cmap=cmap)\n",
        "    plt.title(title)\n",
        "    plt.colorbar()\n",
        "\n",
        "    if target_names is not None:\n",
        "        tick_marks = np.arange(len(target_names))\n",
        "        plt.xticks(tick_marks, target_names, rotation=45)\n",
        "        plt.yticks(tick_marks, target_names)\n",
        "\n",
        "    if normalize:\n",
        "        cm = cm.astype('float') / cm.sum(axis=1)[:, np.newaxis]\n",
        "\n",
        "    thresh = cm.max() / 1.5 if normalize else cm.max() / 2\n",
        "    for i, j in itertools.product(range(cm.shape[0]), range(cm.shape[1])):\n",
        "        if normalize:\n",
        "            plt.text(j, i, \"{:0.4f}\".format(cm[i, j]),\n",
        "                     horizontalalignment=\"center\",\n",
        "                     color=\"white\" if cm[i, j] > thresh else \"black\")\n",
        "        else:\n",
        "            plt.text(j, i, \"{:,}\".format(cm[i, j]),\n",
        "                     horizontalalignment=\"center\",\n",
        "                     color=\"white\" if cm[i, j] > thresh else \"black\")\n",
        "\n",
        "    plt.tight_layout()\n",
        "    plt.ylabel('True label')\n",
        "    im = plt.xlabel('Predicted label\\naccuracy={:0.4f}; misclass={:0.4f}'.format(accuracy, misclass))\n",
        "    plt.show()\n",
        "\n",
        "def compute_metrics(y_true, predictions):\n",
        "  average = \"macro\"\n",
        "  acc = accuracy_score(y_true, predictions)\n",
        "  precision = precision_score(y_true, predictions, average=average)\n",
        "  recall = recall_score(y_true, predictions, average=average)\n",
        "  f1 = f1_score(y_true, predictions, average=average)\n",
        "  print(f\"Model has acc = {acc}\\n, precision = {precision}\\n, recall = {recall}\\n, f1_score = {f1}\\n\")\n",
        "\n",
        "\n"
      ]
    },
    {
      "cell_type": "code",
      "execution_count": null,
      "metadata": {
        "id": "xrHpvKvp2r4d"
      },
      "outputs": [],
      "source": [
        "def preprocess_text(text, stop_words):\n",
        "    # make lowercase and strip empty spaces\n",
        "    result = text.lower()\n",
        "    # strip extra spaces\n",
        "    result = result.strip()\n",
        "    # eliminate URLs\n",
        "    result = re.result = re.sub(r\"http\\S+\", \"\", result)\n",
        "    # eliminate email addresses\n",
        "    result = re.sub('\\S*@\\S*\\s?', '', result)\n",
        "    # strip diacritics\n",
        "    result = unidecode.unidecode(result)\n",
        "    # english stopwords\n",
        "    word_list = word_tokenize(result)\n",
        "    # english stemmer\n",
        "    ps = SnowballStemmer(\"english\")\n",
        "\n",
        "    stemmed_sentence = \"\"\n",
        "    for word in word_list:\n",
        "        if word not in stop_words:\n",
        "            stemmed_sentence += ps.stem(word)\n",
        "            stemmed_sentence += \" \"\n",
        "\n",
        "    result = stemmed_sentence\n",
        "    whitelist = set('abcdefghijklmnopqrstuvwxyz ABCDEFGHIJKLMNOPQRSTUVWXYZ')\n",
        "    result = ''.join(filter(whitelist.__contains__, result))\n",
        "    result = ''.join([i for i in result if not i.isdigit()])\n",
        "    return result"
      ]
    },
    {
      "cell_type": "code",
      "execution_count": null,
      "metadata": {
        "id": "8NcnQLm_8RLT"
      },
      "outputs": [],
      "source": [
        "def preprocess_text_list(text_list, stop_words):\n",
        "  for i,text in enumerate(text_list):\n",
        "    text_list[i] = preprocess_text(text_list[i], stop_words)"
      ]
    },
    {
      "cell_type": "code",
      "execution_count": null,
      "metadata": {
        "id": "wJtXIyn1n5c2"
      },
      "outputs": [],
      "source": [
        "def pickle_object(object, location):\n",
        "    filehandler = open(location, \"wb\")\n",
        "    pickle.dump(object, filehandler)\n",
        "    filehandler.close()\n",
        "\n",
        "def pickle_load_object(location):\n",
        "    file = open(location, 'rb')\n",
        "    object = pickle.load(file)\n",
        "    file.close()\n",
        "    return object"
      ]
    },
    {
      "cell_type": "code",
      "execution_count": null,
      "metadata": {
        "id": "c4OTA3CzOLJw"
      },
      "outputs": [],
      "source": [
        "def compute_metrics(y_true, predictions):\n",
        "  average = \"macro\"\n",
        "  acc = accuracy_score(y_true, predictions)\n",
        "  precision = precision_score(y_true, predictions, average=average)\n",
        "  recall = recall_score(y_true, predictions, average=average)\n",
        "  f1 = f1_score(y_true, predictions, average=average)\n",
        "  print(f\"Model has acc = {acc}\\n, precision = {precision}\\n, recall = {recall}\\n, f1_score = {f1}\\n\")\n"
      ]
    },
    {
      "cell_type": "markdown",
      "metadata": {
        "id": "sRZifY9j72zY"
      },
      "source": [
        "# Preprocessing"
      ]
    },
    {
      "cell_type": "code",
      "execution_count": null,
      "metadata": {
        "colab": {
          "base_uri": "https://localhost:8080/"
        },
        "id": "vEq7_CJt-0p1",
        "outputId": "294f8278-1270-4ed4-fb52-20d80d09e411"
      },
      "outputs": [
        {
          "output_type": "execute_result",
          "data": {
            "text/plain": [
              "['joy',\n",
              " 'anger',\n",
              " 'neutral',\n",
              " 'neutral',\n",
              " 'anger',\n",
              " 'joy',\n",
              " 'neutral',\n",
              " 'sadness',\n",
              " 'sadness',\n",
              " 'neutral']"
            ]
          },
          "metadata": {},
          "execution_count": 16
        }
      ],
      "source": [
        "train_texts = df_train[\"tweet\"].tolist()\n",
        "val_texts = df_val[\"tweet\"].tolist()\n",
        "test_texts = df_test[\"tweet\"].tolist()\n",
        "\n",
        "\n",
        "train_labels = df_train[\"emotion\"].tolist()\n",
        "val_labels = df_val[\"emotion\"].tolist()\n",
        "test_labels = df_test[\"emotion\"].tolist()\n",
        "\n",
        "train_labels[:10]"
      ]
    },
    {
      "cell_type": "code",
      "execution_count": null,
      "metadata": {
        "colab": {
          "base_uri": "https://localhost:8080/"
        },
        "id": "c481b9NEwP7H",
        "outputId": "ed30d3c4-f037-4039-da9f-4e59892bd317"
      },
      "outputs": [
        {
          "output_type": "execute_result",
          "data": {
            "text/plain": [
              "(750, 6000, 750)"
            ]
          },
          "metadata": {},
          "execution_count": 17
        }
      ],
      "source": [
        "len(test_labels), len(train_labels), len(val_labels)"
      ]
    },
    {
      "cell_type": "markdown",
      "metadata": {
        "id": "inPyrexYEHCO"
      },
      "source": [
        "## English"
      ]
    },
    {
      "cell_type": "code",
      "execution_count": null,
      "metadata": {
        "colab": {
          "base_uri": "https://localhost:8080/"
        },
        "id": "jkin3q-Z1b7V",
        "outputId": "311f6a20-b5b4-4d43-a78a-c2080fa297b5"
      },
      "outputs": [
        {
          "output_type": "execute_result",
          "data": {
            "text/plain": [
              "['kinda wish watch mischiev kiss play kiss ',\n",
              " 'forget mention bought dreamboy ticket ',\n",
              " 'yep  jimmi buffett ftw     jimmi need tweet word wisdom everi morn ',\n",
              " 'blue sky   s still grey hazi window ',\n",
              " 'move clip youtub tonight vigil held tulsa metropolitan baptist church  terencecruth  justic  sad ',\n",
              " 'make success  happi forev ',\n",
              " 'morn hon  breakfast  cant decid ',\n",
              " 'standard candic start show pout  startasyoumeantogoon  gbbo ',\n",
              " '   would frown bit  fold arm  whi everi time m need assist someon expect lil   ',\n",
              " 'someon make cofffeeeeee  ']"
            ]
          },
          "metadata": {},
          "execution_count": 18
        }
      ],
      "source": [
        "stop_words = stopwords.words(\"english\")  # loads english stopwords\n",
        "\n",
        "preprocess_text_list(train_texts, stop_words)\n",
        "preprocess_text_list(val_texts,  stop_words)\n",
        "preprocess_text_list(test_texts, stop_words)\n",
        "\n",
        "train_texts[:10]"
      ]
    },
    {
      "cell_type": "markdown",
      "metadata": {
        "id": "Gc7hkBzUGul-"
      },
      "source": [
        "# Encoding"
      ]
    },
    {
      "cell_type": "code",
      "execution_count": null,
      "metadata": {
        "colab": {
          "base_uri": "https://localhost:8080/",
          "height": 74
        },
        "id": "nWD9CKyGCzC0",
        "outputId": "d30414de-843f-4c95-ad98-6daae67939bc"
      },
      "outputs": [
        {
          "output_type": "execute_result",
          "data": {
            "text/plain": [
              "TfidfVectorizer()"
            ],
            "text/html": [
              "<style>#sk-container-id-1 {color: black;background-color: white;}#sk-container-id-1 pre{padding: 0;}#sk-container-id-1 div.sk-toggleable {background-color: white;}#sk-container-id-1 label.sk-toggleable__label {cursor: pointer;display: block;width: 100%;margin-bottom: 0;padding: 0.3em;box-sizing: border-box;text-align: center;}#sk-container-id-1 label.sk-toggleable__label-arrow:before {content: \"▸\";float: left;margin-right: 0.25em;color: #696969;}#sk-container-id-1 label.sk-toggleable__label-arrow:hover:before {color: black;}#sk-container-id-1 div.sk-estimator:hover label.sk-toggleable__label-arrow:before {color: black;}#sk-container-id-1 div.sk-toggleable__content {max-height: 0;max-width: 0;overflow: hidden;text-align: left;background-color: #f0f8ff;}#sk-container-id-1 div.sk-toggleable__content pre {margin: 0.2em;color: black;border-radius: 0.25em;background-color: #f0f8ff;}#sk-container-id-1 input.sk-toggleable__control:checked~div.sk-toggleable__content {max-height: 200px;max-width: 100%;overflow: auto;}#sk-container-id-1 input.sk-toggleable__control:checked~label.sk-toggleable__label-arrow:before {content: \"▾\";}#sk-container-id-1 div.sk-estimator input.sk-toggleable__control:checked~label.sk-toggleable__label {background-color: #d4ebff;}#sk-container-id-1 div.sk-label input.sk-toggleable__control:checked~label.sk-toggleable__label {background-color: #d4ebff;}#sk-container-id-1 input.sk-hidden--visually {border: 0;clip: rect(1px 1px 1px 1px);clip: rect(1px, 1px, 1px, 1px);height: 1px;margin: -1px;overflow: hidden;padding: 0;position: absolute;width: 1px;}#sk-container-id-1 div.sk-estimator {font-family: monospace;background-color: #f0f8ff;border: 1px dotted black;border-radius: 0.25em;box-sizing: border-box;margin-bottom: 0.5em;}#sk-container-id-1 div.sk-estimator:hover {background-color: #d4ebff;}#sk-container-id-1 div.sk-parallel-item::after {content: \"\";width: 100%;border-bottom: 1px solid gray;flex-grow: 1;}#sk-container-id-1 div.sk-label:hover label.sk-toggleable__label {background-color: #d4ebff;}#sk-container-id-1 div.sk-serial::before {content: \"\";position: absolute;border-left: 1px solid gray;box-sizing: border-box;top: 0;bottom: 0;left: 50%;z-index: 0;}#sk-container-id-1 div.sk-serial {display: flex;flex-direction: column;align-items: center;background-color: white;padding-right: 0.2em;padding-left: 0.2em;position: relative;}#sk-container-id-1 div.sk-item {position: relative;z-index: 1;}#sk-container-id-1 div.sk-parallel {display: flex;align-items: stretch;justify-content: center;background-color: white;position: relative;}#sk-container-id-1 div.sk-item::before, #sk-container-id-1 div.sk-parallel-item::before {content: \"\";position: absolute;border-left: 1px solid gray;box-sizing: border-box;top: 0;bottom: 0;left: 50%;z-index: -1;}#sk-container-id-1 div.sk-parallel-item {display: flex;flex-direction: column;z-index: 1;position: relative;background-color: white;}#sk-container-id-1 div.sk-parallel-item:first-child::after {align-self: flex-end;width: 50%;}#sk-container-id-1 div.sk-parallel-item:last-child::after {align-self: flex-start;width: 50%;}#sk-container-id-1 div.sk-parallel-item:only-child::after {width: 0;}#sk-container-id-1 div.sk-dashed-wrapped {border: 1px dashed gray;margin: 0 0.4em 0.5em 0.4em;box-sizing: border-box;padding-bottom: 0.4em;background-color: white;}#sk-container-id-1 div.sk-label label {font-family: monospace;font-weight: bold;display: inline-block;line-height: 1.2em;}#sk-container-id-1 div.sk-label-container {text-align: center;}#sk-container-id-1 div.sk-container {/* jupyter's `normalize.less` sets `[hidden] { display: none; }` but bootstrap.min.css set `[hidden] { display: none !important; }` so we also need the `!important` here to be able to override the default hidden behavior on the sphinx rendered scikit-learn.org. See: https://github.com/scikit-learn/scikit-learn/issues/21755 */display: inline-block !important;position: relative;}#sk-container-id-1 div.sk-text-repr-fallback {display: none;}</style><div id=\"sk-container-id-1\" class=\"sk-top-container\"><div class=\"sk-text-repr-fallback\"><pre>TfidfVectorizer()</pre><b>In a Jupyter environment, please rerun this cell to show the HTML representation or trust the notebook. <br />On GitHub, the HTML representation is unable to render, please try loading this page with nbviewer.org.</b></div><div class=\"sk-container\" hidden><div class=\"sk-item\"><div class=\"sk-estimator sk-toggleable\"><input class=\"sk-toggleable__control sk-hidden--visually\" id=\"sk-estimator-id-1\" type=\"checkbox\" checked><label for=\"sk-estimator-id-1\" class=\"sk-toggleable__label sk-toggleable__label-arrow\">TfidfVectorizer</label><div class=\"sk-toggleable__content\"><pre>TfidfVectorizer()</pre></div></div></div></div></div>"
            ]
          },
          "metadata": {},
          "execution_count": 19
        }
      ],
      "source": [
        " # Vectorizing texts\n",
        " vectorizer = TfidfVectorizer()\n",
        " vectorizer.fit(train_texts)"
      ]
    },
    {
      "cell_type": "code",
      "execution_count": null,
      "metadata": {
        "colab": {
          "base_uri": "https://localhost:8080/"
        },
        "id": "gX3TlGmQVV69",
        "outputId": "f23e07a3-6b16-483e-caa5-7d1a952f8094"
      },
      "outputs": [
        {
          "output_type": "execute_result",
          "data": {
            "text/plain": [
              "9239"
            ]
          },
          "metadata": {},
          "execution_count": 20
        }
      ],
      "source": [
        "len(vectorizer.get_feature_names_out())"
      ]
    },
    {
      "cell_type": "code",
      "execution_count": null,
      "metadata": {
        "id": "cs4g_VH8CqR-"
      },
      "outputs": [],
      "source": [
        "vectorized_train_texts = vectorizer.transform(train_texts)\n",
        "vectorized_val_texts = vectorizer.transform(val_texts)\n",
        "vectorized_test_texts = vectorizer.transform(test_texts)"
      ]
    },
    {
      "cell_type": "code",
      "execution_count": null,
      "metadata": {
        "id": "50LiZ9o88Ipv"
      },
      "outputs": [],
      "source": [
        "# label encoding\n",
        "label_encoder = LabelEncoder()\n",
        "encoded_train_labels = label_encoder.fit_transform(train_labels)\n",
        "encoded_val_labels = label_encoder.transform(val_labels)\n",
        "encoded_test_labels = label_encoder.transform(test_labels)"
      ]
    },
    {
      "cell_type": "code",
      "execution_count": null,
      "metadata": {
        "colab": {
          "base_uri": "https://localhost:8080/"
        },
        "id": "a-NYlgqywGNI",
        "outputId": "239e6456-4efd-455a-cfcd-d64204a8d22e"
      },
      "outputs": [
        {
          "output_type": "execute_result",
          "data": {
            "text/plain": [
              "array([4, 0, 3, 4, 3, 2, 3, 4, 3, 1, 0, 4, 4, 1, 4, 2, 4, 4, 3, 2, 0, 4,\n",
              "       3, 1, 3, 3, 3, 0, 0, 4, 4, 2, 2, 2, 0, 0, 3, 1, 3, 3, 4, 3, 4, 4,\n",
              "       2, 0, 1, 0, 2, 4, 2, 1, 0, 0, 0, 2, 0, 2, 0, 4, 0, 3, 1, 3, 4, 3,\n",
              "       2, 1, 2, 4, 4, 0, 3, 4, 1, 2, 0, 4, 3, 4, 4, 2, 0, 2, 1, 3, 2, 3,\n",
              "       0, 3, 0, 3, 1, 1, 2, 0, 3, 3, 1, 2, 3, 1, 3, 1, 0, 0, 3, 2, 4, 3,\n",
              "       2, 1, 0, 1, 3, 1, 4, 1, 3, 2, 3, 3, 3, 3, 1, 0, 1, 1, 4, 4, 1, 3,\n",
              "       0, 4, 4, 0, 1, 3, 0, 2, 2, 1, 1, 4, 2, 2, 4, 1, 2, 4, 0, 4, 2, 3,\n",
              "       2, 3, 0, 3, 1, 2, 4, 1, 3, 2, 1, 2, 1, 0, 4, 3, 0, 3, 2, 3, 2, 4,\n",
              "       1, 3, 3, 2, 4, 4, 2, 0, 3, 1, 4, 2, 0, 2, 1, 4, 1, 1, 0, 1, 0, 0,\n",
              "       0, 4, 4, 2, 1, 2, 4, 4, 4, 0, 3, 0, 0, 0, 3, 3, 3, 0, 2, 1, 2, 2,\n",
              "       1, 1, 4, 4, 0, 1, 4, 1, 2, 1, 2, 2, 3, 0, 3, 0, 3, 0, 3, 4, 2, 1,\n",
              "       3, 0, 1, 2, 3, 0, 3, 1, 2, 2, 0, 2, 3, 3, 4, 2, 0, 1, 1, 3, 0, 3,\n",
              "       2, 3, 0, 1, 4, 0, 1, 1, 0, 2, 4, 0, 1, 1, 2, 4, 3, 0, 1, 0, 0, 4,\n",
              "       1, 2, 1, 0, 1, 2, 1, 0, 0, 0, 2, 3, 0, 4, 0, 0, 0, 4, 0, 4, 3, 2,\n",
              "       0, 3, 0, 0, 3, 1, 4, 2, 2, 2, 0, 1, 1, 3, 3, 3, 0, 4, 0, 1, 0, 0,\n",
              "       2, 1, 1, 4, 3, 4, 4, 4, 1, 3, 0, 1, 0, 1, 4, 3, 3, 2, 0, 2, 1, 3,\n",
              "       2, 1, 3, 0, 2, 3, 1, 2, 1, 0, 2, 2, 3, 3, 3, 3, 2, 1, 1, 3, 4, 3,\n",
              "       4, 4, 1, 2, 1, 2, 0, 4, 1, 0, 0, 0, 0, 3, 1, 2, 2, 3, 2, 3, 0, 0,\n",
              "       4, 3, 4, 4, 4, 4, 0, 0, 1, 3, 2, 2, 3, 3, 4, 1, 4, 1, 1, 1, 0, 4,\n",
              "       3, 4, 4, 3, 3, 2, 1, 3, 4, 1, 1, 4, 4, 0, 1, 3, 0, 2, 2, 0, 2, 0,\n",
              "       3, 1, 2, 0, 1, 2, 4, 4, 0, 0, 0, 0, 4, 1, 0, 1, 3, 4, 0, 1, 0, 2,\n",
              "       2, 0, 1, 1, 4, 4, 3, 1, 3, 4, 2, 4, 2, 0, 4, 0, 1, 3, 3, 0, 2, 3,\n",
              "       2, 1, 4, 4, 2, 1, 4, 2, 4, 1, 0, 4, 4, 2, 2, 4, 2, 0, 3, 0, 3, 1,\n",
              "       4, 0, 4, 1, 2, 3, 2, 1, 4, 4, 4, 0, 1, 1, 0, 4, 3, 4, 4, 1, 1, 3,\n",
              "       3, 1, 0, 1, 2, 1, 2, 3, 2, 2, 2, 0, 1, 3, 1, 3, 3, 1, 1, 4, 2, 4,\n",
              "       2, 3, 4, 3, 0, 3, 0, 0, 4, 3, 4, 1, 2, 4, 4, 2, 2, 1, 4, 3, 2, 3,\n",
              "       3, 1, 0, 1, 1, 1, 2, 2, 1, 2, 2, 2, 4, 1, 2, 3, 1, 2, 3, 2, 4, 4,\n",
              "       0, 4, 4, 2, 1, 3, 1, 2, 4, 3, 1, 4, 2, 2, 2, 0, 4, 4, 3, 3, 4, 4,\n",
              "       0, 2, 0, 1, 0, 3, 2, 1, 0, 3, 2, 1, 0, 2, 0, 1, 2, 0, 4, 1, 0, 4,\n",
              "       1, 4, 0, 4, 2, 2, 3, 2, 3, 2, 3, 2, 2, 0, 0, 2, 4, 2, 2, 3, 1, 0,\n",
              "       0, 1, 1, 4, 0, 0, 4, 0, 4, 2, 2, 4, 1, 2, 0, 0, 2, 4, 3, 3, 1, 4,\n",
              "       4, 4, 4, 4, 0, 0, 0, 3, 2, 1, 4, 2, 3, 4, 4, 3, 3, 0, 0, 2, 2, 3,\n",
              "       3, 2, 0, 4, 2, 2, 1, 4, 3, 1, 3, 1, 1, 4, 3, 0, 0, 4, 4, 3, 2, 3,\n",
              "       0, 3, 2, 3, 2, 3, 2, 3, 3, 1, 4, 1, 1, 1, 1, 1, 0, 4, 3, 1, 4, 1,\n",
              "       1, 0])"
            ]
          },
          "metadata": {},
          "execution_count": 23
        }
      ],
      "source": [
        "encoded_test_labels"
      ]
    },
    {
      "cell_type": "markdown",
      "metadata": {
        "id": "jB0rCSW5ZkeD"
      },
      "source": [
        "## KNN"
      ]
    },
    {
      "cell_type": "code",
      "execution_count": null,
      "metadata": {
        "id": "sF9xtAmsZmm9"
      },
      "outputs": [],
      "source": [
        "from sklearn.neighbors import KNeighborsClassifier"
      ]
    },
    {
      "cell_type": "code",
      "execution_count": null,
      "metadata": {
        "colab": {
          "base_uri": "https://localhost:8080/"
        },
        "id": "Zn1LrlITZz2r",
        "outputId": "39e0d889-583b-4b70-b5e1-2c4b408817a3"
      },
      "outputs": [
        {
          "output_type": "stream",
          "name": "stdout",
          "text": [
            "Model has acc = 0.6906666666666667\n",
            ", precision = 0.7008439544326641\n",
            ", recall = 0.6906666666666667\n",
            ", f1_score = 0.6927240861054264\n",
            "\n"
          ]
        }
      ],
      "source": [
        "\n",
        "clf = KNeighborsClassifier(52, metric='cosine', n_jobs=-1)\n",
        "clf.fit(vectorized_train_texts, encoded_train_labels)\n",
        "preds_val = clf.predict(vectorized_val_texts)\n",
        "compute_metrics(encoded_val_labels, preds_val)"
      ]
    },
    {
      "cell_type": "markdown",
      "metadata": {
        "id": "mqkiLSgnf6wm"
      },
      "source": [
        "## Logistic Regression\n"
      ]
    },
    {
      "cell_type": "code",
      "execution_count": null,
      "metadata": {
        "id": "8CVVQBMRes8U"
      },
      "outputs": [],
      "source": [
        "from sklearn.linear_model import LogisticRegression"
      ]
    },
    {
      "cell_type": "code",
      "execution_count": null,
      "metadata": {
        "id": "ZxNr77lcgilt"
      },
      "outputs": [],
      "source": []
    },
    {
      "cell_type": "code",
      "execution_count": null,
      "metadata": {
        "colab": {
          "base_uri": "https://localhost:8080/"
        },
        "id": "KZq7r6kHgAlb",
        "outputId": "04f677a1-992f-4a7d-e6e2-e2508e108280"
      },
      "outputs": [
        {
          "name": "stdout",
          "output_type": "stream",
          "text": [
            "Model has acc = 0.832\n",
            ", precision = 0.8341897710043643\n",
            ", recall = 0.8320000000000001\n",
            ", f1_score = 0.8326187643187716\n",
            "\n"
          ]
        },
        {
          "name": "stderr",
          "output_type": "stream",
          "text": [
            "/usr/local/lib/python3.10/dist-packages/sklearn/linear_model/_logistic.py:458: ConvergenceWarning: lbfgs failed to converge (status=1):\n",
            "STOP: TOTAL NO. of ITERATIONS REACHED LIMIT.\n",
            "\n",
            "Increase the number of iterations (max_iter) or scale the data as shown in:\n",
            "    https://scikit-learn.org/stable/modules/preprocessing.html\n",
            "Please also refer to the documentation for alternative solver options:\n",
            "    https://scikit-learn.org/stable/modules/linear_model.html#logistic-regression\n",
            "  n_iter_i = _check_optimize_result(\n"
          ]
        }
      ],
      "source": [
        "clf = LogisticRegression()\n",
        "clf.fit(vectorized_train_texts, encoded_train_labels)\n",
        "preds_val = clf.predict(vectorized_val_texts)\n",
        "compute_metrics(encoded_val_labels, preds_val)"
      ]
    },
    {
      "cell_type": "markdown",
      "metadata": {
        "id": "En_MSlindJa7"
      },
      "source": [
        "# Multinomial Naive bayes"
      ]
    },
    {
      "cell_type": "code",
      "execution_count": null,
      "metadata": {
        "colab": {
          "base_uri": "https://localhost:8080/",
          "height": 74
        },
        "id": "1nxU_5l-dJa_",
        "outputId": "52677054-2d87-4527-a633-4dadb96c546e"
      },
      "outputs": [
        {
          "data": {
            "text/html": [
              "<style>#sk-container-id-3 {color: black;background-color: white;}#sk-container-id-3 pre{padding: 0;}#sk-container-id-3 div.sk-toggleable {background-color: white;}#sk-container-id-3 label.sk-toggleable__label {cursor: pointer;display: block;width: 100%;margin-bottom: 0;padding: 0.3em;box-sizing: border-box;text-align: center;}#sk-container-id-3 label.sk-toggleable__label-arrow:before {content: \"▸\";float: left;margin-right: 0.25em;color: #696969;}#sk-container-id-3 label.sk-toggleable__label-arrow:hover:before {color: black;}#sk-container-id-3 div.sk-estimator:hover label.sk-toggleable__label-arrow:before {color: black;}#sk-container-id-3 div.sk-toggleable__content {max-height: 0;max-width: 0;overflow: hidden;text-align: left;background-color: #f0f8ff;}#sk-container-id-3 div.sk-toggleable__content pre {margin: 0.2em;color: black;border-radius: 0.25em;background-color: #f0f8ff;}#sk-container-id-3 input.sk-toggleable__control:checked~div.sk-toggleable__content {max-height: 200px;max-width: 100%;overflow: auto;}#sk-container-id-3 input.sk-toggleable__control:checked~label.sk-toggleable__label-arrow:before {content: \"▾\";}#sk-container-id-3 div.sk-estimator input.sk-toggleable__control:checked~label.sk-toggleable__label {background-color: #d4ebff;}#sk-container-id-3 div.sk-label input.sk-toggleable__control:checked~label.sk-toggleable__label {background-color: #d4ebff;}#sk-container-id-3 input.sk-hidden--visually {border: 0;clip: rect(1px 1px 1px 1px);clip: rect(1px, 1px, 1px, 1px);height: 1px;margin: -1px;overflow: hidden;padding: 0;position: absolute;width: 1px;}#sk-container-id-3 div.sk-estimator {font-family: monospace;background-color: #f0f8ff;border: 1px dotted black;border-radius: 0.25em;box-sizing: border-box;margin-bottom: 0.5em;}#sk-container-id-3 div.sk-estimator:hover {background-color: #d4ebff;}#sk-container-id-3 div.sk-parallel-item::after {content: \"\";width: 100%;border-bottom: 1px solid gray;flex-grow: 1;}#sk-container-id-3 div.sk-label:hover label.sk-toggleable__label {background-color: #d4ebff;}#sk-container-id-3 div.sk-serial::before {content: \"\";position: absolute;border-left: 1px solid gray;box-sizing: border-box;top: 0;bottom: 0;left: 50%;z-index: 0;}#sk-container-id-3 div.sk-serial {display: flex;flex-direction: column;align-items: center;background-color: white;padding-right: 0.2em;padding-left: 0.2em;position: relative;}#sk-container-id-3 div.sk-item {position: relative;z-index: 1;}#sk-container-id-3 div.sk-parallel {display: flex;align-items: stretch;justify-content: center;background-color: white;position: relative;}#sk-container-id-3 div.sk-item::before, #sk-container-id-3 div.sk-parallel-item::before {content: \"\";position: absolute;border-left: 1px solid gray;box-sizing: border-box;top: 0;bottom: 0;left: 50%;z-index: -1;}#sk-container-id-3 div.sk-parallel-item {display: flex;flex-direction: column;z-index: 1;position: relative;background-color: white;}#sk-container-id-3 div.sk-parallel-item:first-child::after {align-self: flex-end;width: 50%;}#sk-container-id-3 div.sk-parallel-item:last-child::after {align-self: flex-start;width: 50%;}#sk-container-id-3 div.sk-parallel-item:only-child::after {width: 0;}#sk-container-id-3 div.sk-dashed-wrapped {border: 1px dashed gray;margin: 0 0.4em 0.5em 0.4em;box-sizing: border-box;padding-bottom: 0.4em;background-color: white;}#sk-container-id-3 div.sk-label label {font-family: monospace;font-weight: bold;display: inline-block;line-height: 1.2em;}#sk-container-id-3 div.sk-label-container {text-align: center;}#sk-container-id-3 div.sk-container {/* jupyter's `normalize.less` sets `[hidden] { display: none; }` but bootstrap.min.css set `[hidden] { display: none !important; }` so we also need the `!important` here to be able to override the default hidden behavior on the sphinx rendered scikit-learn.org. See: https://github.com/scikit-learn/scikit-learn/issues/21755 */display: inline-block !important;position: relative;}#sk-container-id-3 div.sk-text-repr-fallback {display: none;}</style><div id=\"sk-container-id-3\" class=\"sk-top-container\"><div class=\"sk-text-repr-fallback\"><pre>MultinomialNB()</pre><b>In a Jupyter environment, please rerun this cell to show the HTML representation or trust the notebook. <br />On GitHub, the HTML representation is unable to render, please try loading this page with nbviewer.org.</b></div><div class=\"sk-container\" hidden><div class=\"sk-item\"><div class=\"sk-estimator sk-toggleable\"><input class=\"sk-toggleable__control sk-hidden--visually\" id=\"sk-estimator-id-3\" type=\"checkbox\" checked><label for=\"sk-estimator-id-3\" class=\"sk-toggleable__label sk-toggleable__label-arrow\">MultinomialNB</label><div class=\"sk-toggleable__content\"><pre>MultinomialNB()</pre></div></div></div></div></div>"
            ],
            "text/plain": [
              "MultinomialNB()"
            ]
          },
          "execution_count": 128,
          "metadata": {},
          "output_type": "execute_result"
        }
      ],
      "source": [
        "mnb = MultinomialNB()\n",
        "mnb.fit(vectorized_train_texts, encoded_train_labels)"
      ]
    },
    {
      "cell_type": "code",
      "execution_count": null,
      "metadata": {
        "id": "53TnBOtSdJbA"
      },
      "outputs": [],
      "source": [
        "preds_val = mnb.predict(vectorized_val_texts)"
      ]
    },
    {
      "cell_type": "code",
      "execution_count": null,
      "metadata": {
        "id": "83FjUwqAdJbA"
      },
      "outputs": [],
      "source": [
        "preds_test = mnb.predict(vectorized_test_texts)"
      ]
    },
    {
      "cell_type": "code",
      "execution_count": null,
      "metadata": {
        "colab": {
          "base_uri": "https://localhost:8080/"
        },
        "id": "cXTOFWRjdJbB",
        "outputId": "1a6f1b0f-0505-4c0b-99f6-6a847fe5c2fc"
      },
      "outputs": [
        {
          "name": "stdout",
          "output_type": "stream",
          "text": [
            "Model has acc = 0.792\n",
            ", precision = 0.7926469935597724\n",
            ", recall = 0.792\n",
            ", f1_score = 0.7866189872704864\n",
            "\n"
          ]
        }
      ],
      "source": [
        "compute_metrics(encoded_val_labels, preds_val)"
      ]
    },
    {
      "cell_type": "code",
      "execution_count": null,
      "metadata": {
        "colab": {
          "base_uri": "https://localhost:8080/"
        },
        "id": "F123TA2udJbB",
        "outputId": "41d27319-24d4-4119-98e0-19e2a09a0b22"
      },
      "outputs": [
        {
          "name": "stdout",
          "output_type": "stream",
          "text": [
            "Model has acc = 0.78\n",
            ", precision = 0.7775252350573119\n",
            ", recall = 0.78\n",
            ", f1_score = 0.776566758419676\n",
            "\n"
          ]
        }
      ],
      "source": [
        "compute_metrics(encoded_test_labels, preds_test)"
      ]
    },
    {
      "cell_type": "markdown",
      "metadata": {
        "id": "8iko4MvobXtA"
      },
      "source": [
        "# Gaussian Naive Bayes"
      ]
    },
    {
      "cell_type": "code",
      "execution_count": null,
      "metadata": {
        "colab": {
          "base_uri": "https://localhost:8080/",
          "height": 74
        },
        "id": "dx9p3vC5bXtD",
        "outputId": "477d2917-8455-49d4-d2f0-164e0c64a0d3"
      },
      "outputs": [
        {
          "data": {
            "text/html": [
              "<style>#sk-container-id-6 {color: black;background-color: white;}#sk-container-id-6 pre{padding: 0;}#sk-container-id-6 div.sk-toggleable {background-color: white;}#sk-container-id-6 label.sk-toggleable__label {cursor: pointer;display: block;width: 100%;margin-bottom: 0;padding: 0.3em;box-sizing: border-box;text-align: center;}#sk-container-id-6 label.sk-toggleable__label-arrow:before {content: \"▸\";float: left;margin-right: 0.25em;color: #696969;}#sk-container-id-6 label.sk-toggleable__label-arrow:hover:before {color: black;}#sk-container-id-6 div.sk-estimator:hover label.sk-toggleable__label-arrow:before {color: black;}#sk-container-id-6 div.sk-toggleable__content {max-height: 0;max-width: 0;overflow: hidden;text-align: left;background-color: #f0f8ff;}#sk-container-id-6 div.sk-toggleable__content pre {margin: 0.2em;color: black;border-radius: 0.25em;background-color: #f0f8ff;}#sk-container-id-6 input.sk-toggleable__control:checked~div.sk-toggleable__content {max-height: 200px;max-width: 100%;overflow: auto;}#sk-container-id-6 input.sk-toggleable__control:checked~label.sk-toggleable__label-arrow:before {content: \"▾\";}#sk-container-id-6 div.sk-estimator input.sk-toggleable__control:checked~label.sk-toggleable__label {background-color: #d4ebff;}#sk-container-id-6 div.sk-label input.sk-toggleable__control:checked~label.sk-toggleable__label {background-color: #d4ebff;}#sk-container-id-6 input.sk-hidden--visually {border: 0;clip: rect(1px 1px 1px 1px);clip: rect(1px, 1px, 1px, 1px);height: 1px;margin: -1px;overflow: hidden;padding: 0;position: absolute;width: 1px;}#sk-container-id-6 div.sk-estimator {font-family: monospace;background-color: #f0f8ff;border: 1px dotted black;border-radius: 0.25em;box-sizing: border-box;margin-bottom: 0.5em;}#sk-container-id-6 div.sk-estimator:hover {background-color: #d4ebff;}#sk-container-id-6 div.sk-parallel-item::after {content: \"\";width: 100%;border-bottom: 1px solid gray;flex-grow: 1;}#sk-container-id-6 div.sk-label:hover label.sk-toggleable__label {background-color: #d4ebff;}#sk-container-id-6 div.sk-serial::before {content: \"\";position: absolute;border-left: 1px solid gray;box-sizing: border-box;top: 0;bottom: 0;left: 50%;z-index: 0;}#sk-container-id-6 div.sk-serial {display: flex;flex-direction: column;align-items: center;background-color: white;padding-right: 0.2em;padding-left: 0.2em;position: relative;}#sk-container-id-6 div.sk-item {position: relative;z-index: 1;}#sk-container-id-6 div.sk-parallel {display: flex;align-items: stretch;justify-content: center;background-color: white;position: relative;}#sk-container-id-6 div.sk-item::before, #sk-container-id-6 div.sk-parallel-item::before {content: \"\";position: absolute;border-left: 1px solid gray;box-sizing: border-box;top: 0;bottom: 0;left: 50%;z-index: -1;}#sk-container-id-6 div.sk-parallel-item {display: flex;flex-direction: column;z-index: 1;position: relative;background-color: white;}#sk-container-id-6 div.sk-parallel-item:first-child::after {align-self: flex-end;width: 50%;}#sk-container-id-6 div.sk-parallel-item:last-child::after {align-self: flex-start;width: 50%;}#sk-container-id-6 div.sk-parallel-item:only-child::after {width: 0;}#sk-container-id-6 div.sk-dashed-wrapped {border: 1px dashed gray;margin: 0 0.4em 0.5em 0.4em;box-sizing: border-box;padding-bottom: 0.4em;background-color: white;}#sk-container-id-6 div.sk-label label {font-family: monospace;font-weight: bold;display: inline-block;line-height: 1.2em;}#sk-container-id-6 div.sk-label-container {text-align: center;}#sk-container-id-6 div.sk-container {/* jupyter's `normalize.less` sets `[hidden] { display: none; }` but bootstrap.min.css set `[hidden] { display: none !important; }` so we also need the `!important` here to be able to override the default hidden behavior on the sphinx rendered scikit-learn.org. See: https://github.com/scikit-learn/scikit-learn/issues/21755 */display: inline-block !important;position: relative;}#sk-container-id-6 div.sk-text-repr-fallback {display: none;}</style><div id=\"sk-container-id-6\" class=\"sk-top-container\"><div class=\"sk-text-repr-fallback\"><pre>GaussianNB(var_smoothing=0.5)</pre><b>In a Jupyter environment, please rerun this cell to show the HTML representation or trust the notebook. <br />On GitHub, the HTML representation is unable to render, please try loading this page with nbviewer.org.</b></div><div class=\"sk-container\" hidden><div class=\"sk-item\"><div class=\"sk-estimator sk-toggleable\"><input class=\"sk-toggleable__control sk-hidden--visually\" id=\"sk-estimator-id-6\" type=\"checkbox\" checked><label for=\"sk-estimator-id-6\" class=\"sk-toggleable__label sk-toggleable__label-arrow\">GaussianNB</label><div class=\"sk-toggleable__content\"><pre>GaussianNB(var_smoothing=0.5)</pre></div></div></div></div></div>"
            ],
            "text/plain": [
              "GaussianNB(var_smoothing=0.5)"
            ]
          },
          "execution_count": 139,
          "metadata": {},
          "output_type": "execute_result"
        }
      ],
      "source": [
        "gaussian_nb = GaussianNB(var_smoothing=5e-1)\n",
        "gaussian_nb"
      ]
    },
    {
      "cell_type": "code",
      "execution_count": null,
      "metadata": {
        "id": "O5u0JeqabXtE"
      },
      "outputs": [],
      "source": [
        "x = vectorized_train_texts.toarray()"
      ]
    },
    {
      "cell_type": "code",
      "execution_count": null,
      "metadata": {
        "colab": {
          "base_uri": "https://localhost:8080/",
          "height": 74
        },
        "id": "JY6AjtdybXtE",
        "outputId": "b7c00a8c-2b2d-4382-8655-7345c07d20ba"
      },
      "outputs": [
        {
          "data": {
            "text/html": [
              "<style>#sk-container-id-7 {color: black;background-color: white;}#sk-container-id-7 pre{padding: 0;}#sk-container-id-7 div.sk-toggleable {background-color: white;}#sk-container-id-7 label.sk-toggleable__label {cursor: pointer;display: block;width: 100%;margin-bottom: 0;padding: 0.3em;box-sizing: border-box;text-align: center;}#sk-container-id-7 label.sk-toggleable__label-arrow:before {content: \"▸\";float: left;margin-right: 0.25em;color: #696969;}#sk-container-id-7 label.sk-toggleable__label-arrow:hover:before {color: black;}#sk-container-id-7 div.sk-estimator:hover label.sk-toggleable__label-arrow:before {color: black;}#sk-container-id-7 div.sk-toggleable__content {max-height: 0;max-width: 0;overflow: hidden;text-align: left;background-color: #f0f8ff;}#sk-container-id-7 div.sk-toggleable__content pre {margin: 0.2em;color: black;border-radius: 0.25em;background-color: #f0f8ff;}#sk-container-id-7 input.sk-toggleable__control:checked~div.sk-toggleable__content {max-height: 200px;max-width: 100%;overflow: auto;}#sk-container-id-7 input.sk-toggleable__control:checked~label.sk-toggleable__label-arrow:before {content: \"▾\";}#sk-container-id-7 div.sk-estimator input.sk-toggleable__control:checked~label.sk-toggleable__label {background-color: #d4ebff;}#sk-container-id-7 div.sk-label input.sk-toggleable__control:checked~label.sk-toggleable__label {background-color: #d4ebff;}#sk-container-id-7 input.sk-hidden--visually {border: 0;clip: rect(1px 1px 1px 1px);clip: rect(1px, 1px, 1px, 1px);height: 1px;margin: -1px;overflow: hidden;padding: 0;position: absolute;width: 1px;}#sk-container-id-7 div.sk-estimator {font-family: monospace;background-color: #f0f8ff;border: 1px dotted black;border-radius: 0.25em;box-sizing: border-box;margin-bottom: 0.5em;}#sk-container-id-7 div.sk-estimator:hover {background-color: #d4ebff;}#sk-container-id-7 div.sk-parallel-item::after {content: \"\";width: 100%;border-bottom: 1px solid gray;flex-grow: 1;}#sk-container-id-7 div.sk-label:hover label.sk-toggleable__label {background-color: #d4ebff;}#sk-container-id-7 div.sk-serial::before {content: \"\";position: absolute;border-left: 1px solid gray;box-sizing: border-box;top: 0;bottom: 0;left: 50%;z-index: 0;}#sk-container-id-7 div.sk-serial {display: flex;flex-direction: column;align-items: center;background-color: white;padding-right: 0.2em;padding-left: 0.2em;position: relative;}#sk-container-id-7 div.sk-item {position: relative;z-index: 1;}#sk-container-id-7 div.sk-parallel {display: flex;align-items: stretch;justify-content: center;background-color: white;position: relative;}#sk-container-id-7 div.sk-item::before, #sk-container-id-7 div.sk-parallel-item::before {content: \"\";position: absolute;border-left: 1px solid gray;box-sizing: border-box;top: 0;bottom: 0;left: 50%;z-index: -1;}#sk-container-id-7 div.sk-parallel-item {display: flex;flex-direction: column;z-index: 1;position: relative;background-color: white;}#sk-container-id-7 div.sk-parallel-item:first-child::after {align-self: flex-end;width: 50%;}#sk-container-id-7 div.sk-parallel-item:last-child::after {align-self: flex-start;width: 50%;}#sk-container-id-7 div.sk-parallel-item:only-child::after {width: 0;}#sk-container-id-7 div.sk-dashed-wrapped {border: 1px dashed gray;margin: 0 0.4em 0.5em 0.4em;box-sizing: border-box;padding-bottom: 0.4em;background-color: white;}#sk-container-id-7 div.sk-label label {font-family: monospace;font-weight: bold;display: inline-block;line-height: 1.2em;}#sk-container-id-7 div.sk-label-container {text-align: center;}#sk-container-id-7 div.sk-container {/* jupyter's `normalize.less` sets `[hidden] { display: none; }` but bootstrap.min.css set `[hidden] { display: none !important; }` so we also need the `!important` here to be able to override the default hidden behavior on the sphinx rendered scikit-learn.org. See: https://github.com/scikit-learn/scikit-learn/issues/21755 */display: inline-block !important;position: relative;}#sk-container-id-7 div.sk-text-repr-fallback {display: none;}</style><div id=\"sk-container-id-7\" class=\"sk-top-container\"><div class=\"sk-text-repr-fallback\"><pre>GaussianNB(var_smoothing=0.5)</pre><b>In a Jupyter environment, please rerun this cell to show the HTML representation or trust the notebook. <br />On GitHub, the HTML representation is unable to render, please try loading this page with nbviewer.org.</b></div><div class=\"sk-container\" hidden><div class=\"sk-item\"><div class=\"sk-estimator sk-toggleable\"><input class=\"sk-toggleable__control sk-hidden--visually\" id=\"sk-estimator-id-7\" type=\"checkbox\" checked><label for=\"sk-estimator-id-7\" class=\"sk-toggleable__label sk-toggleable__label-arrow\">GaussianNB</label><div class=\"sk-toggleable__content\"><pre>GaussianNB(var_smoothing=0.5)</pre></div></div></div></div></div>"
            ],
            "text/plain": [
              "GaussianNB(var_smoothing=0.5)"
            ]
          },
          "execution_count": 141,
          "metadata": {},
          "output_type": "execute_result"
        }
      ],
      "source": [
        "gaussian_nb.fit(x, encoded_train_labels)"
      ]
    },
    {
      "cell_type": "code",
      "execution_count": null,
      "metadata": {
        "id": "kuVyQzRpbXtF"
      },
      "outputs": [],
      "source": [
        "preds_val = gaussian_nb.predict(vectorized_val_texts.toarray())\n",
        "preds_test = gaussian_nb.predict(vectorized_test_texts.toarray())"
      ]
    },
    {
      "cell_type": "code",
      "execution_count": null,
      "metadata": {
        "colab": {
          "base_uri": "https://localhost:8080/"
        },
        "id": "xLm-d3BUbXtF",
        "outputId": "fe179eb6-714e-4699-f43a-d76cdd617477"
      },
      "outputs": [
        {
          "name": "stdout",
          "output_type": "stream",
          "text": [
            "Model has acc = 0.7053333333333334\n",
            ", precision = 0.7526540392247447\n",
            ", recall = 0.7053333333333335\n",
            ", f1_score = 0.7116260859726466\n",
            "\n"
          ]
        }
      ],
      "source": [
        "compute_metrics(encoded_val_labels, preds_val)"
      ]
    },
    {
      "cell_type": "code",
      "execution_count": null,
      "metadata": {
        "colab": {
          "base_uri": "https://localhost:8080/"
        },
        "id": "6z-3lygYbXtF",
        "outputId": "1c952f02-5b21-4889-cb13-5668381eef0a"
      },
      "outputs": [
        {
          "name": "stdout",
          "output_type": "stream",
          "text": [
            "Model has acc = 0.7026666666666667\n",
            ", precision = 0.7435331470455272\n",
            ", recall = 0.7026666666666667\n",
            ", f1_score = 0.7084013806051445\n",
            "\n"
          ]
        }
      ],
      "source": [
        "compute_metrics(encoded_test_labels, preds_test)"
      ]
    },
    {
      "cell_type": "code",
      "execution_count": null,
      "metadata": {
        "id": "_MOJS1mibXtF"
      },
      "outputs": [],
      "source": []
    },
    {
      "cell_type": "markdown",
      "metadata": {
        "id": "Qkt2S648IlAe"
      },
      "source": [
        "# SVM"
      ]
    },
    {
      "cell_type": "markdown",
      "metadata": {
        "id": "f6yoQXhcCLIl"
      },
      "source": [
        "## Defining the model"
      ]
    },
    {
      "cell_type": "code",
      "execution_count": null,
      "metadata": {
        "colab": {
          "base_uri": "https://localhost:8080/"
        },
        "id": "ccz46WnHB9rs",
        "outputId": "85831151-79cb-4263-b82e-524f7598f496"
      },
      "outputs": [
        {
          "output_type": "stream",
          "name": "stdout",
          "text": [
            "Model has acc = 0.8493333333333334\n",
            ", precision = 0.8523656589298916\n",
            ", recall = 0.8493333333333334\n",
            ", f1_score = 0.849977485378197\n",
            "\n",
            "Model has acc = 0.7\n",
            ", precision = 0.7768891171160331\n",
            ", recall = 0.7\n",
            ", f1_score = 0.708274729626148\n",
            "\n",
            "Model has acc = 0.8706666666666667\n",
            ", precision = 0.8731144630823447\n",
            ", recall = 0.8706666666666667\n",
            ", f1_score = 0.871195184128112\n",
            "\n"
          ]
        }
      ],
      "source": [
        "kernels = ['linear', 'poly', 'rbf']\n",
        "for kernel in kernels:\n",
        "    svm_model = svm.SVC(probability=True, random_state=1, kernel=kernel)\n",
        "    svm_model.fit(vectorized_train_texts, encoded_train_labels)\n",
        "    preds = svm_model.predict(vectorized_val_texts)\n",
        "    compute_metrics(encoded_val_labels, preds)"
      ]
    },
    {
      "cell_type": "code",
      "execution_count": null,
      "metadata": {
        "id": "FzJyl3T1yHOc",
        "colab": {
          "base_uri": "https://localhost:8080/"
        },
        "outputId": "507f3f53-b38a-4064-f193-aa7b324631dc"
      },
      "outputs": [
        {
          "output_type": "stream",
          "name": "stdout",
          "text": [
            "Model has acc = 0.8386666666666667\n",
            ", precision = 0.8444967569787878\n",
            ", recall = 0.8386666666666667\n",
            ", f1_score = 0.8404916569671421\n",
            "\n"
          ]
        }
      ],
      "source": [
        "preds = svm_model.predict(vectorized_test_texts)\n",
        "compute_metrics(encoded_test_labels, preds)"
      ]
    },
    {
      "cell_type": "markdown",
      "metadata": {
        "id": "eYl0L0pLHWwW"
      },
      "source": [
        "## Validation"
      ]
    },
    {
      "cell_type": "code",
      "execution_count": null,
      "metadata": {
        "colab": {
          "base_uri": "https://localhost:8080/"
        },
        "id": "uEQN5CGOHoGj",
        "outputId": "5b1495e0-38f9-4347-c36c-851a1befa60e"
      },
      "outputs": [
        {
          "output_type": "execute_result",
          "data": {
            "text/plain": [
              "array([[-5.90201682e+00, -3.27545278e+00, -2.27643220e-01,\n",
              "        -4.65368944e+00, -1.87384898e+00],\n",
              "       [-6.97497972e+00, -2.41584840e-02, -6.70863240e+00,\n",
              "        -3.91201018e+00, -6.36925809e+00],\n",
              "       [-1.82302873e+01, -1.28085812e-04, -1.54082094e+01,\n",
              "        -9.06511156e+00, -1.13114776e+01],\n",
              "       ...,\n",
              "       [-6.77446425e-01, -2.50228388e+00, -4.13251502e+00,\n",
              "        -1.61522998e+00, -1.63320557e+00],\n",
              "       [-5.14375618e+00, -5.95278746e+00, -9.35343736e-02,\n",
              "        -2.78266024e+00, -3.96409119e+00],\n",
              "       [-6.21782626e+00, -4.70996307e+00, -4.98406668e+00,\n",
              "        -2.04853101e-01, -1.78743988e+00]])"
            ]
          },
          "metadata": {},
          "execution_count": 61
        }
      ],
      "source": [
        "y_pred = svm_model.predict_log_proba(vectorized_val_texts)\n",
        "y_pred"
      ]
    },
    {
      "cell_type": "code",
      "execution_count": null,
      "metadata": {
        "colab": {
          "base_uri": "https://localhost:8080/"
        },
        "id": "fVkZ7XeIGUO5",
        "outputId": "deeebcd9-f638-4366-fd82-3f51b34f31d5"
      },
      "outputs": [
        {
          "output_type": "stream",
          "name": "stdout",
          "text": [
            "Model has acc = 0.8706666666666667\n",
            ", precision = 0.8698489770457325\n",
            ", recall = 0.8706666666666667\n",
            ", f1_score = 0.8699267932872615\n",
            "\n"
          ]
        }
      ],
      "source": [
        "acc = accuracy_score(encoded_val_labels, np.argmax(y_pred, axis=1))\n",
        "precision = precision_score(encoded_val_labels, np.argmax(y_pred, axis=1), average=\"macro\")\n",
        "recall = recall_score(encoded_val_labels, np.argmax(y_pred, axis=1), average=\"macro\")\n",
        "f1 = f1_score(encoded_val_labels, np.argmax(y_pred, axis=1), average=\"macro\")\n",
        "print(f\"Model has acc = {acc}\\n, precision = {precision}\\n, recall = {recall}\\n, f1_score = {f1}\\n\")"
      ]
    },
    {
      "cell_type": "markdown",
      "metadata": {
        "id": "cXRIrH5cHaiL"
      },
      "source": [
        "## Testing"
      ]
    },
    {
      "cell_type": "code",
      "execution_count": null,
      "metadata": {
        "id": "lz7-CQ7AHrRl"
      },
      "outputs": [],
      "source": [
        "y_pred = svm_model.predict(vectorized_test_texts)"
      ]
    },
    {
      "cell_type": "code",
      "execution_count": null,
      "metadata": {
        "colab": {
          "base_uri": "https://localhost:8080/"
        },
        "id": "xQ_u_O1VHGRp",
        "outputId": "051fb7f1-7452-4f1a-c892-d99108bf189e"
      },
      "outputs": [
        {
          "output_type": "stream",
          "name": "stdout",
          "text": [
            "Model has acc = 0.8386666666666667\n",
            ", precision = 0.8444967569787878\n",
            ", recall = 0.8386666666666667\n",
            ", f1_score = 0.8404916569671421\n",
            "\n"
          ]
        }
      ],
      "source": [
        "compute_metrics(encoded_test_labels, y_pred)\n"
      ]
    },
    {
      "cell_type": "code",
      "execution_count": null,
      "metadata": {
        "colab": {
          "base_uri": "https://localhost:8080/",
          "height": 813
        },
        "id": "2LtEabmnWrZR",
        "outputId": "e736309d-466b-4df5-fdb9-0d38de7fba06"
      },
      "outputs": [
        {
          "output_type": "display_data",
          "data": {
            "text/plain": [
              "<Figure size 1200x800 with 2 Axes>"
            ],
            "image/svg+xml": "<?xml version=\"1.0\" encoding=\"utf-8\" standalone=\"no\"?>\n<!DOCTYPE svg PUBLIC \"-//W3C//DTD SVG 1.1//EN\"\n  \"http://www.w3.org/Graphics/SVG/1.1/DTD/svg11.dtd\">\n<svg xmlns:xlink=\"http://www.w3.org/1999/xlink\" width=\"664.39141pt\" height=\"593.699216pt\" viewBox=\"0 0 664.39141 593.699216\" xmlns=\"http://www.w3.org/2000/svg\" version=\"1.1\">\n <metadata>\n  <rdf:RDF xmlns:dc=\"http://purl.org/dc/elements/1.1/\" xmlns:cc=\"http://creativecommons.org/ns#\" xmlns:rdf=\"http://www.w3.org/1999/02/22-rdf-syntax-ns#\">\n   <cc:Work>\n    <dc:type rdf:resource=\"http://purl.org/dc/dcmitype/StillImage\"/>\n    <dc:date>2023-05-26T13:36:56.020310</dc:date>\n    <dc:format>image/svg+xml</dc:format>\n    <dc:creator>\n     <cc:Agent>\n      <dc:title>Matplotlib v3.7.1, https://matplotlib.org/</dc:title>\n     </cc:Agent>\n    </dc:creator>\n   </cc:Work>\n  </rdf:RDF>\n </metadata>\n <defs>\n  <style type=\"text/css\">*{stroke-linejoin: round; stroke-linecap: butt}</style>\n </defs>\n <g id=\"figure_1\">\n  <g id=\"patch_1\">\n   <path d=\"M 0 593.699216 \nL 664.39141 593.699216 \nL 664.39141 0 \nL 0 0 \nz\n\" style=\"fill: #ffffff\"/>\n  </g>\n  <g id=\"axes_1\">\n   <g id=\"patch_2\">\n    <path d=\"M 117.790625 463.04176 \nL 549.396135 463.04176 \nL 549.396135 31.43625 \nL 117.790625 31.43625 \nz\n\" style=\"fill: #ffffff\"/>\n   </g>\n   <g clip-path=\"url(#p3799318b10)\">\n    <image xlink:href=\"data:image/png;base64,\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\" id=\"image79a1f87c3e\" transform=\"scale(1 -1) translate(0 -432)\" x=\"117.790625\" y=\"-31.04176\" width=\"432\" height=\"432\"/>\n   </g>\n   <g id=\"matplotlib.axis_1\">\n    <g id=\"xtick_1\">\n     <g id=\"line2d_1\">\n      <defs>\n       <path id=\"ma7c1dc00a7\" d=\"M 0 0 \nL 0 3.5 \n\" style=\"stroke: #000000; stroke-width: 0.8\"/>\n      </defs>\n      <g>\n       <use xlink:href=\"#ma7c1dc00a7\" x=\"160.951176\" y=\"463.04176\" style=\"stroke: #000000; stroke-width: 0.8\"/>\n      </g>\n     </g>\n     <g id=\"text_1\">\n      <!-- joy -->\n      <g transform=\"translate(154.20825 501.474866) rotate(-45) scale(0.2 -0.2)\">\n       <defs>\n        <path id=\"DejaVuSerif-6a\" d=\"M 641 4353 \nQ 641 4497 745 4603 \nQ 850 4709 997 4709 \nQ 1141 4709 1245 4603 \nQ 1350 4497 1350 4353 \nQ 1350 4206 1248 4103 \nQ 1147 4000 997 4000 \nQ 850 4000 745 4103 \nQ 641 4206 641 4353 \nz\nM 781 2988 \nL 238 2988 \nL 238 3322 \nL 1356 3322 \nL 1356 -325 \nQ 1356 -838 1051 -1130 \nQ 747 -1422 213 -1422 \nQ -13 -1422 -217 -1370 \nQ -422 -1319 -616 -1216 \nL -616 -531 \nL -319 -531 \nQ -297 -831 -164 -972 \nQ -31 -1113 225 -1113 \nQ 509 -1113 645 -920 \nQ 781 -728 781 -325 \nL 781 2988 \nz\n\" transform=\"scale(0.015625)\"/>\n        <path id=\"DejaVuSerif-6f\" d=\"M 1925 219 \nQ 2388 219 2623 584 \nQ 2859 950 2859 1663 \nQ 2859 2375 2623 2739 \nQ 2388 3103 1925 3103 \nQ 1463 3103 1227 2739 \nQ 991 2375 991 1663 \nQ 991 950 1228 584 \nQ 1466 219 1925 219 \nz\nM 1925 -91 \nQ 1200 -91 759 389 \nQ 319 869 319 1663 \nQ 319 2456 758 2934 \nQ 1197 3413 1925 3413 \nQ 2653 3413 3092 2934 \nQ 3531 2456 3531 1663 \nQ 3531 869 3092 389 \nQ 2653 -91 1925 -91 \nz\n\" transform=\"scale(0.015625)\"/>\n        <path id=\"DejaVuSerif-79\" d=\"M 1381 -609 \nL 1600 -56 \nL 359 2988 \nL -19 2988 \nL -19 3322 \nL 1509 3322 \nL 1509 2988 \nL 978 2988 \nL 1913 703 \nL 2847 2988 \nL 2350 2988 \nL 2350 3322 \nL 3597 3322 \nL 3597 2988 \nL 3225 2988 \nL 1703 -750 \nQ 1547 -1138 1356 -1280 \nQ 1166 -1422 819 -1422 \nQ 672 -1422 517 -1397 \nQ 363 -1372 206 -1325 \nL 206 -691 \nL 500 -691 \nQ 519 -903 608 -995 \nQ 697 -1088 884 -1088 \nQ 1056 -1088 1161 -992 \nQ 1266 -897 1381 -609 \nz\n\" transform=\"scale(0.015625)\"/>\n       </defs>\n       <use xlink:href=\"#DejaVuSerif-6a\"/>\n       <use xlink:href=\"#DejaVuSerif-6f\" x=\"31.005859\"/>\n       <use xlink:href=\"#DejaVuSerif-79\" x=\"91.210938\"/>\n      </g>\n     </g>\n    </g>\n    <g id=\"xtick_2\">\n     <g id=\"line2d_2\">\n      <g>\n       <use xlink:href=\"#ma7c1dc00a7\" x=\"247.272278\" y=\"463.04176\" style=\"stroke: #000000; stroke-width: 0.8\"/>\n      </g>\n     </g>\n     <g id=\"text_2\">\n      <!-- anger -->\n      <g transform=\"translate(230.11168 522.310209) rotate(-45) scale(0.2 -0.2)\">\n       <defs>\n        <path id=\"DejaVuSerif-61\" d=\"M 2547 1044 \nL 2547 1747 \nL 1806 1747 \nQ 1378 1747 1168 1562 \nQ 959 1378 959 997 \nQ 959 650 1171 447 \nQ 1384 244 1747 244 \nQ 2106 244 2326 466 \nQ 2547 688 2547 1044 \nz\nM 3122 2075 \nL 3122 331 \nL 3634 331 \nL 3634 0 \nL 2547 0 \nL 2547 359 \nQ 2356 128 2106 18 \nQ 1856 -91 1522 -91 \nQ 969 -91 644 203 \nQ 319 497 319 997 \nQ 319 1513 691 1797 \nQ 1063 2081 1741 2081 \nL 2547 2081 \nL 2547 2309 \nQ 2547 2688 2317 2895 \nQ 2088 3103 1672 3103 \nQ 1328 3103 1125 2947 \nQ 922 2791 872 2484 \nL 575 2484 \nL 575 3156 \nQ 875 3284 1158 3348 \nQ 1441 3413 1709 3413 \nQ 2400 3413 2761 3070 \nQ 3122 2728 3122 2075 \nz\n\" transform=\"scale(0.015625)\"/>\n        <path id=\"DejaVuSerif-6e\" d=\"M 263 0 \nL 263 331 \nL 781 331 \nL 781 2988 \nL 231 2988 \nL 231 3322 \nL 1356 3322 \nL 1356 2731 \nQ 1516 3069 1770 3241 \nQ 2025 3413 2363 3413 \nQ 2913 3413 3172 3097 \nQ 3431 2781 3431 2113 \nL 3431 331 \nL 3944 331 \nL 3944 0 \nL 2356 0 \nL 2356 331 \nL 2853 331 \nL 2853 1931 \nQ 2853 2541 2703 2767 \nQ 2553 2994 2175 2994 \nQ 1775 2994 1565 2701 \nQ 1356 2409 1356 1850 \nL 1356 331 \nL 1856 331 \nL 1856 0 \nL 263 0 \nz\n\" transform=\"scale(0.015625)\"/>\n        <path id=\"DejaVuSerif-67\" d=\"M 3359 2988 \nL 3359 72 \nQ 3359 -644 2965 -1033 \nQ 2572 -1422 1844 -1422 \nQ 1516 -1422 1216 -1362 \nQ 916 -1303 641 -1184 \nL 641 -488 \nL 941 -488 \nQ 997 -813 1206 -963 \nQ 1416 -1113 1806 -1113 \nQ 2313 -1113 2548 -827 \nQ 2784 -541 2784 72 \nL 2784 519 \nQ 2616 206 2355 57 \nQ 2094 -91 1709 -91 \nQ 1097 -91 708 395 \nQ 319 881 319 1663 \nQ 319 2444 706 2928 \nQ 1094 3413 1709 3413 \nQ 2094 3413 2355 3264 \nQ 2616 3116 2784 2803 \nL 2784 3322 \nL 3909 3322 \nL 3909 2988 \nL 3359 2988 \nz\nM 2784 1825 \nQ 2784 2422 2554 2737 \nQ 2325 3053 1888 3053 \nQ 1444 3053 1217 2703 \nQ 991 2353 991 1663 \nQ 991 975 1217 622 \nQ 1444 269 1888 269 \nQ 2325 269 2554 583 \nQ 2784 897 2784 1497 \nL 2784 1825 \nz\n\" transform=\"scale(0.015625)\"/>\n        <path id=\"DejaVuSerif-65\" d=\"M 3469 1600 \nL 991 1600 \nL 991 1575 \nQ 991 903 1244 561 \nQ 1497 219 1991 219 \nQ 2369 219 2611 417 \nQ 2853 616 2950 1006 \nL 3413 1006 \nQ 3275 459 2904 184 \nQ 2534 -91 1931 -91 \nQ 1203 -91 761 389 \nQ 319 869 319 1663 \nQ 319 2450 753 2931 \nQ 1188 3413 1894 3413 \nQ 2647 3413 3050 2948 \nQ 3453 2484 3469 1600 \nz\nM 2791 1931 \nQ 2772 2513 2545 2808 \nQ 2319 3103 1894 3103 \nQ 1497 3103 1269 2806 \nQ 1041 2509 991 1931 \nL 2791 1931 \nz\n\" transform=\"scale(0.015625)\"/>\n        <path id=\"DejaVuSerif-72\" d=\"M 3059 3328 \nL 3059 2497 \nL 2728 2497 \nQ 2713 2744 2591 2866 \nQ 2469 2988 2234 2988 \nQ 1809 2988 1582 2694 \nQ 1356 2400 1356 1850 \nL 1356 331 \nL 2022 331 \nL 2022 0 \nL 263 0 \nL 263 331 \nL 781 331 \nL 781 2994 \nL 231 2994 \nL 231 3322 \nL 1356 3322 \nL 1356 2731 \nQ 1525 3078 1790 3245 \nQ 2056 3413 2438 3413 \nQ 2578 3413 2733 3391 \nQ 2888 3369 3059 3328 \nz\n\" transform=\"scale(0.015625)\"/>\n       </defs>\n       <use xlink:href=\"#DejaVuSerif-61\"/>\n       <use xlink:href=\"#DejaVuSerif-6e\" x=\"59.619141\"/>\n       <use xlink:href=\"#DejaVuSerif-67\" x=\"124.023438\"/>\n       <use xlink:href=\"#DejaVuSerif-65\" x=\"188.037109\"/>\n       <use xlink:href=\"#DejaVuSerif-72\" x=\"247.216797\"/>\n      </g>\n     </g>\n    </g>\n    <g id=\"xtick_3\">\n     <g id=\"line2d_3\">\n      <g>\n       <use xlink:href=\"#ma7c1dc00a7\" x=\"333.59338\" y=\"463.04176\" style=\"stroke: #000000; stroke-width: 0.8\"/>\n      </g>\n     </g>\n     <g id=\"text_3\">\n      <!-- fear -->\n      <g transform=\"translate(323.097264 509.584497) rotate(-45) scale(0.2 -0.2)\">\n       <defs>\n        <path id=\"DejaVuSerif-66\" d=\"M 2753 4078 \nL 2450 4078 \nQ 2447 4313 2317 4434 \nQ 2188 4556 1941 4556 \nQ 1619 4556 1487 4379 \nQ 1356 4203 1356 3750 \nL 1356 3322 \nL 2284 3322 \nL 2284 2988 \nL 1356 2988 \nL 1356 331 \nL 2094 331 \nL 2094 0 \nL 231 0 \nL 231 331 \nL 781 331 \nL 781 2988 \nL 231 2988 \nL 231 3322 \nL 781 3322 \nL 781 3738 \nQ 781 4294 1070 4578 \nQ 1359 4863 1919 4863 \nQ 2128 4863 2337 4825 \nQ 2547 4788 2753 4709 \nL 2753 4078 \nz\n\" transform=\"scale(0.015625)\"/>\n       </defs>\n       <use xlink:href=\"#DejaVuSerif-66\"/>\n       <use xlink:href=\"#DejaVuSerif-65\" x=\"37.011719\"/>\n       <use xlink:href=\"#DejaVuSerif-61\" x=\"96.191406\"/>\n       <use xlink:href=\"#DejaVuSerif-72\" x=\"155.810547\"/>\n      </g>\n     </g>\n    </g>\n    <g id=\"xtick_4\">\n     <g id=\"line2d_4\">\n      <g>\n       <use xlink:href=\"#ma7c1dc00a7\" x=\"419.914482\" y=\"463.04176\" style=\"stroke: #000000; stroke-width: 0.8\"/>\n      </g>\n     </g>\n     <g id=\"text_4\">\n      <!-- sadness -->\n      <g transform=\"translate(395.449692 537.521844) rotate(-45) scale(0.2 -0.2)\">\n       <defs>\n        <path id=\"DejaVuSerif-73\" d=\"M 359 184 \nL 359 959 \nL 691 959 \nQ 703 588 923 403 \nQ 1144 219 1575 219 \nQ 1963 219 2166 364 \nQ 2369 509 2369 788 \nQ 2369 1006 2220 1140 \nQ 2072 1275 1594 1428 \nL 1178 1569 \nQ 750 1706 558 1912 \nQ 366 2119 366 2438 \nQ 366 2894 700 3153 \nQ 1034 3413 1625 3413 \nQ 1888 3413 2178 3344 \nQ 2469 3275 2778 3144 \nL 2778 2419 \nL 2447 2419 \nQ 2434 2741 2221 2922 \nQ 2009 3103 1644 3103 \nQ 1281 3103 1095 2975 \nQ 909 2847 909 2591 \nQ 909 2381 1050 2254 \nQ 1191 2128 1613 1997 \nL 2069 1856 \nQ 2541 1709 2748 1489 \nQ 2956 1269 2956 922 \nQ 2956 450 2595 179 \nQ 2234 -91 1600 -91 \nQ 1278 -91 972 -22 \nQ 666 47 359 184 \nz\n\" transform=\"scale(0.015625)\"/>\n        <path id=\"DejaVuSerif-64\" d=\"M 3359 331 \nL 3909 331 \nL 3909 0 \nL 2784 0 \nL 2784 519 \nQ 2616 206 2355 57 \nQ 2094 -91 1709 -91 \nQ 1097 -91 708 395 \nQ 319 881 319 1663 \nQ 319 2444 706 2928 \nQ 1094 3413 1709 3413 \nQ 2094 3413 2355 3264 \nQ 2616 3116 2784 2803 \nL 2784 4531 \nL 2241 4531 \nL 2241 4863 \nL 3359 4863 \nL 3359 331 \nz\nM 2784 1497 \nL 2784 1825 \nQ 2784 2422 2554 2737 \nQ 2325 3053 1888 3053 \nQ 1444 3053 1217 2703 \nQ 991 2353 991 1663 \nQ 991 975 1217 622 \nQ 1444 269 1888 269 \nQ 2325 269 2554 583 \nQ 2784 897 2784 1497 \nz\n\" transform=\"scale(0.015625)\"/>\n       </defs>\n       <use xlink:href=\"#DejaVuSerif-73\"/>\n       <use xlink:href=\"#DejaVuSerif-61\" x=\"51.318359\"/>\n       <use xlink:href=\"#DejaVuSerif-64\" x=\"110.9375\"/>\n       <use xlink:href=\"#DejaVuSerif-6e\" x=\"174.951172\"/>\n       <use xlink:href=\"#DejaVuSerif-65\" x=\"239.355469\"/>\n       <use xlink:href=\"#DejaVuSerif-73\" x=\"298.535156\"/>\n       <use xlink:href=\"#DejaVuSerif-73\" x=\"349.853516\"/>\n      </g>\n     </g>\n    </g>\n    <g id=\"xtick_5\">\n     <g id=\"line2d_5\">\n      <g>\n       <use xlink:href=\"#ma7c1dc00a7\" x=\"506.235584\" y=\"463.04176\" style=\"stroke: #000000; stroke-width: 0.8\"/>\n      </g>\n     </g>\n     <g id=\"text_5\">\n      <!-- neutral -->\n      <g transform=\"translate(484.145126 532.77318) rotate(-45) scale(0.2 -0.2)\">\n       <defs>\n        <path id=\"DejaVuSerif-75\" d=\"M 2266 3322 \nL 3341 3322 \nL 3341 331 \nL 3884 331 \nL 3884 0 \nL 2766 0 \nL 2766 588 \nQ 2606 256 2353 82 \nQ 2100 -91 1766 -91 \nQ 1213 -91 952 223 \nQ 691 538 691 1209 \nL 691 2988 \nL 172 2988 \nL 172 3322 \nL 1269 3322 \nL 1269 1388 \nQ 1269 781 1417 556 \nQ 1566 331 1947 331 \nQ 2347 331 2556 625 \nQ 2766 919 2766 1478 \nL 2766 2988 \nL 2266 2988 \nL 2266 3322 \nz\n\" transform=\"scale(0.015625)\"/>\n        <path id=\"DejaVuSerif-74\" d=\"M 691 2988 \nL 184 2988 \nL 184 3322 \nL 691 3322 \nL 691 4353 \nL 1269 4353 \nL 1269 3322 \nL 2350 3322 \nL 2350 2988 \nL 1269 2988 \nL 1269 878 \nQ 1269 456 1350 337 \nQ 1431 219 1650 219 \nQ 1875 219 1978 351 \nQ 2081 484 2088 781 \nL 2522 781 \nQ 2497 328 2275 118 \nQ 2053 -91 1600 -91 \nQ 1103 -91 897 129 \nQ 691 350 691 878 \nL 691 2988 \nz\n\" transform=\"scale(0.015625)\"/>\n        <path id=\"DejaVuSerif-6c\" d=\"M 1313 331 \nL 1856 331 \nL 1856 0 \nL 184 0 \nL 184 331 \nL 738 331 \nL 738 4531 \nL 184 4531 \nL 184 4863 \nL 1313 4863 \nL 1313 331 \nz\n\" transform=\"scale(0.015625)\"/>\n       </defs>\n       <use xlink:href=\"#DejaVuSerif-6e\"/>\n       <use xlink:href=\"#DejaVuSerif-65\" x=\"64.404297\"/>\n       <use xlink:href=\"#DejaVuSerif-75\" x=\"123.583984\"/>\n       <use xlink:href=\"#DejaVuSerif-74\" x=\"187.988281\"/>\n       <use xlink:href=\"#DejaVuSerif-72\" x=\"228.173828\"/>\n       <use xlink:href=\"#DejaVuSerif-61\" x=\"275.976562\"/>\n       <use xlink:href=\"#DejaVuSerif-6c\" x=\"335.595703\"/>\n      </g>\n     </g>\n    </g>\n    <g id=\"text_6\">\n     <!-- Predicted label -->\n     <g transform=\"translate(256.769942 559.659841) scale(0.2 -0.2)\">\n      <defs>\n       <path id=\"DejaVuSerif-50\" d=\"M 1581 2375 \nL 2406 2375 \nQ 2872 2375 3115 2626 \nQ 3359 2878 3359 3353 \nQ 3359 3831 3115 4081 \nQ 2872 4331 2406 4331 \nL 1581 4331 \nL 1581 2375 \nz\nM 353 0 \nL 353 331 \nL 947 331 \nL 947 4331 \nL 353 4331 \nL 353 4666 \nL 2559 4666 \nQ 3259 4666 3668 4311 \nQ 4078 3956 4078 3353 \nQ 4078 2753 3668 2397 \nQ 3259 2041 2559 2041 \nL 1581 2041 \nL 1581 331 \nL 2303 331 \nL 2303 0 \nL 353 0 \nz\n\" transform=\"scale(0.015625)\"/>\n       <path id=\"DejaVuSerif-69\" d=\"M 622 4353 \nQ 622 4497 726 4603 \nQ 831 4709 978 4709 \nQ 1122 4709 1226 4603 \nQ 1331 4497 1331 4353 \nQ 1331 4206 1228 4103 \nQ 1125 4000 978 4000 \nQ 831 4000 726 4103 \nQ 622 4206 622 4353 \nz\nM 1356 331 \nL 1900 331 \nL 1900 0 \nL 231 0 \nL 231 331 \nL 781 331 \nL 781 2988 \nL 231 2988 \nL 231 3322 \nL 1356 3322 \nL 1356 331 \nz\n\" transform=\"scale(0.015625)\"/>\n       <path id=\"DejaVuSerif-63\" d=\"M 3291 997 \nQ 3169 466 2822 187 \nQ 2475 -91 1925 -91 \nQ 1200 -91 759 389 \nQ 319 869 319 1663 \nQ 319 2459 759 2936 \nQ 1200 3413 1925 3413 \nQ 2241 3413 2553 3339 \nQ 2866 3266 3181 3116 \nL 3181 2266 \nL 2847 2266 \nQ 2781 2703 2561 2903 \nQ 2341 3103 1931 3103 \nQ 1466 3103 1228 2742 \nQ 991 2381 991 1663 \nQ 991 944 1227 581 \nQ 1463 219 1931 219 \nQ 2303 219 2525 412 \nQ 2747 606 2828 997 \nL 3291 997 \nz\n\" transform=\"scale(0.015625)\"/>\n       <path id=\"DejaVuSerif-20\" transform=\"scale(0.015625)\"/>\n       <path id=\"DejaVuSerif-62\" d=\"M 738 331 \nL 738 4531 \nL 184 4531 \nL 184 4863 \nL 1313 4863 \nL 1313 2803 \nQ 1481 3116 1742 3264 \nQ 2003 3413 2388 3413 \nQ 3000 3413 3387 2928 \nQ 3775 2444 3775 1663 \nQ 3775 881 3387 395 \nQ 3000 -91 2388 -91 \nQ 2003 -91 1742 57 \nQ 1481 206 1313 519 \nL 1313 0 \nL 184 0 \nL 184 331 \nL 738 331 \nz\nM 1313 1497 \nQ 1313 897 1542 583 \nQ 1772 269 2209 269 \nQ 2650 269 2876 622 \nQ 3103 975 3103 1663 \nQ 3103 2353 2876 2703 \nQ 2650 3053 2209 3053 \nQ 1772 3053 1542 2737 \nQ 1313 2422 1313 1825 \nL 1313 1497 \nz\n\" transform=\"scale(0.015625)\"/>\n      </defs>\n      <use xlink:href=\"#DejaVuSerif-50\"/>\n      <use xlink:href=\"#DejaVuSerif-72\" x=\"67.285156\"/>\n      <use xlink:href=\"#DejaVuSerif-65\" x=\"115.087891\"/>\n      <use xlink:href=\"#DejaVuSerif-64\" x=\"174.267578\"/>\n      <use xlink:href=\"#DejaVuSerif-69\" x=\"238.28125\"/>\n      <use xlink:href=\"#DejaVuSerif-63\" x=\"270.263672\"/>\n      <use xlink:href=\"#DejaVuSerif-74\" x=\"326.269531\"/>\n      <use xlink:href=\"#DejaVuSerif-65\" x=\"366.455078\"/>\n      <use xlink:href=\"#DejaVuSerif-64\" x=\"425.634766\"/>\n      <use xlink:href=\"#DejaVuSerif-20\" x=\"489.648438\"/>\n      <use xlink:href=\"#DejaVuSerif-6c\" x=\"521.435547\"/>\n      <use xlink:href=\"#DejaVuSerif-61\" x=\"553.417969\"/>\n      <use xlink:href=\"#DejaVuSerif-62\" x=\"613.037109\"/>\n      <use xlink:href=\"#DejaVuSerif-65\" x=\"677.050781\"/>\n      <use xlink:href=\"#DejaVuSerif-6c\" x=\"736.230469\"/>\n     </g>\n     <!-- accuracy=0.8387; misclass=0.1613 -->\n     <g transform=\"translate(151.87463 582.055466) scale(0.2 -0.2)\">\n      <defs>\n       <path id=\"DejaVuSerif-3d\" d=\"M 678 2894 \nL 4684 2894 \nL 4684 2394 \nL 678 2394 \nL 678 2894 \nz\nM 678 1619 \nL 4684 1619 \nL 4684 1119 \nL 678 1119 \nL 678 1619 \nz\n\" transform=\"scale(0.015625)\"/>\n       <path id=\"DejaVuSerif-30\" d=\"M 2034 219 \nQ 2513 219 2750 744 \nQ 2988 1269 2988 2328 \nQ 2988 3391 2750 3916 \nQ 2513 4441 2034 4441 \nQ 1556 4441 1318 3916 \nQ 1081 3391 1081 2328 \nQ 1081 1269 1318 744 \nQ 1556 219 2034 219 \nz\nM 2034 -91 \nQ 1275 -91 848 546 \nQ 422 1184 422 2328 \nQ 422 3475 848 4112 \nQ 1275 4750 2034 4750 \nQ 2797 4750 3222 4112 \nQ 3647 3475 3647 2328 \nQ 3647 1184 3222 546 \nQ 2797 -91 2034 -91 \nz\n\" transform=\"scale(0.015625)\"/>\n       <path id=\"DejaVuSerif-2e\" d=\"M 603 325 \nQ 603 500 722 622 \nQ 841 744 1019 744 \nQ 1191 744 1312 622 \nQ 1434 500 1434 325 \nQ 1434 153 1312 31 \nQ 1191 -91 1019 -91 \nQ 841 -91 722 29 \nQ 603 150 603 325 \nz\n\" transform=\"scale(0.015625)\"/>\n       <path id=\"DejaVuSerif-38\" d=\"M 2981 1275 \nQ 2981 1775 2732 2051 \nQ 2484 2328 2034 2328 \nQ 1584 2328 1336 2051 \nQ 1088 1775 1088 1275 \nQ 1088 772 1336 495 \nQ 1584 219 2034 219 \nQ 2484 219 2732 495 \nQ 2981 772 2981 1275 \nz\nM 2853 3541 \nQ 2853 3966 2637 4203 \nQ 2422 4441 2034 4441 \nQ 1650 4441 1433 4203 \nQ 1216 3966 1216 3541 \nQ 1216 3113 1433 2875 \nQ 1650 2638 2034 2638 \nQ 2422 2638 2637 2875 \nQ 2853 3113 2853 3541 \nz\nM 2516 2484 \nQ 3047 2413 3344 2092 \nQ 3641 1772 3641 1275 \nQ 3641 619 3225 264 \nQ 2809 -91 2034 -91 \nQ 1263 -91 845 264 \nQ 428 619 428 1275 \nQ 428 1772 725 2092 \nQ 1022 2413 1556 2484 \nQ 1084 2569 832 2842 \nQ 581 3116 581 3541 \nQ 581 4103 968 4426 \nQ 1356 4750 2034 4750 \nQ 2713 4750 3100 4426 \nQ 3488 4103 3488 3541 \nQ 3488 3116 3236 2842 \nQ 2984 2569 2516 2484 \nz\n\" transform=\"scale(0.015625)\"/>\n       <path id=\"DejaVuSerif-33\" d=\"M 622 4469 \nQ 988 4606 1323 4678 \nQ 1659 4750 1953 4750 \nQ 2638 4750 3022 4454 \nQ 3406 4159 3406 3634 \nQ 3406 3213 3140 2930 \nQ 2875 2647 2388 2547 \nQ 2963 2466 3280 2130 \nQ 3597 1794 3597 1259 \nQ 3597 606 3158 257 \nQ 2719 -91 1894 -91 \nQ 1528 -91 1179 -12 \nQ 831 66 488 225 \nL 488 1131 \nL 838 1131 \nQ 869 681 1141 450 \nQ 1413 219 1906 219 \nQ 2384 219 2661 495 \nQ 2938 772 2938 1253 \nQ 2938 1803 2653 2086 \nQ 2369 2369 1819 2369 \nL 1522 2369 \nL 1522 2688 \nL 1678 2688 \nQ 2225 2688 2498 2914 \nQ 2772 3141 2772 3597 \nQ 2772 4006 2547 4223 \nQ 2322 4441 1900 4441 \nQ 1478 4441 1245 4241 \nQ 1013 4041 972 3647 \nL 622 3647 \nL 622 4469 \nz\n\" transform=\"scale(0.015625)\"/>\n       <path id=\"DejaVuSerif-37\" d=\"M 3609 4347 \nL 1784 0 \nL 1319 0 \nL 3059 4153 \nL 903 4153 \nL 903 3578 \nL 538 3578 \nL 538 4666 \nL 3609 4666 \nL 3609 4347 \nz\n\" transform=\"scale(0.015625)\"/>\n       <path id=\"DejaVuSerif-3b\" d=\"M 231 -622 \nQ 525 -406 662 -114 \nQ 800 178 800 594 \nL 800 709 \nL 1416 709 \nQ 1391 175 1164 -208 \nQ 938 -591 481 -872 \nL 231 -622 \nz\nM 678 2363 \nQ 678 2538 798 2658 \nQ 919 2778 1094 2778 \nQ 1269 2778 1389 2656 \nQ 1509 2534 1509 2363 \nQ 1509 2188 1389 2067 \nQ 1269 1947 1094 1947 \nQ 919 1947 798 2067 \nQ 678 2188 678 2363 \nz\n\" transform=\"scale(0.015625)\"/>\n       <path id=\"DejaVuSerif-6d\" d=\"M 3316 2675 \nQ 3481 3041 3739 3227 \nQ 3997 3413 4341 3413 \nQ 4863 3413 5119 3089 \nQ 5375 2766 5375 2113 \nL 5375 331 \nL 5894 331 \nL 5894 0 \nL 4300 0 \nL 4300 331 \nL 4800 331 \nL 4800 2047 \nQ 4800 2556 4650 2772 \nQ 4500 2988 4153 2988 \nQ 3769 2988 3567 2697 \nQ 3366 2406 3366 1850 \nL 3366 331 \nL 3866 331 \nL 3866 0 \nL 2291 0 \nL 2291 331 \nL 2791 331 \nL 2791 2069 \nQ 2791 2566 2641 2777 \nQ 2491 2988 2144 2988 \nQ 1759 2988 1557 2697 \nQ 1356 2406 1356 1850 \nL 1356 331 \nL 1856 331 \nL 1856 0 \nL 263 0 \nL 263 331 \nL 781 331 \nL 781 2994 \nL 231 2994 \nL 231 3322 \nL 1356 3322 \nL 1356 2731 \nQ 1516 3063 1762 3238 \nQ 2009 3413 2322 3413 \nQ 2709 3413 2968 3220 \nQ 3228 3028 3316 2675 \nz\n\" transform=\"scale(0.015625)\"/>\n       <path id=\"DejaVuSerif-31\" d=\"M 909 0 \nL 909 331 \nL 1722 331 \nL 1722 4213 \nL 781 3603 \nL 781 4013 \nL 1919 4750 \nL 2350 4750 \nL 2350 331 \nL 3163 331 \nL 3163 0 \nL 909 0 \nz\n\" transform=\"scale(0.015625)\"/>\n       <path id=\"DejaVuSerif-36\" d=\"M 2094 219 \nQ 2534 219 2771 542 \nQ 3009 866 3009 1472 \nQ 3009 2078 2771 2401 \nQ 2534 2725 2094 2725 \nQ 1647 2725 1412 2412 \nQ 1178 2100 1178 1509 \nQ 1178 888 1415 553 \nQ 1653 219 2094 219 \nz\nM 1075 2569 \nQ 1288 2803 1556 2918 \nQ 1825 3034 2163 3034 \nQ 2859 3034 3264 2615 \nQ 3669 2197 3669 1472 \nQ 3669 763 3233 336 \nQ 2797 -91 2069 -91 \nQ 1278 -91 853 498 \nQ 428 1088 428 2181 \nQ 428 3406 931 4078 \nQ 1434 4750 2350 4750 \nQ 2597 4750 2869 4703 \nQ 3141 4656 3425 4563 \nL 3425 3794 \nL 3072 3794 \nQ 3034 4109 2831 4275 \nQ 2628 4441 2284 4441 \nQ 1678 4441 1381 3981 \nQ 1084 3522 1075 2569 \nz\n\" transform=\"scale(0.015625)\"/>\n      </defs>\n      <use xlink:href=\"#DejaVuSerif-61\"/>\n      <use xlink:href=\"#DejaVuSerif-63\" x=\"59.619141\"/>\n      <use xlink:href=\"#DejaVuSerif-63\" x=\"115.625\"/>\n      <use xlink:href=\"#DejaVuSerif-75\" x=\"171.630859\"/>\n      <use xlink:href=\"#DejaVuSerif-72\" x=\"236.035156\"/>\n      <use xlink:href=\"#DejaVuSerif-61\" x=\"283.837891\"/>\n      <use xlink:href=\"#DejaVuSerif-63\" x=\"343.457031\"/>\n      <use xlink:href=\"#DejaVuSerif-79\" x=\"399.462891\"/>\n      <use xlink:href=\"#DejaVuSerif-3d\" x=\"455.957031\"/>\n      <use xlink:href=\"#DejaVuSerif-30\" x=\"539.746094\"/>\n      <use xlink:href=\"#DejaVuSerif-2e\" x=\"603.369141\"/>\n      <use xlink:href=\"#DejaVuSerif-38\" x=\"635.15625\"/>\n      <use xlink:href=\"#DejaVuSerif-33\" x=\"698.779297\"/>\n      <use xlink:href=\"#DejaVuSerif-38\" x=\"762.402344\"/>\n      <use xlink:href=\"#DejaVuSerif-37\" x=\"826.025391\"/>\n      <use xlink:href=\"#DejaVuSerif-3b\" x=\"889.648438\"/>\n      <use xlink:href=\"#DejaVuSerif-20\" x=\"923.339844\"/>\n      <use xlink:href=\"#DejaVuSerif-6d\" x=\"955.126953\"/>\n      <use xlink:href=\"#DejaVuSerif-69\" x=\"1049.951172\"/>\n      <use xlink:href=\"#DejaVuSerif-73\" x=\"1081.933594\"/>\n      <use xlink:href=\"#DejaVuSerif-63\" x=\"1133.251953\"/>\n      <use xlink:href=\"#DejaVuSerif-6c\" x=\"1189.257812\"/>\n      <use xlink:href=\"#DejaVuSerif-61\" x=\"1221.240234\"/>\n      <use xlink:href=\"#DejaVuSerif-73\" x=\"1280.859375\"/>\n      <use xlink:href=\"#DejaVuSerif-73\" x=\"1332.177734\"/>\n      <use xlink:href=\"#DejaVuSerif-3d\" x=\"1383.496094\"/>\n      <use xlink:href=\"#DejaVuSerif-30\" x=\"1467.285156\"/>\n      <use xlink:href=\"#DejaVuSerif-2e\" x=\"1530.908203\"/>\n      <use xlink:href=\"#DejaVuSerif-31\" x=\"1562.695312\"/>\n      <use xlink:href=\"#DejaVuSerif-36\" x=\"1626.318359\"/>\n      <use xlink:href=\"#DejaVuSerif-31\" x=\"1689.941406\"/>\n      <use xlink:href=\"#DejaVuSerif-33\" x=\"1753.564453\"/>\n     </g>\n    </g>\n   </g>\n   <g id=\"matplotlib.axis_2\">\n    <g id=\"ytick_1\">\n     <g id=\"line2d_6\">\n      <defs>\n       <path id=\"mca94a7726c\" d=\"M 0 0 \nL -3.5 0 \n\" style=\"stroke: #000000; stroke-width: 0.8\"/>\n      </defs>\n      <g>\n       <use xlink:href=\"#mca94a7726c\" x=\"117.790625\" y=\"74.596801\" style=\"stroke: #000000; stroke-width: 0.8\"/>\n      </g>\n     </g>\n     <g id=\"text_7\">\n      <!-- joy -->\n      <g transform=\"translate(81.25 82.053051) scale(0.2 -0.2)\">\n       <use xlink:href=\"#DejaVuSerif-6a\"/>\n       <use xlink:href=\"#DejaVuSerif-6f\" x=\"31.005859\"/>\n       <use xlink:href=\"#DejaVuSerif-79\" x=\"91.210938\"/>\n      </g>\n     </g>\n    </g>\n    <g id=\"ytick_2\">\n     <g id=\"line2d_7\">\n      <g>\n       <use xlink:href=\"#mca94a7726c\" x=\"117.790625\" y=\"160.917903\" style=\"stroke: #000000; stroke-width: 0.8\"/>\n      </g>\n     </g>\n     <g id=\"text_8\">\n      <!-- anger -->\n      <g transform=\"translate(51.784375 168.374153) scale(0.2 -0.2)\">\n       <use xlink:href=\"#DejaVuSerif-61\"/>\n       <use xlink:href=\"#DejaVuSerif-6e\" x=\"59.619141\"/>\n       <use xlink:href=\"#DejaVuSerif-67\" x=\"124.023438\"/>\n       <use xlink:href=\"#DejaVuSerif-65\" x=\"188.037109\"/>\n       <use xlink:href=\"#DejaVuSerif-72\" x=\"247.216797\"/>\n      </g>\n     </g>\n    </g>\n    <g id=\"ytick_3\">\n     <g id=\"line2d_8\">\n      <g>\n       <use xlink:href=\"#mca94a7726c\" x=\"117.790625\" y=\"247.239005\" style=\"stroke: #000000; stroke-width: 0.8\"/>\n      </g>\n     </g>\n     <g id=\"text_9\">\n      <!-- fear -->\n      <g transform=\"translate(70.065625 254.837442) scale(0.2 -0.2)\">\n       <use xlink:href=\"#DejaVuSerif-66\"/>\n       <use xlink:href=\"#DejaVuSerif-65\" x=\"37.011719\"/>\n       <use xlink:href=\"#DejaVuSerif-61\" x=\"96.191406\"/>\n       <use xlink:href=\"#DejaVuSerif-72\" x=\"155.810547\"/>\n      </g>\n     </g>\n    </g>\n    <g id=\"ytick_4\">\n     <g id=\"line2d_9\">\n      <g>\n       <use xlink:href=\"#mca94a7726c\" x=\"117.790625\" y=\"333.560107\" style=\"stroke: #000000; stroke-width: 0.8\"/>\n      </g>\n     </g>\n     <g id=\"text_10\">\n      <!-- sadness -->\n      <g transform=\"translate(30.55625 341.158544) scale(0.2 -0.2)\">\n       <use xlink:href=\"#DejaVuSerif-73\"/>\n       <use xlink:href=\"#DejaVuSerif-61\" x=\"51.318359\"/>\n       <use xlink:href=\"#DejaVuSerif-64\" x=\"110.9375\"/>\n       <use xlink:href=\"#DejaVuSerif-6e\" x=\"174.951172\"/>\n       <use xlink:href=\"#DejaVuSerif-65\" x=\"239.355469\"/>\n       <use xlink:href=\"#DejaVuSerif-73\" x=\"298.535156\"/>\n       <use xlink:href=\"#DejaVuSerif-73\" x=\"349.853516\"/>\n      </g>\n     </g>\n    </g>\n    <g id=\"ytick_5\">\n     <g id=\"line2d_10\">\n      <g>\n       <use xlink:href=\"#mca94a7726c\" x=\"117.790625\" y=\"419.881209\" style=\"stroke: #000000; stroke-width: 0.8\"/>\n      </g>\n     </g>\n     <g id=\"text_11\">\n      <!-- neutral -->\n      <g transform=\"translate(37.271875 427.479646) scale(0.2 -0.2)\">\n       <use xlink:href=\"#DejaVuSerif-6e\"/>\n       <use xlink:href=\"#DejaVuSerif-65\" x=\"64.404297\"/>\n       <use xlink:href=\"#DejaVuSerif-75\" x=\"123.583984\"/>\n       <use xlink:href=\"#DejaVuSerif-74\" x=\"187.988281\"/>\n       <use xlink:href=\"#DejaVuSerif-72\" x=\"228.173828\"/>\n       <use xlink:href=\"#DejaVuSerif-61\" x=\"275.976562\"/>\n       <use xlink:href=\"#DejaVuSerif-6c\" x=\"335.595703\"/>\n      </g>\n     </g>\n    </g>\n    <g id=\"text_12\">\n     <!-- True label -->\n     <g transform=\"translate(22.396875 298.906192) rotate(-90) scale(0.2 -0.2)\">\n      <defs>\n       <path id=\"DejaVuSerif-54\" d=\"M 1222 0 \nL 1222 331 \nL 1819 331 \nL 1819 4294 \nL 447 4294 \nL 447 3566 \nL 63 3566 \nL 63 4666 \nL 4206 4666 \nL 4206 3566 \nL 3822 3566 \nL 3822 4294 \nL 2450 4294 \nL 2450 331 \nL 3047 331 \nL 3047 0 \nL 1222 0 \nz\n\" transform=\"scale(0.015625)\"/>\n      </defs>\n      <use xlink:href=\"#DejaVuSerif-54\"/>\n      <use xlink:href=\"#DejaVuSerif-72\" x=\"66.699219\"/>\n      <use xlink:href=\"#DejaVuSerif-75\" x=\"114.501953\"/>\n      <use xlink:href=\"#DejaVuSerif-65\" x=\"178.90625\"/>\n      <use xlink:href=\"#DejaVuSerif-20\" x=\"238.085938\"/>\n      <use xlink:href=\"#DejaVuSerif-6c\" x=\"269.873047\"/>\n      <use xlink:href=\"#DejaVuSerif-61\" x=\"301.855469\"/>\n      <use xlink:href=\"#DejaVuSerif-62\" x=\"361.474609\"/>\n      <use xlink:href=\"#DejaVuSerif-65\" x=\"425.488281\"/>\n      <use xlink:href=\"#DejaVuSerif-6c\" x=\"484.667969\"/>\n     </g>\n    </g>\n   </g>\n   <g id=\"patch_3\">\n    <path d=\"M 117.790625 463.04176 \nL 117.790625 31.43625 \n\" style=\"fill: none; stroke: #000000; stroke-width: 0.8; stroke-linejoin: miter; stroke-linecap: square\"/>\n   </g>\n   <g id=\"patch_4\">\n    <path d=\"M 549.396135 463.04176 \nL 549.396135 31.43625 \n\" style=\"fill: none; stroke: #000000; stroke-width: 0.8; stroke-linejoin: miter; stroke-linecap: square\"/>\n   </g>\n   <g id=\"patch_5\">\n    <path d=\"M 117.790625 463.04176 \nL 549.396135 463.04176 \n\" style=\"fill: none; stroke: #000000; stroke-width: 0.8; stroke-linejoin: miter; stroke-linecap: square\"/>\n   </g>\n   <g id=\"patch_6\">\n    <path d=\"M 117.790625 31.43625 \nL 549.396135 31.43625 \n\" style=\"fill: none; stroke: #000000; stroke-width: 0.8; stroke-linejoin: miter; stroke-linecap: square\"/>\n   </g>\n   <g id=\"text_13\">\n    <!-- 0.8533 -->\n    <g style=\"fill: #ffffff\" transform=\"translate(125.960551 74.596801) scale(0.2 -0.2)\">\n     <defs>\n      <path id=\"DejaVuSerif-35\" d=\"M 3219 4666 \nL 3219 4153 \nL 1081 4153 \nL 1081 2816 \nQ 1244 2928 1461 2984 \nQ 1678 3041 1947 3041 \nQ 2703 3041 3140 2622 \nQ 3578 2203 3578 1478 \nQ 3578 738 3136 323 \nQ 2694 -91 1894 -91 \nQ 1572 -91 1234 -12 \nQ 897 66 544 225 \nL 544 1131 \nL 897 1131 \nQ 925 688 1179 453 \nQ 1434 219 1894 219 \nQ 2388 219 2653 544 \nQ 2919 869 2919 1478 \nQ 2919 2084 2655 2407 \nQ 2391 2731 1894 2731 \nQ 1613 2731 1398 2631 \nQ 1184 2531 1019 2322 \nL 750 2322 \nL 750 4666 \nL 3219 4666 \nz\n\" transform=\"scale(0.015625)\"/>\n     </defs>\n     <use xlink:href=\"#DejaVuSerif-30\"/>\n     <use xlink:href=\"#DejaVuSerif-2e\" x=\"63.623047\"/>\n     <use xlink:href=\"#DejaVuSerif-38\" x=\"95.410156\"/>\n     <use xlink:href=\"#DejaVuSerif-35\" x=\"159.033203\"/>\n     <use xlink:href=\"#DejaVuSerif-33\" x=\"222.65625\"/>\n     <use xlink:href=\"#DejaVuSerif-33\" x=\"286.279297\"/>\n    </g>\n   </g>\n   <g id=\"text_14\">\n    <!-- 0.0200 -->\n    <g transform=\"translate(212.281653 74.596801) scale(0.2 -0.2)\">\n     <defs>\n      <path id=\"DejaVuSerif-32\" d=\"M 819 3553 \nL 469 3553 \nL 469 4384 \nQ 803 4563 1142 4656 \nQ 1481 4750 1806 4750 \nQ 2534 4750 2956 4397 \nQ 3378 4044 3378 3438 \nQ 3378 2753 2422 1800 \nQ 2347 1728 2309 1691 \nL 1131 513 \nL 3078 513 \nL 3078 1088 \nL 3444 1088 \nL 3444 0 \nL 434 0 \nL 434 341 \nL 1850 1753 \nQ 2319 2222 2519 2614 \nQ 2719 3006 2719 3438 \nQ 2719 3909 2473 4175 \nQ 2228 4441 1797 4441 \nQ 1350 4441 1106 4219 \nQ 863 3997 819 3553 \nz\n\" transform=\"scale(0.015625)\"/>\n     </defs>\n     <use xlink:href=\"#DejaVuSerif-30\"/>\n     <use xlink:href=\"#DejaVuSerif-2e\" x=\"63.623047\"/>\n     <use xlink:href=\"#DejaVuSerif-30\" x=\"95.410156\"/>\n     <use xlink:href=\"#DejaVuSerif-32\" x=\"159.033203\"/>\n     <use xlink:href=\"#DejaVuSerif-30\" x=\"222.65625\"/>\n     <use xlink:href=\"#DejaVuSerif-30\" x=\"286.279297\"/>\n    </g>\n   </g>\n   <g id=\"text_15\">\n    <!-- 0.0267 -->\n    <g transform=\"translate(298.602755 74.596801) scale(0.2 -0.2)\">\n     <use xlink:href=\"#DejaVuSerif-30\"/>\n     <use xlink:href=\"#DejaVuSerif-2e\" x=\"63.623047\"/>\n     <use xlink:href=\"#DejaVuSerif-30\" x=\"95.410156\"/>\n     <use xlink:href=\"#DejaVuSerif-32\" x=\"159.033203\"/>\n     <use xlink:href=\"#DejaVuSerif-36\" x=\"222.65625\"/>\n     <use xlink:href=\"#DejaVuSerif-37\" x=\"286.279297\"/>\n    </g>\n   </g>\n   <g id=\"text_16\">\n    <!-- 0.0200 -->\n    <g transform=\"translate(384.923857 74.596801) scale(0.2 -0.2)\">\n     <use xlink:href=\"#DejaVuSerif-30\"/>\n     <use xlink:href=\"#DejaVuSerif-2e\" x=\"63.623047\"/>\n     <use xlink:href=\"#DejaVuSerif-30\" x=\"95.410156\"/>\n     <use xlink:href=\"#DejaVuSerif-32\" x=\"159.033203\"/>\n     <use xlink:href=\"#DejaVuSerif-30\" x=\"222.65625\"/>\n     <use xlink:href=\"#DejaVuSerif-30\" x=\"286.279297\"/>\n    </g>\n   </g>\n   <g id=\"text_17\">\n    <!-- 0.0800 -->\n    <g transform=\"translate(471.244959 74.596801) scale(0.2 -0.2)\">\n     <use xlink:href=\"#DejaVuSerif-30\"/>\n     <use xlink:href=\"#DejaVuSerif-2e\" x=\"63.623047\"/>\n     <use xlink:href=\"#DejaVuSerif-30\" x=\"95.410156\"/>\n     <use xlink:href=\"#DejaVuSerif-38\" x=\"159.033203\"/>\n     <use xlink:href=\"#DejaVuSerif-30\" x=\"222.65625\"/>\n     <use xlink:href=\"#DejaVuSerif-30\" x=\"286.279297\"/>\n    </g>\n   </g>\n   <g id=\"text_18\">\n    <!-- 0.0133 -->\n    <g transform=\"translate(125.960551 160.917903) scale(0.2 -0.2)\">\n     <use xlink:href=\"#DejaVuSerif-30\"/>\n     <use xlink:href=\"#DejaVuSerif-2e\" x=\"63.623047\"/>\n     <use xlink:href=\"#DejaVuSerif-30\" x=\"95.410156\"/>\n     <use xlink:href=\"#DejaVuSerif-31\" x=\"159.033203\"/>\n     <use xlink:href=\"#DejaVuSerif-33\" x=\"222.65625\"/>\n     <use xlink:href=\"#DejaVuSerif-33\" x=\"286.279297\"/>\n    </g>\n   </g>\n   <g id=\"text_19\">\n    <!-- 0.8800 -->\n    <g style=\"fill: #ffffff\" transform=\"translate(212.281653 160.917903) scale(0.2 -0.2)\">\n     <use xlink:href=\"#DejaVuSerif-30\"/>\n     <use xlink:href=\"#DejaVuSerif-2e\" x=\"63.623047\"/>\n     <use xlink:href=\"#DejaVuSerif-38\" x=\"95.410156\"/>\n     <use xlink:href=\"#DejaVuSerif-38\" x=\"159.033203\"/>\n     <use xlink:href=\"#DejaVuSerif-30\" x=\"222.65625\"/>\n     <use xlink:href=\"#DejaVuSerif-30\" x=\"286.279297\"/>\n    </g>\n   </g>\n   <g id=\"text_20\">\n    <!-- 0.0267 -->\n    <g transform=\"translate(298.602755 160.917903) scale(0.2 -0.2)\">\n     <use xlink:href=\"#DejaVuSerif-30\"/>\n     <use xlink:href=\"#DejaVuSerif-2e\" x=\"63.623047\"/>\n     <use xlink:href=\"#DejaVuSerif-30\" x=\"95.410156\"/>\n     <use xlink:href=\"#DejaVuSerif-32\" x=\"159.033203\"/>\n     <use xlink:href=\"#DejaVuSerif-36\" x=\"222.65625\"/>\n     <use xlink:href=\"#DejaVuSerif-37\" x=\"286.279297\"/>\n    </g>\n   </g>\n   <g id=\"text_21\">\n    <!-- 0.0200 -->\n    <g transform=\"translate(384.923857 160.917903) scale(0.2 -0.2)\">\n     <use xlink:href=\"#DejaVuSerif-30\"/>\n     <use xlink:href=\"#DejaVuSerif-2e\" x=\"63.623047\"/>\n     <use xlink:href=\"#DejaVuSerif-30\" x=\"95.410156\"/>\n     <use xlink:href=\"#DejaVuSerif-32\" x=\"159.033203\"/>\n     <use xlink:href=\"#DejaVuSerif-30\" x=\"222.65625\"/>\n     <use xlink:href=\"#DejaVuSerif-30\" x=\"286.279297\"/>\n    </g>\n   </g>\n   <g id=\"text_22\">\n    <!-- 0.0600 -->\n    <g transform=\"translate(471.244959 160.917903) scale(0.2 -0.2)\">\n     <use xlink:href=\"#DejaVuSerif-30\"/>\n     <use xlink:href=\"#DejaVuSerif-2e\" x=\"63.623047\"/>\n     <use xlink:href=\"#DejaVuSerif-30\" x=\"95.410156\"/>\n     <use xlink:href=\"#DejaVuSerif-36\" x=\"159.033203\"/>\n     <use xlink:href=\"#DejaVuSerif-30\" x=\"222.65625\"/>\n     <use xlink:href=\"#DejaVuSerif-30\" x=\"286.279297\"/>\n    </g>\n   </g>\n   <g id=\"text_23\">\n    <!-- 0.0067 -->\n    <g transform=\"translate(125.960551 247.239005) scale(0.2 -0.2)\">\n     <use xlink:href=\"#DejaVuSerif-30\"/>\n     <use xlink:href=\"#DejaVuSerif-2e\" x=\"63.623047\"/>\n     <use xlink:href=\"#DejaVuSerif-30\" x=\"95.410156\"/>\n     <use xlink:href=\"#DejaVuSerif-30\" x=\"159.033203\"/>\n     <use xlink:href=\"#DejaVuSerif-36\" x=\"222.65625\"/>\n     <use xlink:href=\"#DejaVuSerif-37\" x=\"286.279297\"/>\n    </g>\n   </g>\n   <g id=\"text_24\">\n    <!-- 0.0067 -->\n    <g transform=\"translate(212.281653 247.239005) scale(0.2 -0.2)\">\n     <use xlink:href=\"#DejaVuSerif-30\"/>\n     <use xlink:href=\"#DejaVuSerif-2e\" x=\"63.623047\"/>\n     <use xlink:href=\"#DejaVuSerif-30\" x=\"95.410156\"/>\n     <use xlink:href=\"#DejaVuSerif-30\" x=\"159.033203\"/>\n     <use xlink:href=\"#DejaVuSerif-36\" x=\"222.65625\"/>\n     <use xlink:href=\"#DejaVuSerif-37\" x=\"286.279297\"/>\n    </g>\n   </g>\n   <g id=\"text_25\">\n    <!-- 0.8000 -->\n    <g style=\"fill: #ffffff\" transform=\"translate(298.602755 247.239005) scale(0.2 -0.2)\">\n     <use xlink:href=\"#DejaVuSerif-30\"/>\n     <use xlink:href=\"#DejaVuSerif-2e\" x=\"63.623047\"/>\n     <use xlink:href=\"#DejaVuSerif-38\" x=\"95.410156\"/>\n     <use xlink:href=\"#DejaVuSerif-30\" x=\"159.033203\"/>\n     <use xlink:href=\"#DejaVuSerif-30\" x=\"222.65625\"/>\n     <use xlink:href=\"#DejaVuSerif-30\" x=\"286.279297\"/>\n    </g>\n   </g>\n   <g id=\"text_26\">\n    <!-- 0.0600 -->\n    <g transform=\"translate(384.923857 247.239005) scale(0.2 -0.2)\">\n     <use xlink:href=\"#DejaVuSerif-30\"/>\n     <use xlink:href=\"#DejaVuSerif-2e\" x=\"63.623047\"/>\n     <use xlink:href=\"#DejaVuSerif-30\" x=\"95.410156\"/>\n     <use xlink:href=\"#DejaVuSerif-36\" x=\"159.033203\"/>\n     <use xlink:href=\"#DejaVuSerif-30\" x=\"222.65625\"/>\n     <use xlink:href=\"#DejaVuSerif-30\" x=\"286.279297\"/>\n    </g>\n   </g>\n   <g id=\"text_27\">\n    <!-- 0.1267 -->\n    <g transform=\"translate(471.244959 247.239005) scale(0.2 -0.2)\">\n     <use xlink:href=\"#DejaVuSerif-30\"/>\n     <use xlink:href=\"#DejaVuSerif-2e\" x=\"63.623047\"/>\n     <use xlink:href=\"#DejaVuSerif-31\" x=\"95.410156\"/>\n     <use xlink:href=\"#DejaVuSerif-32\" x=\"159.033203\"/>\n     <use xlink:href=\"#DejaVuSerif-36\" x=\"222.65625\"/>\n     <use xlink:href=\"#DejaVuSerif-37\" x=\"286.279297\"/>\n    </g>\n   </g>\n   <g id=\"text_28\">\n    <!-- 0.0067 -->\n    <g transform=\"translate(125.960551 333.560107) scale(0.2 -0.2)\">\n     <use xlink:href=\"#DejaVuSerif-30\"/>\n     <use xlink:href=\"#DejaVuSerif-2e\" x=\"63.623047\"/>\n     <use xlink:href=\"#DejaVuSerif-30\" x=\"95.410156\"/>\n     <use xlink:href=\"#DejaVuSerif-30\" x=\"159.033203\"/>\n     <use xlink:href=\"#DejaVuSerif-36\" x=\"222.65625\"/>\n     <use xlink:href=\"#DejaVuSerif-37\" x=\"286.279297\"/>\n    </g>\n   </g>\n   <g id=\"text_29\">\n    <!-- 0.0067 -->\n    <g transform=\"translate(212.281653 333.560107) scale(0.2 -0.2)\">\n     <use xlink:href=\"#DejaVuSerif-30\"/>\n     <use xlink:href=\"#DejaVuSerif-2e\" x=\"63.623047\"/>\n     <use xlink:href=\"#DejaVuSerif-30\" x=\"95.410156\"/>\n     <use xlink:href=\"#DejaVuSerif-30\" x=\"159.033203\"/>\n     <use xlink:href=\"#DejaVuSerif-36\" x=\"222.65625\"/>\n     <use xlink:href=\"#DejaVuSerif-37\" x=\"286.279297\"/>\n    </g>\n   </g>\n   <g id=\"text_30\">\n    <!-- 0.0467 -->\n    <g transform=\"translate(298.602755 333.560107) scale(0.2 -0.2)\">\n     <defs>\n      <path id=\"DejaVuSerif-34\" d=\"M 2234 1581 \nL 2234 4063 \nL 641 1581 \nL 2234 1581 \nz\nM 3609 0 \nL 1484 0 \nL 1484 331 \nL 2234 331 \nL 2234 1247 \nL 197 1247 \nL 197 1588 \nL 2241 4750 \nL 2859 4750 \nL 2859 1581 \nL 3750 1581 \nL 3750 1247 \nL 2859 1247 \nL 2859 331 \nL 3609 331 \nL 3609 0 \nz\n\" transform=\"scale(0.015625)\"/>\n     </defs>\n     <use xlink:href=\"#DejaVuSerif-30\"/>\n     <use xlink:href=\"#DejaVuSerif-2e\" x=\"63.623047\"/>\n     <use xlink:href=\"#DejaVuSerif-30\" x=\"95.410156\"/>\n     <use xlink:href=\"#DejaVuSerif-34\" x=\"159.033203\"/>\n     <use xlink:href=\"#DejaVuSerif-36\" x=\"222.65625\"/>\n     <use xlink:href=\"#DejaVuSerif-37\" x=\"286.279297\"/>\n    </g>\n   </g>\n   <g id=\"text_31\">\n    <!-- 0.8667 -->\n    <g style=\"fill: #ffffff\" transform=\"translate(384.923857 333.560107) scale(0.2 -0.2)\">\n     <use xlink:href=\"#DejaVuSerif-30\"/>\n     <use xlink:href=\"#DejaVuSerif-2e\" x=\"63.623047\"/>\n     <use xlink:href=\"#DejaVuSerif-38\" x=\"95.410156\"/>\n     <use xlink:href=\"#DejaVuSerif-36\" x=\"159.033203\"/>\n     <use xlink:href=\"#DejaVuSerif-36\" x=\"222.65625\"/>\n     <use xlink:href=\"#DejaVuSerif-37\" x=\"286.279297\"/>\n    </g>\n   </g>\n   <g id=\"text_32\">\n    <!-- 0.0733 -->\n    <g transform=\"translate(471.244959 333.560107) scale(0.2 -0.2)\">\n     <use xlink:href=\"#DejaVuSerif-30\"/>\n     <use xlink:href=\"#DejaVuSerif-2e\" x=\"63.623047\"/>\n     <use xlink:href=\"#DejaVuSerif-30\" x=\"95.410156\"/>\n     <use xlink:href=\"#DejaVuSerif-37\" x=\"159.033203\"/>\n     <use xlink:href=\"#DejaVuSerif-33\" x=\"222.65625\"/>\n     <use xlink:href=\"#DejaVuSerif-33\" x=\"286.279297\"/>\n    </g>\n   </g>\n   <g id=\"text_33\">\n    <!-- 0.0467 -->\n    <g transform=\"translate(125.960551 419.881209) scale(0.2 -0.2)\">\n     <use xlink:href=\"#DejaVuSerif-30\"/>\n     <use xlink:href=\"#DejaVuSerif-2e\" x=\"63.623047\"/>\n     <use xlink:href=\"#DejaVuSerif-30\" x=\"95.410156\"/>\n     <use xlink:href=\"#DejaVuSerif-34\" x=\"159.033203\"/>\n     <use xlink:href=\"#DejaVuSerif-36\" x=\"222.65625\"/>\n     <use xlink:href=\"#DejaVuSerif-37\" x=\"286.279297\"/>\n    </g>\n   </g>\n   <g id=\"text_34\">\n    <!-- 0.0333 -->\n    <g transform=\"translate(212.281653 419.881209) scale(0.2 -0.2)\">\n     <use xlink:href=\"#DejaVuSerif-30\"/>\n     <use xlink:href=\"#DejaVuSerif-2e\" x=\"63.623047\"/>\n     <use xlink:href=\"#DejaVuSerif-30\" x=\"95.410156\"/>\n     <use xlink:href=\"#DejaVuSerif-33\" x=\"159.033203\"/>\n     <use xlink:href=\"#DejaVuSerif-33\" x=\"222.65625\"/>\n     <use xlink:href=\"#DejaVuSerif-33\" x=\"286.279297\"/>\n    </g>\n   </g>\n   <g id=\"text_35\">\n    <!-- 0.0600 -->\n    <g transform=\"translate(298.602755 419.881209) scale(0.2 -0.2)\">\n     <use xlink:href=\"#DejaVuSerif-30\"/>\n     <use xlink:href=\"#DejaVuSerif-2e\" x=\"63.623047\"/>\n     <use xlink:href=\"#DejaVuSerif-30\" x=\"95.410156\"/>\n     <use xlink:href=\"#DejaVuSerif-36\" x=\"159.033203\"/>\n     <use xlink:href=\"#DejaVuSerif-30\" x=\"222.65625\"/>\n     <use xlink:href=\"#DejaVuSerif-30\" x=\"286.279297\"/>\n    </g>\n   </g>\n   <g id=\"text_36\">\n    <!-- 0.0667 -->\n    <g transform=\"translate(384.923857 419.881209) scale(0.2 -0.2)\">\n     <use xlink:href=\"#DejaVuSerif-30\"/>\n     <use xlink:href=\"#DejaVuSerif-2e\" x=\"63.623047\"/>\n     <use xlink:href=\"#DejaVuSerif-30\" x=\"95.410156\"/>\n     <use xlink:href=\"#DejaVuSerif-36\" x=\"159.033203\"/>\n     <use xlink:href=\"#DejaVuSerif-36\" x=\"222.65625\"/>\n     <use xlink:href=\"#DejaVuSerif-37\" x=\"286.279297\"/>\n    </g>\n   </g>\n   <g id=\"text_37\">\n    <!-- 0.7933 -->\n    <g style=\"fill: #ffffff\" transform=\"translate(471.244959 419.881209) scale(0.2 -0.2)\">\n     <defs>\n      <path id=\"DejaVuSerif-39\" d=\"M 2994 2091 \nQ 2784 1856 2512 1740 \nQ 2241 1625 1900 1625 \nQ 1206 1625 804 2044 \nQ 403 2463 403 3188 \nQ 403 3897 839 4323 \nQ 1275 4750 2003 4750 \nQ 2794 4750 3217 4161 \nQ 3641 3572 3641 2478 \nQ 3641 1253 3137 581 \nQ 2634 -91 1722 -91 \nQ 1475 -91 1203 -44 \nQ 931 3 647 97 \nL 647 872 \nL 997 872 \nQ 1038 556 1241 387 \nQ 1444 219 1784 219 \nQ 2391 219 2687 676 \nQ 2984 1134 2994 2091 \nz\nM 1978 4441 \nQ 1534 4441 1298 4117 \nQ 1063 3794 1063 3188 \nQ 1063 2581 1298 2256 \nQ 1534 1931 1978 1931 \nQ 2422 1931 2658 2245 \nQ 2894 2559 2894 3150 \nQ 2894 3772 2656 4106 \nQ 2419 4441 1978 4441 \nz\n\" transform=\"scale(0.015625)\"/>\n     </defs>\n     <use xlink:href=\"#DejaVuSerif-30\"/>\n     <use xlink:href=\"#DejaVuSerif-2e\" x=\"63.623047\"/>\n     <use xlink:href=\"#DejaVuSerif-37\" x=\"95.410156\"/>\n     <use xlink:href=\"#DejaVuSerif-39\" x=\"159.033203\"/>\n     <use xlink:href=\"#DejaVuSerif-33\" x=\"222.65625\"/>\n     <use xlink:href=\"#DejaVuSerif-33\" x=\"286.279297\"/>\n    </g>\n   </g>\n   <g id=\"text_38\">\n    <!-- Confusion matrix -->\n    <g transform=\"translate(228.827755 25.43625) scale(0.24 -0.24)\">\n     <defs>\n      <path id=\"DejaVuSerif-43\" d=\"M 4513 1234 \nQ 4306 581 3820 245 \nQ 3334 -91 2591 -91 \nQ 2134 -91 1743 65 \nQ 1353 222 1050 525 \nQ 700 875 529 1320 \nQ 359 1766 359 2328 \nQ 359 3416 987 4083 \nQ 1616 4750 2644 4750 \nQ 3025 4750 3456 4650 \nQ 3888 4550 4384 4347 \nL 4384 3272 \nL 4031 3272 \nQ 3916 3859 3567 4137 \nQ 3219 4416 2591 4416 \nQ 1844 4416 1459 3886 \nQ 1075 3356 1075 2328 \nQ 1075 1303 1459 773 \nQ 1844 244 2591 244 \nQ 3113 244 3450 492 \nQ 3788 741 3938 1234 \nL 4513 1234 \nz\n\" transform=\"scale(0.015625)\"/>\n      <path id=\"DejaVuSerif-78\" d=\"M 1863 2028 \nL 2559 2988 \nL 2113 2988 \nL 2113 3322 \nL 3391 3322 \nL 3391 2988 \nL 2950 2988 \nL 2059 1759 \nL 3097 331 \nL 3531 331 \nL 3531 0 \nL 1997 0 \nL 1997 331 \nL 2419 331 \nL 1697 1325 \nL 972 331 \nL 1403 331 \nL 1403 0 \nL 141 0 \nL 141 331 \nL 581 331 \nL 1497 1594 \nL 488 2988 \nL 78 2988 \nL 78 3322 \nL 1563 3322 \nL 1563 2988 \nL 1166 2988 \nL 1863 2028 \nz\n\" transform=\"scale(0.015625)\"/>\n     </defs>\n     <use xlink:href=\"#DejaVuSerif-43\"/>\n     <use xlink:href=\"#DejaVuSerif-6f\" x=\"76.513672\"/>\n     <use xlink:href=\"#DejaVuSerif-6e\" x=\"136.71875\"/>\n     <use xlink:href=\"#DejaVuSerif-66\" x=\"201.123047\"/>\n     <use xlink:href=\"#DejaVuSerif-75\" x=\"238.134766\"/>\n     <use xlink:href=\"#DejaVuSerif-73\" x=\"302.539062\"/>\n     <use xlink:href=\"#DejaVuSerif-69\" x=\"353.857422\"/>\n     <use xlink:href=\"#DejaVuSerif-6f\" x=\"385.839844\"/>\n     <use xlink:href=\"#DejaVuSerif-6e\" x=\"446.044922\"/>\n     <use xlink:href=\"#DejaVuSerif-20\" x=\"510.449219\"/>\n     <use xlink:href=\"#DejaVuSerif-6d\" x=\"542.236328\"/>\n     <use xlink:href=\"#DejaVuSerif-61\" x=\"637.060547\"/>\n     <use xlink:href=\"#DejaVuSerif-74\" x=\"696.679688\"/>\n     <use xlink:href=\"#DejaVuSerif-72\" x=\"736.865234\"/>\n     <use xlink:href=\"#DejaVuSerif-69\" x=\"784.667969\"/>\n     <use xlink:href=\"#DejaVuSerif-78\" x=\"816.650391\"/>\n    </g>\n   </g>\n  </g>\n  <g id=\"axes_2\">\n   <g id=\"patch_7\">\n    <path d=\"M 590.436135 463.04176 \nL 612.01641 463.04176 \nL 612.01641 31.43625 \nL 590.436135 31.43625 \nz\n\" style=\"fill: #ffffff\"/>\n   </g>\n   <image xlink:href=\"data:image/png;base64,\niVBORw0KGgoAAAANSUhEUgAAAB4AAAJYCAYAAAB1rlb6AAACt0lEQVR4nO2ciQ3DMAzE0sL7L9wnnaIUIJILHBwfFSd9Hu/X574GeE6EFoxy7nukW8JL7Qs+Q90SXmpf8Llsk+sM2TS6xzPBQp2E5RpqVzrtDzbqZCvXuW0DpHJh+AZIwRg9O2E0MvcHK8slGyAFY/TaeH9wz04YHQT2BzcyMYSvjStXwf/CV64GCIZRp6HgXkVgpBNGOmG0x/uDfZPL9/KlN3sYPp0KxvD9MiSdCv4bRp2Ggjvs7Q9OJ4x02h/se2jzHfbSCSOdMHzl8gX7yuU73haM4StXAwRDqdNMcCvGSCeMyoXRu8z9wcZyNUAghDrpXqL6yuUbIJULw1cu3x5XLgzfJ22VC0O54nRiqFwY7fH+4MqF0R7vDza+57I9SfgGyOCl/lYuhu5O+4N9lzqdMNIJI50wfHvcpcYw6mQ70FcuDOEA0f3rXDphCHXSrTidMHzl8u1x52qMdMIw6iQsl2/FM8HphFG59gcry2Vbse5rVZULwzerfXtcuTCUK04nhsqF0R7vDzaWayg4nfYHG3Wylcu3x5ULw/d9Lt8eN7kwfOXyrbgfPmP4yuUbmZULw1cu3x5XLgxfuXwrTicM31dufHvczxUwfOXyDZB0wvDpNOixsFwzwem0PzidMNJpf7BSJ92KvzPBRp185fKtOJ0ghOUSDhDbCaQnCYyOtxjphJFOGOmE4TsI+D7iSycMoU7C+3E6QaQTRjrtD04njHTaH+z7TML3JJFOGMJZ7bsfpxNFOmEoyyW71MbXxukEIZzVuoNAOmGkE0Y67Q9OJ4zeZe4PFj47+VZ8pROEsFzdjymMOtnO1emEYdRJVy7f/bjDHoWwXL4V6z5p67CH4SuXb4B02MPwPUn4RmY6YRh1su1xkwvDd9jrlInhm1y+u1OzGiOdMIw66crlGyAd9ih8h70fc9cgb/M4qWkAAAAASUVORK5CYII=\" id=\"image4e7875998d\" transform=\"scale(1 -1) translate(0 -432)\" x=\"590.4\" y=\"-30.96\" width=\"21.6\" height=\"432\"/>\n   <g id=\"matplotlib.axis_3\"/>\n   <g id=\"matplotlib.axis_4\">\n    <g id=\"ytick_6\">\n     <g id=\"line2d_11\">\n      <defs>\n       <path id=\"m8a22dd3f29\" d=\"M 0 0 \nL 3.5 0 \n\" style=\"stroke: #000000; stroke-width: 0.8\"/>\n      </defs>\n      <g>\n       <use xlink:href=\"#m8a22dd3f29\" x=\"612.01641\" y=\"400.442487\" style=\"stroke: #000000; stroke-width: 0.8\"/>\n      </g>\n     </g>\n     <g id=\"text_39\">\n      <!-- 20 -->\n      <g transform=\"translate(619.01641 408.040925) scale(0.2 -0.2)\">\n       <use xlink:href=\"#DejaVuSerif-32\"/>\n       <use xlink:href=\"#DejaVuSerif-30\" x=\"63.623047\"/>\n      </g>\n     </g>\n    </g>\n    <g id=\"ytick_7\">\n     <g id=\"line2d_12\">\n      <g>\n       <use xlink:href=\"#m8a22dd3f29\" x=\"612.01641\" y=\"334.548516\" style=\"stroke: #000000; stroke-width: 0.8\"/>\n      </g>\n     </g>\n     <g id=\"text_40\">\n      <!-- 40 -->\n      <g transform=\"translate(619.01641 342.146954) scale(0.2 -0.2)\">\n       <use xlink:href=\"#DejaVuSerif-34\"/>\n       <use xlink:href=\"#DejaVuSerif-30\" x=\"63.623047\"/>\n      </g>\n     </g>\n    </g>\n    <g id=\"ytick_8\">\n     <g id=\"line2d_13\">\n      <g>\n       <use xlink:href=\"#m8a22dd3f29\" x=\"612.01641\" y=\"268.654545\" style=\"stroke: #000000; stroke-width: 0.8\"/>\n      </g>\n     </g>\n     <g id=\"text_41\">\n      <!-- 60 -->\n      <g transform=\"translate(619.01641 276.252983) scale(0.2 -0.2)\">\n       <use xlink:href=\"#DejaVuSerif-36\"/>\n       <use xlink:href=\"#DejaVuSerif-30\" x=\"63.623047\"/>\n      </g>\n     </g>\n    </g>\n    <g id=\"ytick_9\">\n     <g id=\"line2d_14\">\n      <g>\n       <use xlink:href=\"#m8a22dd3f29\" x=\"612.01641\" y=\"202.760575\" style=\"stroke: #000000; stroke-width: 0.8\"/>\n      </g>\n     </g>\n     <g id=\"text_42\">\n      <!-- 80 -->\n      <g transform=\"translate(619.01641 210.359012) scale(0.2 -0.2)\">\n       <use xlink:href=\"#DejaVuSerif-38\"/>\n       <use xlink:href=\"#DejaVuSerif-30\" x=\"63.623047\"/>\n      </g>\n     </g>\n    </g>\n    <g id=\"ytick_10\">\n     <g id=\"line2d_15\">\n      <g>\n       <use xlink:href=\"#m8a22dd3f29\" x=\"612.01641\" y=\"136.866604\" style=\"stroke: #000000; stroke-width: 0.8\"/>\n      </g>\n     </g>\n     <g id=\"text_43\">\n      <!-- 100 -->\n      <g transform=\"translate(619.01641 144.465041) scale(0.2 -0.2)\">\n       <use xlink:href=\"#DejaVuSerif-31\"/>\n       <use xlink:href=\"#DejaVuSerif-30\" x=\"63.623047\"/>\n       <use xlink:href=\"#DejaVuSerif-30\" x=\"127.246094\"/>\n      </g>\n     </g>\n    </g>\n    <g id=\"ytick_11\">\n     <g id=\"line2d_16\">\n      <g>\n       <use xlink:href=\"#m8a22dd3f29\" x=\"612.01641\" y=\"70.972633\" style=\"stroke: #000000; stroke-width: 0.8\"/>\n      </g>\n     </g>\n     <g id=\"text_44\">\n      <!-- 120 -->\n      <g transform=\"translate(619.01641 78.57107) scale(0.2 -0.2)\">\n       <use xlink:href=\"#DejaVuSerif-31\"/>\n       <use xlink:href=\"#DejaVuSerif-32\" x=\"63.623047\"/>\n       <use xlink:href=\"#DejaVuSerif-30\" x=\"127.246094\"/>\n      </g>\n     </g>\n    </g>\n   </g>\n   <g id=\"LineCollection_1\"/>\n   <g id=\"patch_8\">\n    <path d=\"M 590.436135 463.04176 \nL 601.226273 463.04176 \nL 612.01641 463.04176 \nL 612.01641 31.43625 \nL 601.226273 31.43625 \nL 590.436135 31.43625 \nL 590.436135 463.04176 \nz\n\" style=\"fill: none; stroke: #000000; stroke-width: 0.8; stroke-linejoin: miter; stroke-linecap: square\"/>\n   </g>\n  </g>\n </g>\n <defs>\n  <clipPath id=\"p3799318b10\">\n   <rect x=\"117.790625\" y=\"31.43625\" width=\"431.60551\" height=\"431.60551\"/>\n  </clipPath>\n </defs>\n</svg>\n"
          },
          "metadata": {}
        }
      ],
      "source": [
        "y_pred = label_encoder.inverse_transform(y_pred)\n",
        "cm = confusion_matrix(test_labels, y_pred, labels=labels)\n",
        "plot_confusion_matrix(cm, labels)"
      ]
    },
    {
      "cell_type": "code",
      "execution_count": null,
      "metadata": {
        "colab": {
          "base_uri": "https://localhost:8080/"
        },
        "id": "IOEOPUIKzRzR",
        "outputId": "c7c6f8a9-4f74-4505-dd8f-bb201bdd73ac"
      },
      "outputs": [
        {
          "output_type": "stream",
          "name": "stdout",
          "text": [
            "              precision    recall  f1-score   support\n",
            "\n",
            "       anger       0.93      0.88      0.90       150\n",
            "        fear       0.83      0.80      0.82       150\n",
            "         joy       0.92      0.85      0.89       150\n",
            "     neutral       0.70      0.79      0.74       150\n",
            "     sadness       0.84      0.87      0.85       150\n",
            "\n",
            "    accuracy                           0.84       750\n",
            "   macro avg       0.84      0.84      0.84       750\n",
            "weighted avg       0.84      0.84      0.84       750\n",
            "\n"
          ]
        }
      ],
      "source": [
        "print(classification_report(test_labels, y_pred))"
      ]
    },
    {
      "cell_type": "markdown",
      "metadata": {
        "id": "izzM452mRbmr"
      },
      "source": [
        "## Searching for best regelarization coefficient"
      ]
    },
    {
      "cell_type": "code",
      "execution_count": null,
      "metadata": {
        "colab": {
          "base_uri": "https://localhost:8080/"
        },
        "id": "gCUxQ-RFT0z0",
        "outputId": "87fb3180-80fd-4c29-860a-4f11d313818f"
      },
      "outputs": [
        {
          "data": {
            "text/plain": [
              "array([1.00000000e-04, 1.32571137e-04, 1.75751062e-04, 2.32995181e-04,\n",
              "       3.08884360e-04, 4.09491506e-04, 5.42867544e-04, 7.19685673e-04,\n",
              "       9.54095476e-04, 1.26485522e-03, 1.67683294e-03, 2.22299648e-03,\n",
              "       2.94705170e-03, 3.90693994e-03, 5.17947468e-03, 6.86648845e-03,\n",
              "       9.10298178e-03, 1.20679264e-02, 1.59985872e-02, 2.12095089e-02,\n",
              "       2.81176870e-02, 3.72759372e-02, 4.94171336e-02, 6.55128557e-02,\n",
              "       8.68511374e-02, 1.15139540e-01, 1.52641797e-01, 2.02358965e-01,\n",
              "       2.68269580e-01, 3.55648031e-01, 4.71486636e-01, 6.25055193e-01,\n",
              "       8.28642773e-01, 1.09854114e+00, 1.45634848e+00, 1.93069773e+00,\n",
              "       2.55954792e+00, 3.39322177e+00, 4.49843267e+00, 5.96362332e+00,\n",
              "       7.90604321e+00, 1.04811313e+01, 1.38949549e+01, 1.84206997e+01,\n",
              "       2.44205309e+01, 3.23745754e+01, 4.29193426e+01, 5.68986603e+01,\n",
              "       7.54312006e+01, 1.00000000e+02])"
            ]
          },
          "execution_count": 109,
          "metadata": {},
          "output_type": "execute_result"
        }
      ],
      "source": [
        "np.logspace(-4, 2)"
      ]
    },
    {
      "cell_type": "code",
      "execution_count": null,
      "metadata": {
        "id": "mchOtc-qSeNU"
      },
      "outputs": [],
      "source": [
        "C_list = list(np.logspace(-4, 1, 12))\n",
        "C_list.append(1.000000)\n",
        "C_list = np.sort(C_list)"
      ]
    },
    {
      "cell_type": "code",
      "execution_count": null,
      "metadata": {
        "id": "qhxfqnIAVeXZ"
      },
      "outputs": [],
      "source": [
        "from tqdm.notebook import tqdm"
      ]
    },
    {
      "cell_type": "code",
      "execution_count": null,
      "metadata": {
        "colab": {
          "base_uri": "https://localhost:8080/",
          "height": 49,
          "referenced_widgets": [
            "89a9b8dff0e34967b8ba8e2c086c782a",
            "a1cf5775619e48f8a5a9c5483be52e84",
            "c4237a50e0084075954274cb9a3a61ce",
            "5c03a17737ab44afb0880f7823dbb1ef",
            "b67d95517a92442db2dc70ea6d8d3775",
            "eab7b42d444144268f9a4f29fa067f62",
            "94c48917361d46e08fe3c80af08c6f11",
            "737728acfccc4639a7d28b9a400ce0a3",
            "b38d2aee8ead414094d930df83bc21cd",
            "9bd339dc184b4820a1d67dbe9006ce42",
            "7bedfd622448441dafa22900b3dde273"
          ]
        },
        "id": "2-UfX8zhT6ht",
        "outputId": "5f59d771-dd46-4601-c7a1-7982c506b6ec"
      },
      "outputs": [
        {
          "data": {
            "application/vnd.jupyter.widget-view+json": {
              "model_id": "89a9b8dff0e34967b8ba8e2c086c782a",
              "version_major": 2,
              "version_minor": 0
            },
            "text/plain": [
              "  0%|          | 0/13 [00:00<?, ?it/s]"
            ]
          },
          "metadata": {},
          "output_type": "display_data"
        }
      ],
      "source": [
        "accs_val = []\n",
        "accs_train = []\n",
        "for C in tqdm(C_list):\n",
        "    svm_model = svm.SVC(probability=True, random_state=1, C=C)\n",
        "    svm_model.fit(vectorized_train_texts, encoded_train_labels)\n",
        "    preds = svm_model.predict(vectorized_val_texts)\n",
        "    accs_val.append(np.mean(encoded_val_labels == preds))\n",
        "    preds = svm_model.predict(vectorized_train_texts)\n",
        "    accs_train.append(np.mean(encoded_train_labels == preds))"
      ]
    },
    {
      "cell_type": "code",
      "execution_count": null,
      "metadata": {
        "id": "uRSbP6FAVQG7"
      },
      "outputs": [],
      "source": [
        "plt.rcParams.update({'font.size': 16})"
      ]
    },
    {
      "cell_type": "code",
      "execution_count": null,
      "metadata": {
        "colab": {
          "base_uri": "https://localhost:8080/",
          "height": 535
        },
        "id": "GJaAYCsEVG2j",
        "outputId": "2f78f3c2-f7fd-4f09-eeaa-ab3618926304"
      },
      "outputs": [
        {
          "data": {
            "image/svg+xml": "<?xml version=\"1.0\" encoding=\"utf-8\" standalone=\"no\"?>\n<!DOCTYPE svg PUBLIC \"-//W3C//DTD SVG 1.1//EN\"\n  \"http://www.w3.org/Graphics/SVG/1.1/DTD/svg11.dtd\">\n<svg xmlns:xlink=\"http://www.w3.org/1999/xlink\" width=\"436.084907pt\" height=\"385.548769pt\" viewBox=\"0 0 436.084907 385.548769\" xmlns=\"http://www.w3.org/2000/svg\" version=\"1.1\">\n <metadata>\n  <rdf:RDF xmlns:dc=\"http://purl.org/dc/elements/1.1/\" xmlns:cc=\"http://creativecommons.org/ns#\" xmlns:rdf=\"http://www.w3.org/1999/02/22-rdf-syntax-ns#\">\n   <cc:Work>\n    <dc:type rdf:resource=\"http://purl.org/dc/dcmitype/StillImage\"/>\n    <dc:date>2023-05-04T11:47:30.539091</dc:date>\n    <dc:format>image/svg+xml</dc:format>\n    <dc:creator>\n     <cc:Agent>\n      <dc:title>Matplotlib v3.7.1, https://matplotlib.org/</dc:title>\n     </cc:Agent>\n    </dc:creator>\n   </cc:Work>\n  </rdf:RDF>\n </metadata>\n <defs>\n  <style type=\"text/css\">*{stroke-linejoin: round; stroke-linecap: butt}</style>\n </defs>\n <g id=\"figure_1\">\n  <g id=\"patch_1\">\n   <path d=\"M 0 385.548769 \nL 436.084907 385.548769 \nL 436.084907 0 \nL 0 0 \nz\n\" style=\"fill: #ffffff\"/>\n  </g>\n  <g id=\"axes_1\">\n   <g id=\"patch_2\">\n    <path d=\"M 59.13 293.901 \nL 416.25 293.901 \nL 416.25 27.789 \nL 59.13 27.789 \nz\n\" style=\"fill: #ffffff\"/>\n   </g>\n   <g id=\"matplotlib.axis_1\">\n    <g id=\"xtick_1\">\n     <g id=\"line2d_1\">\n      <path d=\"M 75.362727 293.901 \nL 75.362727 27.789 \n\" clip-path=\"url(#p6b9bbcc279)\" style=\"fill: none; stroke: #b0b0b0; stroke-width: 0.8; stroke-linecap: square\"/>\n     </g>\n     <g id=\"line2d_2\">\n      <defs>\n       <path id=\"m7929d5270c\" d=\"M 0 0 \nL 0 3.5 \n\" style=\"stroke: #000000; stroke-width: 0.8\"/>\n      </defs>\n      <g>\n       <use xlink:href=\"#m7929d5270c\" x=\"75.362727\" y=\"293.901\" style=\"stroke: #000000; stroke-width: 0.8\"/>\n      </g>\n     </g>\n     <g id=\"text_1\">\n      <!-- 0.0001 -->\n      <g transform=\"translate(58.690917 349.085024) rotate(-45) scale(0.16 -0.16)\">\n       <defs>\n        <path id=\"DejaVuSerif-30\" d=\"M 2034 219 \nQ 2513 219 2750 744 \nQ 2988 1269 2988 2328 \nQ 2988 3391 2750 3916 \nQ 2513 4441 2034 4441 \nQ 1556 4441 1318 3916 \nQ 1081 3391 1081 2328 \nQ 1081 1269 1318 744 \nQ 1556 219 2034 219 \nz\nM 2034 -91 \nQ 1275 -91 848 546 \nQ 422 1184 422 2328 \nQ 422 3475 848 4112 \nQ 1275 4750 2034 4750 \nQ 2797 4750 3222 4112 \nQ 3647 3475 3647 2328 \nQ 3647 1184 3222 546 \nQ 2797 -91 2034 -91 \nz\n\" transform=\"scale(0.015625)\"/>\n        <path id=\"DejaVuSerif-2e\" d=\"M 603 325 \nQ 603 500 722 622 \nQ 841 744 1019 744 \nQ 1191 744 1312 622 \nQ 1434 500 1434 325 \nQ 1434 153 1312 31 \nQ 1191 -91 1019 -91 \nQ 841 -91 722 29 \nQ 603 150 603 325 \nz\n\" transform=\"scale(0.015625)\"/>\n        <path id=\"DejaVuSerif-31\" d=\"M 909 0 \nL 909 331 \nL 1722 331 \nL 1722 4213 \nL 781 3603 \nL 781 4013 \nL 1919 4750 \nL 2350 4750 \nL 2350 331 \nL 3163 331 \nL 3163 0 \nL 909 0 \nz\n\" transform=\"scale(0.015625)\"/>\n       </defs>\n       <use xlink:href=\"#DejaVuSerif-30\"/>\n       <use xlink:href=\"#DejaVuSerif-2e\" x=\"63.623047\"/>\n       <use xlink:href=\"#DejaVuSerif-30\" x=\"95.410156\"/>\n       <use xlink:href=\"#DejaVuSerif-30\" x=\"159.033203\"/>\n       <use xlink:href=\"#DejaVuSerif-30\" x=\"222.65625\"/>\n       <use xlink:href=\"#DejaVuSerif-31\" x=\"286.279297\"/>\n      </g>\n     </g>\n    </g>\n    <g id=\"xtick_2\">\n     <g id=\"line2d_3\">\n      <path d=\"M 102.417273 293.901 \nL 102.417273 27.789 \n\" clip-path=\"url(#p6b9bbcc279)\" style=\"fill: none; stroke: #b0b0b0; stroke-width: 0.8; stroke-linecap: square\"/>\n     </g>\n     <g id=\"line2d_4\">\n      <g>\n       <use xlink:href=\"#m7929d5270c\" x=\"102.417273\" y=\"293.901\" style=\"stroke: #000000; stroke-width: 0.8\"/>\n      </g>\n     </g>\n     <g id=\"text_2\">\n      <!-- 0.0003 -->\n      <g transform=\"translate(85.745463 349.085024) rotate(-45) scale(0.16 -0.16)\">\n       <defs>\n        <path id=\"DejaVuSerif-33\" d=\"M 622 4469 \nQ 988 4606 1323 4678 \nQ 1659 4750 1953 4750 \nQ 2638 4750 3022 4454 \nQ 3406 4159 3406 3634 \nQ 3406 3213 3140 2930 \nQ 2875 2647 2388 2547 \nQ 2963 2466 3280 2130 \nQ 3597 1794 3597 1259 \nQ 3597 606 3158 257 \nQ 2719 -91 1894 -91 \nQ 1528 -91 1179 -12 \nQ 831 66 488 225 \nL 488 1131 \nL 838 1131 \nQ 869 681 1141 450 \nQ 1413 219 1906 219 \nQ 2384 219 2661 495 \nQ 2938 772 2938 1253 \nQ 2938 1803 2653 2086 \nQ 2369 2369 1819 2369 \nL 1522 2369 \nL 1522 2688 \nL 1678 2688 \nQ 2225 2688 2498 2914 \nQ 2772 3141 2772 3597 \nQ 2772 4006 2547 4223 \nQ 2322 4441 1900 4441 \nQ 1478 4441 1245 4241 \nQ 1013 4041 972 3647 \nL 622 3647 \nL 622 4469 \nz\n\" transform=\"scale(0.015625)\"/>\n       </defs>\n       <use xlink:href=\"#DejaVuSerif-30\"/>\n       <use xlink:href=\"#DejaVuSerif-2e\" x=\"63.623047\"/>\n       <use xlink:href=\"#DejaVuSerif-30\" x=\"95.410156\"/>\n       <use xlink:href=\"#DejaVuSerif-30\" x=\"159.033203\"/>\n       <use xlink:href=\"#DejaVuSerif-30\" x=\"222.65625\"/>\n       <use xlink:href=\"#DejaVuSerif-33\" x=\"286.279297\"/>\n      </g>\n     </g>\n    </g>\n    <g id=\"xtick_3\">\n     <g id=\"line2d_5\">\n      <path d=\"M 129.471818 293.901 \nL 129.471818 27.789 \n\" clip-path=\"url(#p6b9bbcc279)\" style=\"fill: none; stroke: #b0b0b0; stroke-width: 0.8; stroke-linecap: square\"/>\n     </g>\n     <g id=\"line2d_6\">\n      <g>\n       <use xlink:href=\"#m7929d5270c\" x=\"129.471818\" y=\"293.901\" style=\"stroke: #000000; stroke-width: 0.8\"/>\n      </g>\n     </g>\n     <g id=\"text_3\">\n      <!-- 0.0008 -->\n      <g transform=\"translate(112.800008 349.085024) rotate(-45) scale(0.16 -0.16)\">\n       <defs>\n        <path id=\"DejaVuSerif-38\" d=\"M 2981 1275 \nQ 2981 1775 2732 2051 \nQ 2484 2328 2034 2328 \nQ 1584 2328 1336 2051 \nQ 1088 1775 1088 1275 \nQ 1088 772 1336 495 \nQ 1584 219 2034 219 \nQ 2484 219 2732 495 \nQ 2981 772 2981 1275 \nz\nM 2853 3541 \nQ 2853 3966 2637 4203 \nQ 2422 4441 2034 4441 \nQ 1650 4441 1433 4203 \nQ 1216 3966 1216 3541 \nQ 1216 3113 1433 2875 \nQ 1650 2638 2034 2638 \nQ 2422 2638 2637 2875 \nQ 2853 3113 2853 3541 \nz\nM 2516 2484 \nQ 3047 2413 3344 2092 \nQ 3641 1772 3641 1275 \nQ 3641 619 3225 264 \nQ 2809 -91 2034 -91 \nQ 1263 -91 845 264 \nQ 428 619 428 1275 \nQ 428 1772 725 2092 \nQ 1022 2413 1556 2484 \nQ 1084 2569 832 2842 \nQ 581 3116 581 3541 \nQ 581 4103 968 4426 \nQ 1356 4750 2034 4750 \nQ 2713 4750 3100 4426 \nQ 3488 4103 3488 3541 \nQ 3488 3116 3236 2842 \nQ 2984 2569 2516 2484 \nz\n\" transform=\"scale(0.015625)\"/>\n       </defs>\n       <use xlink:href=\"#DejaVuSerif-30\"/>\n       <use xlink:href=\"#DejaVuSerif-2e\" x=\"63.623047\"/>\n       <use xlink:href=\"#DejaVuSerif-30\" x=\"95.410156\"/>\n       <use xlink:href=\"#DejaVuSerif-30\" x=\"159.033203\"/>\n       <use xlink:href=\"#DejaVuSerif-30\" x=\"222.65625\"/>\n       <use xlink:href=\"#DejaVuSerif-38\" x=\"286.279297\"/>\n      </g>\n     </g>\n    </g>\n    <g id=\"xtick_4\">\n     <g id=\"line2d_7\">\n      <path d=\"M 156.526364 293.901 \nL 156.526364 27.789 \n\" clip-path=\"url(#p6b9bbcc279)\" style=\"fill: none; stroke: #b0b0b0; stroke-width: 0.8; stroke-linecap: square\"/>\n     </g>\n     <g id=\"line2d_8\">\n      <g>\n       <use xlink:href=\"#m7929d5270c\" x=\"156.526364\" y=\"293.901\" style=\"stroke: #000000; stroke-width: 0.8\"/>\n      </g>\n     </g>\n     <g id=\"text_4\">\n      <!-- 0.0023 -->\n      <g transform=\"translate(139.854554 349.085024) rotate(-45) scale(0.16 -0.16)\">\n       <defs>\n        <path id=\"DejaVuSerif-32\" d=\"M 819 3553 \nL 469 3553 \nL 469 4384 \nQ 803 4563 1142 4656 \nQ 1481 4750 1806 4750 \nQ 2534 4750 2956 4397 \nQ 3378 4044 3378 3438 \nQ 3378 2753 2422 1800 \nQ 2347 1728 2309 1691 \nL 1131 513 \nL 3078 513 \nL 3078 1088 \nL 3444 1088 \nL 3444 0 \nL 434 0 \nL 434 341 \nL 1850 1753 \nQ 2319 2222 2519 2614 \nQ 2719 3006 2719 3438 \nQ 2719 3909 2473 4175 \nQ 2228 4441 1797 4441 \nQ 1350 4441 1106 4219 \nQ 863 3997 819 3553 \nz\n\" transform=\"scale(0.015625)\"/>\n       </defs>\n       <use xlink:href=\"#DejaVuSerif-30\"/>\n       <use xlink:href=\"#DejaVuSerif-2e\" x=\"63.623047\"/>\n       <use xlink:href=\"#DejaVuSerif-30\" x=\"95.410156\"/>\n       <use xlink:href=\"#DejaVuSerif-30\" x=\"159.033203\"/>\n       <use xlink:href=\"#DejaVuSerif-32\" x=\"222.65625\"/>\n       <use xlink:href=\"#DejaVuSerif-33\" x=\"286.279297\"/>\n      </g>\n     </g>\n    </g>\n    <g id=\"xtick_5\">\n     <g id=\"line2d_9\">\n      <path d=\"M 183.580909 293.901 \nL 183.580909 27.789 \n\" clip-path=\"url(#p6b9bbcc279)\" style=\"fill: none; stroke: #b0b0b0; stroke-width: 0.8; stroke-linecap: square\"/>\n     </g>\n     <g id=\"line2d_10\">\n      <g>\n       <use xlink:href=\"#m7929d5270c\" x=\"183.580909\" y=\"293.901\" style=\"stroke: #000000; stroke-width: 0.8\"/>\n      </g>\n     </g>\n     <g id=\"text_5\">\n      <!-- 0.0066 -->\n      <g transform=\"translate(166.909099 349.085024) rotate(-45) scale(0.16 -0.16)\">\n       <defs>\n        <path id=\"DejaVuSerif-36\" d=\"M 2094 219 \nQ 2534 219 2771 542 \nQ 3009 866 3009 1472 \nQ 3009 2078 2771 2401 \nQ 2534 2725 2094 2725 \nQ 1647 2725 1412 2412 \nQ 1178 2100 1178 1509 \nQ 1178 888 1415 553 \nQ 1653 219 2094 219 \nz\nM 1075 2569 \nQ 1288 2803 1556 2918 \nQ 1825 3034 2163 3034 \nQ 2859 3034 3264 2615 \nQ 3669 2197 3669 1472 \nQ 3669 763 3233 336 \nQ 2797 -91 2069 -91 \nQ 1278 -91 853 498 \nQ 428 1088 428 2181 \nQ 428 3406 931 4078 \nQ 1434 4750 2350 4750 \nQ 2597 4750 2869 4703 \nQ 3141 4656 3425 4563 \nL 3425 3794 \nL 3072 3794 \nQ 3034 4109 2831 4275 \nQ 2628 4441 2284 4441 \nQ 1678 4441 1381 3981 \nQ 1084 3522 1075 2569 \nz\n\" transform=\"scale(0.015625)\"/>\n       </defs>\n       <use xlink:href=\"#DejaVuSerif-30\"/>\n       <use xlink:href=\"#DejaVuSerif-2e\" x=\"63.623047\"/>\n       <use xlink:href=\"#DejaVuSerif-30\" x=\"95.410156\"/>\n       <use xlink:href=\"#DejaVuSerif-30\" x=\"159.033203\"/>\n       <use xlink:href=\"#DejaVuSerif-36\" x=\"222.65625\"/>\n       <use xlink:href=\"#DejaVuSerif-36\" x=\"286.279297\"/>\n      </g>\n     </g>\n    </g>\n    <g id=\"xtick_6\">\n     <g id=\"line2d_11\">\n      <path d=\"M 210.635455 293.901 \nL 210.635455 27.789 \n\" clip-path=\"url(#p6b9bbcc279)\" style=\"fill: none; stroke: #b0b0b0; stroke-width: 0.8; stroke-linecap: square\"/>\n     </g>\n     <g id=\"line2d_12\">\n      <g>\n       <use xlink:href=\"#m7929d5270c\" x=\"210.635455\" y=\"293.901\" style=\"stroke: #000000; stroke-width: 0.8\"/>\n      </g>\n     </g>\n     <g id=\"text_6\">\n      <!-- 0.0187 -->\n      <g transform=\"translate(193.963644 349.085024) rotate(-45) scale(0.16 -0.16)\">\n       <defs>\n        <path id=\"DejaVuSerif-37\" d=\"M 3609 4347 \nL 1784 0 \nL 1319 0 \nL 3059 4153 \nL 903 4153 \nL 903 3578 \nL 538 3578 \nL 538 4666 \nL 3609 4666 \nL 3609 4347 \nz\n\" transform=\"scale(0.015625)\"/>\n       </defs>\n       <use xlink:href=\"#DejaVuSerif-30\"/>\n       <use xlink:href=\"#DejaVuSerif-2e\" x=\"63.623047\"/>\n       <use xlink:href=\"#DejaVuSerif-30\" x=\"95.410156\"/>\n       <use xlink:href=\"#DejaVuSerif-31\" x=\"159.033203\"/>\n       <use xlink:href=\"#DejaVuSerif-38\" x=\"222.65625\"/>\n       <use xlink:href=\"#DejaVuSerif-37\" x=\"286.279297\"/>\n      </g>\n     </g>\n    </g>\n    <g id=\"xtick_7\">\n     <g id=\"line2d_13\">\n      <path d=\"M 237.69 293.901 \nL 237.69 27.789 \n\" clip-path=\"url(#p6b9bbcc279)\" style=\"fill: none; stroke: #b0b0b0; stroke-width: 0.8; stroke-linecap: square\"/>\n     </g>\n     <g id=\"line2d_14\">\n      <g>\n       <use xlink:href=\"#m7929d5270c\" x=\"237.69\" y=\"293.901\" style=\"stroke: #000000; stroke-width: 0.8\"/>\n      </g>\n     </g>\n     <g id=\"text_7\">\n      <!-- 0.0534 -->\n      <g transform=\"translate(221.01819 349.085024) rotate(-45) scale(0.16 -0.16)\">\n       <defs>\n        <path id=\"DejaVuSerif-35\" d=\"M 3219 4666 \nL 3219 4153 \nL 1081 4153 \nL 1081 2816 \nQ 1244 2928 1461 2984 \nQ 1678 3041 1947 3041 \nQ 2703 3041 3140 2622 \nQ 3578 2203 3578 1478 \nQ 3578 738 3136 323 \nQ 2694 -91 1894 -91 \nQ 1572 -91 1234 -12 \nQ 897 66 544 225 \nL 544 1131 \nL 897 1131 \nQ 925 688 1179 453 \nQ 1434 219 1894 219 \nQ 2388 219 2653 544 \nQ 2919 869 2919 1478 \nQ 2919 2084 2655 2407 \nQ 2391 2731 1894 2731 \nQ 1613 2731 1398 2631 \nQ 1184 2531 1019 2322 \nL 750 2322 \nL 750 4666 \nL 3219 4666 \nz\n\" transform=\"scale(0.015625)\"/>\n        <path id=\"DejaVuSerif-34\" d=\"M 2234 1581 \nL 2234 4063 \nL 641 1581 \nL 2234 1581 \nz\nM 3609 0 \nL 1484 0 \nL 1484 331 \nL 2234 331 \nL 2234 1247 \nL 197 1247 \nL 197 1588 \nL 2241 4750 \nL 2859 4750 \nL 2859 1581 \nL 3750 1581 \nL 3750 1247 \nL 2859 1247 \nL 2859 331 \nL 3609 331 \nL 3609 0 \nz\n\" transform=\"scale(0.015625)\"/>\n       </defs>\n       <use xlink:href=\"#DejaVuSerif-30\"/>\n       <use xlink:href=\"#DejaVuSerif-2e\" x=\"63.623047\"/>\n       <use xlink:href=\"#DejaVuSerif-30\" x=\"95.410156\"/>\n       <use xlink:href=\"#DejaVuSerif-35\" x=\"159.033203\"/>\n       <use xlink:href=\"#DejaVuSerif-33\" x=\"222.65625\"/>\n       <use xlink:href=\"#DejaVuSerif-34\" x=\"286.279297\"/>\n      </g>\n     </g>\n    </g>\n    <g id=\"xtick_8\">\n     <g id=\"line2d_15\">\n      <path d=\"M 264.744545 293.901 \nL 264.744545 27.789 \n\" clip-path=\"url(#p6b9bbcc279)\" style=\"fill: none; stroke: #b0b0b0; stroke-width: 0.8; stroke-linecap: square\"/>\n     </g>\n     <g id=\"line2d_16\">\n      <g>\n       <use xlink:href=\"#m7929d5270c\" x=\"264.744545\" y=\"293.901\" style=\"stroke: #000000; stroke-width: 0.8\"/>\n      </g>\n     </g>\n     <g id=\"text_8\">\n      <!-- 0.1520 -->\n      <g transform=\"translate(248.072735 349.085024) rotate(-45) scale(0.16 -0.16)\">\n       <use xlink:href=\"#DejaVuSerif-30\"/>\n       <use xlink:href=\"#DejaVuSerif-2e\" x=\"63.623047\"/>\n       <use xlink:href=\"#DejaVuSerif-31\" x=\"95.410156\"/>\n       <use xlink:href=\"#DejaVuSerif-35\" x=\"159.033203\"/>\n       <use xlink:href=\"#DejaVuSerif-32\" x=\"222.65625\"/>\n       <use xlink:href=\"#DejaVuSerif-30\" x=\"286.279297\"/>\n      </g>\n     </g>\n    </g>\n    <g id=\"xtick_9\">\n     <g id=\"line2d_17\">\n      <path d=\"M 291.799091 293.901 \nL 291.799091 27.789 \n\" clip-path=\"url(#p6b9bbcc279)\" style=\"fill: none; stroke: #b0b0b0; stroke-width: 0.8; stroke-linecap: square\"/>\n     </g>\n     <g id=\"line2d_18\">\n      <g>\n       <use xlink:href=\"#m7929d5270c\" x=\"291.799091\" y=\"293.901\" style=\"stroke: #000000; stroke-width: 0.8\"/>\n      </g>\n     </g>\n     <g id=\"text_9\">\n      <!-- 0.4329 -->\n      <g transform=\"translate(275.127281 349.085024) rotate(-45) scale(0.16 -0.16)\">\n       <defs>\n        <path id=\"DejaVuSerif-39\" d=\"M 2994 2091 \nQ 2784 1856 2512 1740 \nQ 2241 1625 1900 1625 \nQ 1206 1625 804 2044 \nQ 403 2463 403 3188 \nQ 403 3897 839 4323 \nQ 1275 4750 2003 4750 \nQ 2794 4750 3217 4161 \nQ 3641 3572 3641 2478 \nQ 3641 1253 3137 581 \nQ 2634 -91 1722 -91 \nQ 1475 -91 1203 -44 \nQ 931 3 647 97 \nL 647 872 \nL 997 872 \nQ 1038 556 1241 387 \nQ 1444 219 1784 219 \nQ 2391 219 2687 676 \nQ 2984 1134 2994 2091 \nz\nM 1978 4441 \nQ 1534 4441 1298 4117 \nQ 1063 3794 1063 3188 \nQ 1063 2581 1298 2256 \nQ 1534 1931 1978 1931 \nQ 2422 1931 2658 2245 \nQ 2894 2559 2894 3150 \nQ 2894 3772 2656 4106 \nQ 2419 4441 1978 4441 \nz\n\" transform=\"scale(0.015625)\"/>\n       </defs>\n       <use xlink:href=\"#DejaVuSerif-30\"/>\n       <use xlink:href=\"#DejaVuSerif-2e\" x=\"63.623047\"/>\n       <use xlink:href=\"#DejaVuSerif-34\" x=\"95.410156\"/>\n       <use xlink:href=\"#DejaVuSerif-33\" x=\"159.033203\"/>\n       <use xlink:href=\"#DejaVuSerif-32\" x=\"222.65625\"/>\n       <use xlink:href=\"#DejaVuSerif-39\" x=\"286.279297\"/>\n      </g>\n     </g>\n    </g>\n    <g id=\"xtick_10\">\n     <g id=\"line2d_19\">\n      <path d=\"M 318.853636 293.901 \nL 318.853636 27.789 \n\" clip-path=\"url(#p6b9bbcc279)\" style=\"fill: none; stroke: #b0b0b0; stroke-width: 0.8; stroke-linecap: square\"/>\n     </g>\n     <g id=\"line2d_20\">\n      <g>\n       <use xlink:href=\"#m7929d5270c\" x=\"318.853636\" y=\"293.901\" style=\"stroke: #000000; stroke-width: 0.8\"/>\n      </g>\n     </g>\n     <g id=\"text_10\">\n      <!-- 1.0000 -->\n      <g transform=\"translate(302.181826 349.085024) rotate(-45) scale(0.16 -0.16)\">\n       <use xlink:href=\"#DejaVuSerif-31\"/>\n       <use xlink:href=\"#DejaVuSerif-2e\" x=\"63.623047\"/>\n       <use xlink:href=\"#DejaVuSerif-30\" x=\"95.410156\"/>\n       <use xlink:href=\"#DejaVuSerif-30\" x=\"159.033203\"/>\n       <use xlink:href=\"#DejaVuSerif-30\" x=\"222.65625\"/>\n       <use xlink:href=\"#DejaVuSerif-30\" x=\"286.279297\"/>\n      </g>\n     </g>\n    </g>\n    <g id=\"xtick_11\">\n     <g id=\"line2d_21\">\n      <path d=\"M 345.908182 293.901 \nL 345.908182 27.789 \n\" clip-path=\"url(#p6b9bbcc279)\" style=\"fill: none; stroke: #b0b0b0; stroke-width: 0.8; stroke-linecap: square\"/>\n     </g>\n     <g id=\"line2d_22\">\n      <g>\n       <use xlink:href=\"#m7929d5270c\" x=\"345.908182\" y=\"293.901\" style=\"stroke: #000000; stroke-width: 0.8\"/>\n      </g>\n     </g>\n     <g id=\"text_11\">\n      <!-- 1.2328 -->\n      <g transform=\"translate(329.236372 349.085024) rotate(-45) scale(0.16 -0.16)\">\n       <use xlink:href=\"#DejaVuSerif-31\"/>\n       <use xlink:href=\"#DejaVuSerif-2e\" x=\"63.623047\"/>\n       <use xlink:href=\"#DejaVuSerif-32\" x=\"95.410156\"/>\n       <use xlink:href=\"#DejaVuSerif-33\" x=\"159.033203\"/>\n       <use xlink:href=\"#DejaVuSerif-32\" x=\"222.65625\"/>\n       <use xlink:href=\"#DejaVuSerif-38\" x=\"286.279297\"/>\n      </g>\n     </g>\n    </g>\n    <g id=\"xtick_12\">\n     <g id=\"line2d_23\">\n      <path d=\"M 372.962727 293.901 \nL 372.962727 27.789 \n\" clip-path=\"url(#p6b9bbcc279)\" style=\"fill: none; stroke: #b0b0b0; stroke-width: 0.8; stroke-linecap: square\"/>\n     </g>\n     <g id=\"line2d_24\">\n      <g>\n       <use xlink:href=\"#m7929d5270c\" x=\"372.962727\" y=\"293.901\" style=\"stroke: #000000; stroke-width: 0.8\"/>\n      </g>\n     </g>\n     <g id=\"text_12\">\n      <!-- 3.5112 -->\n      <g transform=\"translate(356.290917 349.085024) rotate(-45) scale(0.16 -0.16)\">\n       <use xlink:href=\"#DejaVuSerif-33\"/>\n       <use xlink:href=\"#DejaVuSerif-2e\" x=\"63.623047\"/>\n       <use xlink:href=\"#DejaVuSerif-35\" x=\"95.410156\"/>\n       <use xlink:href=\"#DejaVuSerif-31\" x=\"159.033203\"/>\n       <use xlink:href=\"#DejaVuSerif-31\" x=\"222.65625\"/>\n       <use xlink:href=\"#DejaVuSerif-32\" x=\"286.279297\"/>\n      </g>\n     </g>\n    </g>\n    <g id=\"xtick_13\">\n     <g id=\"line2d_25\">\n      <path d=\"M 400.017273 293.901 \nL 400.017273 27.789 \n\" clip-path=\"url(#p6b9bbcc279)\" style=\"fill: none; stroke: #b0b0b0; stroke-width: 0.8; stroke-linecap: square\"/>\n     </g>\n     <g id=\"line2d_26\">\n      <g>\n       <use xlink:href=\"#m7929d5270c\" x=\"400.017273\" y=\"293.901\" style=\"stroke: #000000; stroke-width: 0.8\"/>\n      </g>\n     </g>\n     <g id=\"text_13\">\n      <!-- 10.0000 -->\n      <g transform=\"translate(379.746289 356.283371) rotate(-45) scale(0.16 -0.16)\">\n       <use xlink:href=\"#DejaVuSerif-31\"/>\n       <use xlink:href=\"#DejaVuSerif-30\" x=\"63.623047\"/>\n       <use xlink:href=\"#DejaVuSerif-2e\" x=\"127.246094\"/>\n       <use xlink:href=\"#DejaVuSerif-30\" x=\"159.033203\"/>\n       <use xlink:href=\"#DejaVuSerif-30\" x=\"222.65625\"/>\n       <use xlink:href=\"#DejaVuSerif-30\" x=\"286.279297\"/>\n       <use xlink:href=\"#DejaVuSerif-30\" x=\"349.902344\"/>\n      </g>\n     </g>\n    </g>\n    <g id=\"text_14\">\n     <!-- Regularization parameter -->\n     <g transform=\"translate(133.09625 374.793769) scale(0.16 -0.16)\">\n      <defs>\n       <path id=\"DejaVuSerif-52\" d=\"M 3066 2316 \nQ 3284 2256 3442 2114 \nQ 3600 1972 3725 1716 \nL 4403 331 \nL 4972 331 \nL 4972 0 \nL 3872 0 \nL 3144 1484 \nQ 2934 1916 2759 2042 \nQ 2584 2169 2278 2169 \nL 1581 2169 \nL 1581 331 \nL 2241 331 \nL 2241 0 \nL 353 0 \nL 353 331 \nL 947 331 \nL 947 4331 \nL 353 4331 \nL 353 4666 \nL 2719 4666 \nQ 3400 4666 3770 4341 \nQ 4141 4016 4141 3419 \nQ 4141 2938 3870 2661 \nQ 3600 2384 3066 2316 \nz\nM 1581 2503 \nL 2503 2503 \nQ 2975 2503 3200 2726 \nQ 3425 2950 3425 3419 \nQ 3425 3888 3200 4109 \nQ 2975 4331 2503 4331 \nL 1581 4331 \nL 1581 2503 \nz\n\" transform=\"scale(0.015625)\"/>\n       <path id=\"DejaVuSerif-65\" d=\"M 3469 1600 \nL 991 1600 \nL 991 1575 \nQ 991 903 1244 561 \nQ 1497 219 1991 219 \nQ 2369 219 2611 417 \nQ 2853 616 2950 1006 \nL 3413 1006 \nQ 3275 459 2904 184 \nQ 2534 -91 1931 -91 \nQ 1203 -91 761 389 \nQ 319 869 319 1663 \nQ 319 2450 753 2931 \nQ 1188 3413 1894 3413 \nQ 2647 3413 3050 2948 \nQ 3453 2484 3469 1600 \nz\nM 2791 1931 \nQ 2772 2513 2545 2808 \nQ 2319 3103 1894 3103 \nQ 1497 3103 1269 2806 \nQ 1041 2509 991 1931 \nL 2791 1931 \nz\n\" transform=\"scale(0.015625)\"/>\n       <path id=\"DejaVuSerif-67\" d=\"M 3359 2988 \nL 3359 72 \nQ 3359 -644 2965 -1033 \nQ 2572 -1422 1844 -1422 \nQ 1516 -1422 1216 -1362 \nQ 916 -1303 641 -1184 \nL 641 -488 \nL 941 -488 \nQ 997 -813 1206 -963 \nQ 1416 -1113 1806 -1113 \nQ 2313 -1113 2548 -827 \nQ 2784 -541 2784 72 \nL 2784 519 \nQ 2616 206 2355 57 \nQ 2094 -91 1709 -91 \nQ 1097 -91 708 395 \nQ 319 881 319 1663 \nQ 319 2444 706 2928 \nQ 1094 3413 1709 3413 \nQ 2094 3413 2355 3264 \nQ 2616 3116 2784 2803 \nL 2784 3322 \nL 3909 3322 \nL 3909 2988 \nL 3359 2988 \nz\nM 2784 1825 \nQ 2784 2422 2554 2737 \nQ 2325 3053 1888 3053 \nQ 1444 3053 1217 2703 \nQ 991 2353 991 1663 \nQ 991 975 1217 622 \nQ 1444 269 1888 269 \nQ 2325 269 2554 583 \nQ 2784 897 2784 1497 \nL 2784 1825 \nz\n\" transform=\"scale(0.015625)\"/>\n       <path id=\"DejaVuSerif-75\" d=\"M 2266 3322 \nL 3341 3322 \nL 3341 331 \nL 3884 331 \nL 3884 0 \nL 2766 0 \nL 2766 588 \nQ 2606 256 2353 82 \nQ 2100 -91 1766 -91 \nQ 1213 -91 952 223 \nQ 691 538 691 1209 \nL 691 2988 \nL 172 2988 \nL 172 3322 \nL 1269 3322 \nL 1269 1388 \nQ 1269 781 1417 556 \nQ 1566 331 1947 331 \nQ 2347 331 2556 625 \nQ 2766 919 2766 1478 \nL 2766 2988 \nL 2266 2988 \nL 2266 3322 \nz\n\" transform=\"scale(0.015625)\"/>\n       <path id=\"DejaVuSerif-6c\" d=\"M 1313 331 \nL 1856 331 \nL 1856 0 \nL 184 0 \nL 184 331 \nL 738 331 \nL 738 4531 \nL 184 4531 \nL 184 4863 \nL 1313 4863 \nL 1313 331 \nz\n\" transform=\"scale(0.015625)\"/>\n       <path id=\"DejaVuSerif-61\" d=\"M 2547 1044 \nL 2547 1747 \nL 1806 1747 \nQ 1378 1747 1168 1562 \nQ 959 1378 959 997 \nQ 959 650 1171 447 \nQ 1384 244 1747 244 \nQ 2106 244 2326 466 \nQ 2547 688 2547 1044 \nz\nM 3122 2075 \nL 3122 331 \nL 3634 331 \nL 3634 0 \nL 2547 0 \nL 2547 359 \nQ 2356 128 2106 18 \nQ 1856 -91 1522 -91 \nQ 969 -91 644 203 \nQ 319 497 319 997 \nQ 319 1513 691 1797 \nQ 1063 2081 1741 2081 \nL 2547 2081 \nL 2547 2309 \nQ 2547 2688 2317 2895 \nQ 2088 3103 1672 3103 \nQ 1328 3103 1125 2947 \nQ 922 2791 872 2484 \nL 575 2484 \nL 575 3156 \nQ 875 3284 1158 3348 \nQ 1441 3413 1709 3413 \nQ 2400 3413 2761 3070 \nQ 3122 2728 3122 2075 \nz\n\" transform=\"scale(0.015625)\"/>\n       <path id=\"DejaVuSerif-72\" d=\"M 3059 3328 \nL 3059 2497 \nL 2728 2497 \nQ 2713 2744 2591 2866 \nQ 2469 2988 2234 2988 \nQ 1809 2988 1582 2694 \nQ 1356 2400 1356 1850 \nL 1356 331 \nL 2022 331 \nL 2022 0 \nL 263 0 \nL 263 331 \nL 781 331 \nL 781 2994 \nL 231 2994 \nL 231 3322 \nL 1356 3322 \nL 1356 2731 \nQ 1525 3078 1790 3245 \nQ 2056 3413 2438 3413 \nQ 2578 3413 2733 3391 \nQ 2888 3369 3059 3328 \nz\n\" transform=\"scale(0.015625)\"/>\n       <path id=\"DejaVuSerif-69\" d=\"M 622 4353 \nQ 622 4497 726 4603 \nQ 831 4709 978 4709 \nQ 1122 4709 1226 4603 \nQ 1331 4497 1331 4353 \nQ 1331 4206 1228 4103 \nQ 1125 4000 978 4000 \nQ 831 4000 726 4103 \nQ 622 4206 622 4353 \nz\nM 1356 331 \nL 1900 331 \nL 1900 0 \nL 231 0 \nL 231 331 \nL 781 331 \nL 781 2988 \nL 231 2988 \nL 231 3322 \nL 1356 3322 \nL 1356 331 \nz\n\" transform=\"scale(0.015625)\"/>\n       <path id=\"DejaVuSerif-7a\" d=\"M 256 0 \nL 256 269 \nL 2338 2988 \nL 691 2988 \nL 691 2413 \nL 359 2413 \nL 359 3322 \nL 3078 3322 \nL 3078 3053 \nL 997 331 \nL 2803 331 \nL 2803 934 \nL 3138 934 \nL 3138 0 \nL 256 0 \nz\n\" transform=\"scale(0.015625)\"/>\n       <path id=\"DejaVuSerif-74\" d=\"M 691 2988 \nL 184 2988 \nL 184 3322 \nL 691 3322 \nL 691 4353 \nL 1269 4353 \nL 1269 3322 \nL 2350 3322 \nL 2350 2988 \nL 1269 2988 \nL 1269 878 \nQ 1269 456 1350 337 \nQ 1431 219 1650 219 \nQ 1875 219 1978 351 \nQ 2081 484 2088 781 \nL 2522 781 \nQ 2497 328 2275 118 \nQ 2053 -91 1600 -91 \nQ 1103 -91 897 129 \nQ 691 350 691 878 \nL 691 2988 \nz\n\" transform=\"scale(0.015625)\"/>\n       <path id=\"DejaVuSerif-6f\" d=\"M 1925 219 \nQ 2388 219 2623 584 \nQ 2859 950 2859 1663 \nQ 2859 2375 2623 2739 \nQ 2388 3103 1925 3103 \nQ 1463 3103 1227 2739 \nQ 991 2375 991 1663 \nQ 991 950 1228 584 \nQ 1466 219 1925 219 \nz\nM 1925 -91 \nQ 1200 -91 759 389 \nQ 319 869 319 1663 \nQ 319 2456 758 2934 \nQ 1197 3413 1925 3413 \nQ 2653 3413 3092 2934 \nQ 3531 2456 3531 1663 \nQ 3531 869 3092 389 \nQ 2653 -91 1925 -91 \nz\n\" transform=\"scale(0.015625)\"/>\n       <path id=\"DejaVuSerif-6e\" d=\"M 263 0 \nL 263 331 \nL 781 331 \nL 781 2988 \nL 231 2988 \nL 231 3322 \nL 1356 3322 \nL 1356 2731 \nQ 1516 3069 1770 3241 \nQ 2025 3413 2363 3413 \nQ 2913 3413 3172 3097 \nQ 3431 2781 3431 2113 \nL 3431 331 \nL 3944 331 \nL 3944 0 \nL 2356 0 \nL 2356 331 \nL 2853 331 \nL 2853 1931 \nQ 2853 2541 2703 2767 \nQ 2553 2994 2175 2994 \nQ 1775 2994 1565 2701 \nQ 1356 2409 1356 1850 \nL 1356 331 \nL 1856 331 \nL 1856 0 \nL 263 0 \nz\n\" transform=\"scale(0.015625)\"/>\n       <path id=\"DejaVuSerif-20\" transform=\"scale(0.015625)\"/>\n       <path id=\"DejaVuSerif-70\" d=\"M 1313 1825 \nL 1313 1497 \nQ 1313 897 1542 583 \nQ 1772 269 2209 269 \nQ 2650 269 2876 622 \nQ 3103 975 3103 1663 \nQ 3103 2353 2876 2703 \nQ 2650 3053 2209 3053 \nQ 1772 3053 1542 2737 \nQ 1313 2422 1313 1825 \nz\nM 738 2988 \nL 184 2988 \nL 184 3322 \nL 1313 3322 \nL 1313 2803 \nQ 1481 3116 1742 3264 \nQ 2003 3413 2388 3413 \nQ 3000 3413 3387 2928 \nQ 3775 2444 3775 1663 \nQ 3775 881 3387 395 \nQ 3000 -91 2388 -91 \nQ 2003 -91 1742 57 \nQ 1481 206 1313 519 \nL 1313 -997 \nL 1856 -997 \nL 1856 -1331 \nL 184 -1331 \nL 184 -997 \nL 738 -997 \nL 738 2988 \nz\n\" transform=\"scale(0.015625)\"/>\n       <path id=\"DejaVuSerif-6d\" d=\"M 3316 2675 \nQ 3481 3041 3739 3227 \nQ 3997 3413 4341 3413 \nQ 4863 3413 5119 3089 \nQ 5375 2766 5375 2113 \nL 5375 331 \nL 5894 331 \nL 5894 0 \nL 4300 0 \nL 4300 331 \nL 4800 331 \nL 4800 2047 \nQ 4800 2556 4650 2772 \nQ 4500 2988 4153 2988 \nQ 3769 2988 3567 2697 \nQ 3366 2406 3366 1850 \nL 3366 331 \nL 3866 331 \nL 3866 0 \nL 2291 0 \nL 2291 331 \nL 2791 331 \nL 2791 2069 \nQ 2791 2566 2641 2777 \nQ 2491 2988 2144 2988 \nQ 1759 2988 1557 2697 \nQ 1356 2406 1356 1850 \nL 1356 331 \nL 1856 331 \nL 1856 0 \nL 263 0 \nL 263 331 \nL 781 331 \nL 781 2994 \nL 231 2994 \nL 231 3322 \nL 1356 3322 \nL 1356 2731 \nQ 1516 3063 1762 3238 \nQ 2009 3413 2322 3413 \nQ 2709 3413 2968 3220 \nQ 3228 3028 3316 2675 \nz\n\" transform=\"scale(0.015625)\"/>\n      </defs>\n      <use xlink:href=\"#DejaVuSerif-52\"/>\n      <use xlink:href=\"#DejaVuSerif-65\" x=\"75.292969\"/>\n      <use xlink:href=\"#DejaVuSerif-67\" x=\"134.472656\"/>\n      <use xlink:href=\"#DejaVuSerif-75\" x=\"198.486328\"/>\n      <use xlink:href=\"#DejaVuSerif-6c\" x=\"262.890625\"/>\n      <use xlink:href=\"#DejaVuSerif-61\" x=\"294.873047\"/>\n      <use xlink:href=\"#DejaVuSerif-72\" x=\"354.492188\"/>\n      <use xlink:href=\"#DejaVuSerif-69\" x=\"402.294922\"/>\n      <use xlink:href=\"#DejaVuSerif-7a\" x=\"434.277344\"/>\n      <use xlink:href=\"#DejaVuSerif-61\" x=\"486.962891\"/>\n      <use xlink:href=\"#DejaVuSerif-74\" x=\"546.582031\"/>\n      <use xlink:href=\"#DejaVuSerif-69\" x=\"586.767578\"/>\n      <use xlink:href=\"#DejaVuSerif-6f\" x=\"618.75\"/>\n      <use xlink:href=\"#DejaVuSerif-6e\" x=\"678.955078\"/>\n      <use xlink:href=\"#DejaVuSerif-20\" x=\"743.359375\"/>\n      <use xlink:href=\"#DejaVuSerif-70\" x=\"775.146484\"/>\n      <use xlink:href=\"#DejaVuSerif-61\" x=\"839.160156\"/>\n      <use xlink:href=\"#DejaVuSerif-72\" x=\"898.779297\"/>\n      <use xlink:href=\"#DejaVuSerif-61\" x=\"946.582031\"/>\n      <use xlink:href=\"#DejaVuSerif-6d\" x=\"1006.201172\"/>\n      <use xlink:href=\"#DejaVuSerif-65\" x=\"1101.025391\"/>\n      <use xlink:href=\"#DejaVuSerif-74\" x=\"1160.205078\"/>\n      <use xlink:href=\"#DejaVuSerif-65\" x=\"1200.390625\"/>\n      <use xlink:href=\"#DejaVuSerif-72\" x=\"1259.570312\"/>\n     </g>\n    </g>\n   </g>\n   <g id=\"matplotlib.axis_2\">\n    <g id=\"ytick_1\">\n     <g id=\"line2d_27\">\n      <path d=\"M 59.13 280.429803 \nL 416.25 280.429803 \n\" clip-path=\"url(#p6b9bbcc279)\" style=\"fill: none; stroke: #b0b0b0; stroke-width: 0.8; stroke-linecap: square\"/>\n     </g>\n     <g id=\"line2d_28\">\n      <defs>\n       <path id=\"m64211b7769\" d=\"M 0 0 \nL -3.5 0 \n\" style=\"stroke: #000000; stroke-width: 0.8\"/>\n      </defs>\n      <g>\n       <use xlink:href=\"#m64211b7769\" x=\"59.13\" y=\"280.429803\" style=\"stroke: #000000; stroke-width: 0.8\"/>\n      </g>\n     </g>\n     <g id=\"text_15\">\n      <!-- 0.3 -->\n      <g transform=\"translate(26.685 286.508553) scale(0.16 -0.16)\">\n       <use xlink:href=\"#DejaVuSerif-30\"/>\n       <use xlink:href=\"#DejaVuSerif-2e\" x=\"63.623047\"/>\n       <use xlink:href=\"#DejaVuSerif-33\" x=\"95.410156\"/>\n      </g>\n     </g>\n    </g>\n    <g id=\"ytick_2\">\n     <g id=\"line2d_29\">\n      <path d=\"M 59.13 246.049889 \nL 416.25 246.049889 \n\" clip-path=\"url(#p6b9bbcc279)\" style=\"fill: none; stroke: #b0b0b0; stroke-width: 0.8; stroke-linecap: square\"/>\n     </g>\n     <g id=\"line2d_30\">\n      <g>\n       <use xlink:href=\"#m64211b7769\" x=\"59.13\" y=\"246.049889\" style=\"stroke: #000000; stroke-width: 0.8\"/>\n      </g>\n     </g>\n     <g id=\"text_16\">\n      <!-- 0.4 -->\n      <g transform=\"translate(26.685 252.128639) scale(0.16 -0.16)\">\n       <use xlink:href=\"#DejaVuSerif-30\"/>\n       <use xlink:href=\"#DejaVuSerif-2e\" x=\"63.623047\"/>\n       <use xlink:href=\"#DejaVuSerif-34\" x=\"95.410156\"/>\n      </g>\n     </g>\n    </g>\n    <g id=\"ytick_3\">\n     <g id=\"line2d_31\">\n      <path d=\"M 59.13 211.669974 \nL 416.25 211.669974 \n\" clip-path=\"url(#p6b9bbcc279)\" style=\"fill: none; stroke: #b0b0b0; stroke-width: 0.8; stroke-linecap: square\"/>\n     </g>\n     <g id=\"line2d_32\">\n      <g>\n       <use xlink:href=\"#m64211b7769\" x=\"59.13\" y=\"211.669974\" style=\"stroke: #000000; stroke-width: 0.8\"/>\n      </g>\n     </g>\n     <g id=\"text_17\">\n      <!-- 0.5 -->\n      <g transform=\"translate(26.685 217.748724) scale(0.16 -0.16)\">\n       <use xlink:href=\"#DejaVuSerif-30\"/>\n       <use xlink:href=\"#DejaVuSerif-2e\" x=\"63.623047\"/>\n       <use xlink:href=\"#DejaVuSerif-35\" x=\"95.410156\"/>\n      </g>\n     </g>\n    </g>\n    <g id=\"ytick_4\">\n     <g id=\"line2d_33\">\n      <path d=\"M 59.13 177.290059 \nL 416.25 177.290059 \n\" clip-path=\"url(#p6b9bbcc279)\" style=\"fill: none; stroke: #b0b0b0; stroke-width: 0.8; stroke-linecap: square\"/>\n     </g>\n     <g id=\"line2d_34\">\n      <g>\n       <use xlink:href=\"#m64211b7769\" x=\"59.13\" y=\"177.290059\" style=\"stroke: #000000; stroke-width: 0.8\"/>\n      </g>\n     </g>\n     <g id=\"text_18\">\n      <!-- 0.6 -->\n      <g transform=\"translate(26.685 183.368809) scale(0.16 -0.16)\">\n       <use xlink:href=\"#DejaVuSerif-30\"/>\n       <use xlink:href=\"#DejaVuSerif-2e\" x=\"63.623047\"/>\n       <use xlink:href=\"#DejaVuSerif-36\" x=\"95.410156\"/>\n      </g>\n     </g>\n    </g>\n    <g id=\"ytick_5\">\n     <g id=\"line2d_35\">\n      <path d=\"M 59.13 142.910144 \nL 416.25 142.910144 \n\" clip-path=\"url(#p6b9bbcc279)\" style=\"fill: none; stroke: #b0b0b0; stroke-width: 0.8; stroke-linecap: square\"/>\n     </g>\n     <g id=\"line2d_36\">\n      <g>\n       <use xlink:href=\"#m64211b7769\" x=\"59.13\" y=\"142.910144\" style=\"stroke: #000000; stroke-width: 0.8\"/>\n      </g>\n     </g>\n     <g id=\"text_19\">\n      <!-- 0.7 -->\n      <g transform=\"translate(26.685 148.988894) scale(0.16 -0.16)\">\n       <use xlink:href=\"#DejaVuSerif-30\"/>\n       <use xlink:href=\"#DejaVuSerif-2e\" x=\"63.623047\"/>\n       <use xlink:href=\"#DejaVuSerif-37\" x=\"95.410156\"/>\n      </g>\n     </g>\n    </g>\n    <g id=\"ytick_6\">\n     <g id=\"line2d_37\">\n      <path d=\"M 59.13 108.53023 \nL 416.25 108.53023 \n\" clip-path=\"url(#p6b9bbcc279)\" style=\"fill: none; stroke: #b0b0b0; stroke-width: 0.8; stroke-linecap: square\"/>\n     </g>\n     <g id=\"line2d_38\">\n      <g>\n       <use xlink:href=\"#m64211b7769\" x=\"59.13\" y=\"108.53023\" style=\"stroke: #000000; stroke-width: 0.8\"/>\n      </g>\n     </g>\n     <g id=\"text_20\">\n      <!-- 0.8 -->\n      <g transform=\"translate(26.685 114.60898) scale(0.16 -0.16)\">\n       <use xlink:href=\"#DejaVuSerif-30\"/>\n       <use xlink:href=\"#DejaVuSerif-2e\" x=\"63.623047\"/>\n       <use xlink:href=\"#DejaVuSerif-38\" x=\"95.410156\"/>\n      </g>\n     </g>\n    </g>\n    <g id=\"ytick_7\">\n     <g id=\"line2d_39\">\n      <path d=\"M 59.13 74.150315 \nL 416.25 74.150315 \n\" clip-path=\"url(#p6b9bbcc279)\" style=\"fill: none; stroke: #b0b0b0; stroke-width: 0.8; stroke-linecap: square\"/>\n     </g>\n     <g id=\"line2d_40\">\n      <g>\n       <use xlink:href=\"#m64211b7769\" x=\"59.13\" y=\"74.150315\" style=\"stroke: #000000; stroke-width: 0.8\"/>\n      </g>\n     </g>\n     <g id=\"text_21\">\n      <!-- 0.9 -->\n      <g transform=\"translate(26.685 80.229065) scale(0.16 -0.16)\">\n       <use xlink:href=\"#DejaVuSerif-30\"/>\n       <use xlink:href=\"#DejaVuSerif-2e\" x=\"63.623047\"/>\n       <use xlink:href=\"#DejaVuSerif-39\" x=\"95.410156\"/>\n      </g>\n     </g>\n    </g>\n    <g id=\"ytick_8\">\n     <g id=\"line2d_41\">\n      <path d=\"M 59.13 39.7704 \nL 416.25 39.7704 \n\" clip-path=\"url(#p6b9bbcc279)\" style=\"fill: none; stroke: #b0b0b0; stroke-width: 0.8; stroke-linecap: square\"/>\n     </g>\n     <g id=\"line2d_42\">\n      <g>\n       <use xlink:href=\"#m64211b7769\" x=\"59.13\" y=\"39.7704\" style=\"stroke: #000000; stroke-width: 0.8\"/>\n      </g>\n     </g>\n     <g id=\"text_22\">\n      <!-- 1.0 -->\n      <g transform=\"translate(26.685 45.84915) scale(0.16 -0.16)\">\n       <use xlink:href=\"#DejaVuSerif-31\"/>\n       <use xlink:href=\"#DejaVuSerif-2e\" x=\"63.623047\"/>\n       <use xlink:href=\"#DejaVuSerif-30\" x=\"95.410156\"/>\n      </g>\n     </g>\n    </g>\n    <g id=\"text_23\">\n     <!-- Accuracy -->\n     <g transform=\"translate(19.13 198.32875) rotate(-90) scale(0.16 -0.16)\">\n      <defs>\n       <path id=\"DejaVuSerif-41\" d=\"M 1281 1691 \nL 2994 1691 \nL 2138 3909 \nL 1281 1691 \nz\nM -38 0 \nL -38 331 \nL 372 331 \nL 2034 4666 \nL 2559 4666 \nL 4225 331 \nL 4684 331 \nL 4684 0 \nL 2988 0 \nL 2988 331 \nL 3506 331 \nL 3116 1356 \nL 1153 1356 \nL 763 331 \nL 1275 331 \nL 1275 0 \nL -38 0 \nz\n\" transform=\"scale(0.015625)\"/>\n       <path id=\"DejaVuSerif-63\" d=\"M 3291 997 \nQ 3169 466 2822 187 \nQ 2475 -91 1925 -91 \nQ 1200 -91 759 389 \nQ 319 869 319 1663 \nQ 319 2459 759 2936 \nQ 1200 3413 1925 3413 \nQ 2241 3413 2553 3339 \nQ 2866 3266 3181 3116 \nL 3181 2266 \nL 2847 2266 \nQ 2781 2703 2561 2903 \nQ 2341 3103 1931 3103 \nQ 1466 3103 1228 2742 \nQ 991 2381 991 1663 \nQ 991 944 1227 581 \nQ 1463 219 1931 219 \nQ 2303 219 2525 412 \nQ 2747 606 2828 997 \nL 3291 997 \nz\n\" transform=\"scale(0.015625)\"/>\n       <path id=\"DejaVuSerif-79\" d=\"M 1381 -609 \nL 1600 -56 \nL 359 2988 \nL -19 2988 \nL -19 3322 \nL 1509 3322 \nL 1509 2988 \nL 978 2988 \nL 1913 703 \nL 2847 2988 \nL 2350 2988 \nL 2350 3322 \nL 3597 3322 \nL 3597 2988 \nL 3225 2988 \nL 1703 -750 \nQ 1547 -1138 1356 -1280 \nQ 1166 -1422 819 -1422 \nQ 672 -1422 517 -1397 \nQ 363 -1372 206 -1325 \nL 206 -691 \nL 500 -691 \nQ 519 -903 608 -995 \nQ 697 -1088 884 -1088 \nQ 1056 -1088 1161 -992 \nQ 1266 -897 1381 -609 \nz\n\" transform=\"scale(0.015625)\"/>\n      </defs>\n      <use xlink:href=\"#DejaVuSerif-41\"/>\n      <use xlink:href=\"#DejaVuSerif-63\" x=\"72.216797\"/>\n      <use xlink:href=\"#DejaVuSerif-63\" x=\"128.222656\"/>\n      <use xlink:href=\"#DejaVuSerif-75\" x=\"184.228516\"/>\n      <use xlink:href=\"#DejaVuSerif-72\" x=\"248.632812\"/>\n      <use xlink:href=\"#DejaVuSerif-61\" x=\"296.435547\"/>\n      <use xlink:href=\"#DejaVuSerif-63\" x=\"356.054688\"/>\n      <use xlink:href=\"#DejaVuSerif-79\" x=\"412.060547\"/>\n     </g>\n    </g>\n   </g>\n   <g id=\"line2d_43\">\n    <path d=\"M 75.362727 266.620538 \nL 102.417273 266.620538 \nL 129.471818 266.620538 \nL 156.526364 266.620538 \nL 183.580909 266.620538 \nL 210.635455 266.620538 \nL 237.69 266.448638 \nL 264.744545 146.520036 \nL 291.799091 47.505881 \nL 318.853636 41.030997 \nL 345.908182 40.859098 \nL 372.962727 40.228799 \nL 400.017273 39.885 \n\" clip-path=\"url(#p6b9bbcc279)\" style=\"fill: none; stroke: #66c2a5; stroke-width: 1.5; stroke-linecap: square\"/>\n   </g>\n   <g id=\"line2d_44\">\n    <path d=\"M 75.362727 281.805 \nL 102.417273 281.805 \nL 129.471818 281.805 \nL 156.526364 281.805 \nL 183.580909 281.805 \nL 210.635455 281.805 \nL 237.69 281.346601 \nL 264.744545 188.750031 \nL 291.799091 99.362252 \nL 318.853636 84.23509 \nL 345.908182 84.23509 \nL 372.962727 83.776691 \nL 400.017273 83.776691 \n\" clip-path=\"url(#p6b9bbcc279)\" style=\"fill: none; stroke: #e78ac3; stroke-width: 1.5; stroke-linecap: square\"/>\n   </g>\n   <g id=\"patch_3\">\n    <path d=\"M 59.13 293.901 \nL 59.13 27.789 \n\" style=\"fill: none; stroke: #000000; stroke-width: 0.8; stroke-linejoin: miter; stroke-linecap: square\"/>\n   </g>\n   <g id=\"patch_4\">\n    <path d=\"M 416.25 293.901 \nL 416.25 27.789 \n\" style=\"fill: none; stroke: #000000; stroke-width: 0.8; stroke-linejoin: miter; stroke-linecap: square\"/>\n   </g>\n   <g id=\"patch_5\">\n    <path d=\"M 59.13 293.901 \nL 416.25 293.901 \n\" style=\"fill: none; stroke: #000000; stroke-width: 0.8; stroke-linejoin: miter; stroke-linecap: square\"/>\n   </g>\n   <g id=\"patch_6\">\n    <path d=\"M 59.13 27.789 \nL 416.25 27.789 \n\" style=\"fill: none; stroke: #000000; stroke-width: 0.8; stroke-linejoin: miter; stroke-linecap: square\"/>\n   </g>\n   <g id=\"text_24\">\n    <!-- Training history -->\n    <g transform=\"translate(159.441 21.789) scale(0.192 -0.192)\">\n     <defs>\n      <path id=\"DejaVuSerif-54\" d=\"M 1222 0 \nL 1222 331 \nL 1819 331 \nL 1819 4294 \nL 447 4294 \nL 447 3566 \nL 63 3566 \nL 63 4666 \nL 4206 4666 \nL 4206 3566 \nL 3822 3566 \nL 3822 4294 \nL 2450 4294 \nL 2450 331 \nL 3047 331 \nL 3047 0 \nL 1222 0 \nz\n\" transform=\"scale(0.015625)\"/>\n      <path id=\"DejaVuSerif-68\" d=\"M 263 0 \nL 263 331 \nL 781 331 \nL 781 4531 \nL 231 4531 \nL 231 4863 \nL 1356 4863 \nL 1356 2731 \nQ 1516 3069 1770 3241 \nQ 2025 3413 2363 3413 \nQ 2913 3413 3172 3097 \nQ 3431 2781 3431 2113 \nL 3431 331 \nL 3944 331 \nL 3944 0 \nL 2356 0 \nL 2356 331 \nL 2853 331 \nL 2853 1931 \nQ 2853 2541 2704 2764 \nQ 2556 2988 2175 2988 \nQ 1775 2988 1565 2697 \nQ 1356 2406 1356 1850 \nL 1356 331 \nL 1856 331 \nL 1856 0 \nL 263 0 \nz\n\" transform=\"scale(0.015625)\"/>\n      <path id=\"DejaVuSerif-73\" d=\"M 359 184 \nL 359 959 \nL 691 959 \nQ 703 588 923 403 \nQ 1144 219 1575 219 \nQ 1963 219 2166 364 \nQ 2369 509 2369 788 \nQ 2369 1006 2220 1140 \nQ 2072 1275 1594 1428 \nL 1178 1569 \nQ 750 1706 558 1912 \nQ 366 2119 366 2438 \nQ 366 2894 700 3153 \nQ 1034 3413 1625 3413 \nQ 1888 3413 2178 3344 \nQ 2469 3275 2778 3144 \nL 2778 2419 \nL 2447 2419 \nQ 2434 2741 2221 2922 \nQ 2009 3103 1644 3103 \nQ 1281 3103 1095 2975 \nQ 909 2847 909 2591 \nQ 909 2381 1050 2254 \nQ 1191 2128 1613 1997 \nL 2069 1856 \nQ 2541 1709 2748 1489 \nQ 2956 1269 2956 922 \nQ 2956 450 2595 179 \nQ 2234 -91 1600 -91 \nQ 1278 -91 972 -22 \nQ 666 47 359 184 \nz\n\" transform=\"scale(0.015625)\"/>\n     </defs>\n     <use xlink:href=\"#DejaVuSerif-54\"/>\n     <use xlink:href=\"#DejaVuSerif-72\" x=\"66.699219\"/>\n     <use xlink:href=\"#DejaVuSerif-61\" x=\"114.501953\"/>\n     <use xlink:href=\"#DejaVuSerif-69\" x=\"174.121094\"/>\n     <use xlink:href=\"#DejaVuSerif-6e\" x=\"206.103516\"/>\n     <use xlink:href=\"#DejaVuSerif-69\" x=\"270.507812\"/>\n     <use xlink:href=\"#DejaVuSerif-6e\" x=\"302.490234\"/>\n     <use xlink:href=\"#DejaVuSerif-67\" x=\"366.894531\"/>\n     <use xlink:href=\"#DejaVuSerif-20\" x=\"430.908203\"/>\n     <use xlink:href=\"#DejaVuSerif-68\" x=\"462.695312\"/>\n     <use xlink:href=\"#DejaVuSerif-69\" x=\"527.099609\"/>\n     <use xlink:href=\"#DejaVuSerif-73\" x=\"559.082031\"/>\n     <use xlink:href=\"#DejaVuSerif-74\" x=\"610.400391\"/>\n     <use xlink:href=\"#DejaVuSerif-6f\" x=\"650.585938\"/>\n     <use xlink:href=\"#DejaVuSerif-72\" x=\"710.791016\"/>\n     <use xlink:href=\"#DejaVuSerif-79\" x=\"758.59375\"/>\n    </g>\n   </g>\n   <g id=\"legend_1\">\n    <g id=\"patch_7\">\n     <path d=\"M 70.33 87.559 \nL 201.6125 87.559 \nQ 204.8125 87.559 204.8125 84.359 \nL 204.8125 38.989 \nQ 204.8125 35.789 201.6125 35.789 \nL 70.33 35.789 \nQ 67.13 35.789 67.13 38.989 \nL 67.13 84.359 \nQ 67.13 87.559 70.33 87.559 \nz\n\" style=\"fill: #ffffff; opacity: 0.8; stroke: #cccccc; stroke-linejoin: miter\"/>\n    </g>\n    <g id=\"line2d_45\">\n     <path d=\"M 73.53 48.7465 \nL 89.53 48.7465 \nL 105.53 48.7465 \n\" style=\"fill: none; stroke: #66c2a5; stroke-width: 1.5; stroke-linecap: square\"/>\n    </g>\n    <g id=\"text_25\">\n     <!-- train -->\n     <g transform=\"translate(118.33 54.3465) scale(0.16 -0.16)\">\n      <use xlink:href=\"#DejaVuSerif-74\"/>\n      <use xlink:href=\"#DejaVuSerif-72\" x=\"40.185547\"/>\n      <use xlink:href=\"#DejaVuSerif-61\" x=\"87.988281\"/>\n      <use xlink:href=\"#DejaVuSerif-69\" x=\"147.607422\"/>\n      <use xlink:href=\"#DejaVuSerif-6e\" x=\"179.589844\"/>\n     </g>\n    </g>\n    <g id=\"line2d_46\">\n     <path d=\"M 73.53 72.2315 \nL 89.53 72.2315 \nL 105.53 72.2315 \n\" style=\"fill: none; stroke: #e78ac3; stroke-width: 1.5; stroke-linecap: square\"/>\n    </g>\n    <g id=\"text_26\">\n     <!-- validation -->\n     <g transform=\"translate(118.33 77.8315) scale(0.16 -0.16)\">\n      <defs>\n       <path id=\"DejaVuSerif-76\" d=\"M 1581 0 \nL 359 2988 \nL -19 2988 \nL -19 3322 \nL 1509 3322 \nL 1509 2988 \nL 978 2988 \nL 1913 703 \nL 2847 2988 \nL 2350 2988 \nL 2350 3322 \nL 3597 3322 \nL 3597 2988 \nL 3225 2988 \nL 2003 0 \nL 1581 0 \nz\n\" transform=\"scale(0.015625)\"/>\n       <path id=\"DejaVuSerif-64\" d=\"M 3359 331 \nL 3909 331 \nL 3909 0 \nL 2784 0 \nL 2784 519 \nQ 2616 206 2355 57 \nQ 2094 -91 1709 -91 \nQ 1097 -91 708 395 \nQ 319 881 319 1663 \nQ 319 2444 706 2928 \nQ 1094 3413 1709 3413 \nQ 2094 3413 2355 3264 \nQ 2616 3116 2784 2803 \nL 2784 4531 \nL 2241 4531 \nL 2241 4863 \nL 3359 4863 \nL 3359 331 \nz\nM 2784 1497 \nL 2784 1825 \nQ 2784 2422 2554 2737 \nQ 2325 3053 1888 3053 \nQ 1444 3053 1217 2703 \nQ 991 2353 991 1663 \nQ 991 975 1217 622 \nQ 1444 269 1888 269 \nQ 2325 269 2554 583 \nQ 2784 897 2784 1497 \nz\n\" transform=\"scale(0.015625)\"/>\n      </defs>\n      <use xlink:href=\"#DejaVuSerif-76\"/>\n      <use xlink:href=\"#DejaVuSerif-61\" x=\"56.494141\"/>\n      <use xlink:href=\"#DejaVuSerif-6c\" x=\"116.113281\"/>\n      <use xlink:href=\"#DejaVuSerif-69\" x=\"148.095703\"/>\n      <use xlink:href=\"#DejaVuSerif-64\" x=\"180.078125\"/>\n      <use xlink:href=\"#DejaVuSerif-61\" x=\"244.091797\"/>\n      <use xlink:href=\"#DejaVuSerif-74\" x=\"303.710938\"/>\n      <use xlink:href=\"#DejaVuSerif-69\" x=\"343.896484\"/>\n      <use xlink:href=\"#DejaVuSerif-6f\" x=\"375.878906\"/>\n      <use xlink:href=\"#DejaVuSerif-6e\" x=\"436.083984\"/>\n     </g>\n    </g>\n   </g>\n  </g>\n </g>\n <defs>\n  <clipPath id=\"p6b9bbcc279\">\n   <rect x=\"59.13\" y=\"27.789\" width=\"357.12\" height=\"266.112\"/>\n  </clipPath>\n </defs>\n</svg>\n",
            "text/plain": [
              "<Figure size 640x480 with 1 Axes>"
            ]
          },
          "metadata": {},
          "output_type": "display_data"
        }
      ],
      "source": [
        "palette = sns.color_palette('Set2')\n",
        "plt.figsize=(10, 5)\n",
        "plt.plot(accs_train, label='train', c=palette[0])\n",
        "plt.plot(accs_val, label='validation', c=palette[3])\n",
        "plt.title('Training history')\n",
        "plt.ylabel('Accuracy')\n",
        "plt.xlabel('Regularization parameter')\n",
        "plt.xticks(np.arange(len(C_list)), [f'{C:.4f}' for C in C_list], rotation=45)\n",
        "plt.legend()\n",
        "plt.grid()"
      ]
    },
    {
      "cell_type": "code",
      "execution_count": null,
      "metadata": {
        "colab": {
          "base_uri": "https://localhost:8080/"
        },
        "id": "OCpyJlR_Rous",
        "outputId": "e520bf7e-9322-4d6d-f0e9-cebeeda41ef8"
      },
      "outputs": [
        {
          "data": {
            "text/plain": [
              "array([ 1.        ,  1.23284674,  3.51119173, 10.        ])"
            ]
          },
          "execution_count": 27,
          "metadata": {},
          "output_type": "execute_result"
        }
      ],
      "source": [
        "accs_val[-4:]\n"
      ]
    },
    {
      "cell_type": "markdown",
      "metadata": {
        "id": "PYElvbsPVYcf"
      },
      "source": [
        "## Building SVM class"
      ]
    },
    {
      "cell_type": "code",
      "execution_count": null,
      "metadata": {
        "id": "-VNXDU6wVVQB"
      },
      "outputs": [],
      "source": [
        "class SVM_model:\n",
        "  def __init__(self, classifier, encoder, stop_words, vectorizer):\n",
        "    self._classifier = classifier\n",
        "    self._encoder = encoder\n",
        "    self._stop_words = stop_words\n",
        "    self._vectorizer = vectorizer\n",
        "\n",
        "  def _preprocess_text(self, text, stop_words):\n",
        "    # make lowercase and strip empty spaces\n",
        "    result = text.lower()\n",
        "    # strip extra spaces\n",
        "    result = result.strip()\n",
        "    # eliminate URLs\n",
        "    result = re.result = re.sub(r\"http\\S+\", \"\", result)\n",
        "    # eliminate email addresses\n",
        "    result = re.sub('\\S*@\\S*\\s?', '', result)\n",
        "    # strip diacritics\n",
        "    result = unidecode.unidecode(result)\n",
        "    # english stopwords\n",
        "    word_list = word_tokenize(result)\n",
        "    # english stemmer\n",
        "    ps = SnowballStemmer(\"english\")\n",
        "    stemmed_sentence = \"\"\n",
        "    for word in word_list:\n",
        "        if word not in stop_words:\n",
        "            stemmed_sentence += ps.stem(word)\n",
        "            stemmed_sentence += \" \"\n",
        "    result = stemmed_sentence\n",
        "    whitelist = set('abcdefghijklmnopqrstuvwxyz ABCDEFGHIJKLMNOPQRSTUVWXYZ')\n",
        "    result = ''.join(filter(whitelist.__contains__, result))\n",
        "    result = ''.join([i for i in result if not i.isdigit()])\n",
        "    return result\n",
        "\n",
        "  def _vectorize_texts(self, texts):\n",
        "    vectorized_texts = []\n",
        "    for text in texts:\n",
        "      processed_text = self._preprocess_text(text, self._stop_words)\n",
        "      vectorized_texts.append(processed_text)\n",
        "    return self._vectorizer.transform(vectorized_texts)\n",
        "\n",
        "  def detect_emotions_with_labels(self, texts):\n",
        "    vectorized_texts = self._vectorize_texts(texts)\n",
        "    predictions = self._classifier.predict_log_proba(vectorized_texts)\n",
        "    predictions  = list(self._encoder.inverse_transform(np.argmax(predictions, axis=1)))\n",
        "    return predictions\n",
        "\n",
        "  def detect_emotions_with_proba(self, texts):\n",
        "    vectorized_texts = self._vectorize_texts(texts)\n",
        "    predictions = self._classifier.predict_log_proba(vectorized_texts)\n",
        "    return predictions\n",
        "\n",
        "  def proba_to_labels(self, proba):\n",
        "      labels  = list(self._encoder.inverse_transform(np.argmax(proba, axis=1)))\n",
        "      return labels"
      ]
    },
    {
      "cell_type": "code",
      "execution_count": null,
      "metadata": {
        "colab": {
          "base_uri": "https://localhost:8080/",
          "height": 74
        },
        "id": "gZXeC7MRmY-s",
        "outputId": "8375a38c-5ca4-468b-9392-e1ea1c11e354"
      },
      "outputs": [
        {
          "data": {
            "text/html": [
              "<style>#sk-container-id-3 {color: black;background-color: white;}#sk-container-id-3 pre{padding: 0;}#sk-container-id-3 div.sk-toggleable {background-color: white;}#sk-container-id-3 label.sk-toggleable__label {cursor: pointer;display: block;width: 100%;margin-bottom: 0;padding: 0.3em;box-sizing: border-box;text-align: center;}#sk-container-id-3 label.sk-toggleable__label-arrow:before {content: \"▸\";float: left;margin-right: 0.25em;color: #696969;}#sk-container-id-3 label.sk-toggleable__label-arrow:hover:before {color: black;}#sk-container-id-3 div.sk-estimator:hover label.sk-toggleable__label-arrow:before {color: black;}#sk-container-id-3 div.sk-toggleable__content {max-height: 0;max-width: 0;overflow: hidden;text-align: left;background-color: #f0f8ff;}#sk-container-id-3 div.sk-toggleable__content pre {margin: 0.2em;color: black;border-radius: 0.25em;background-color: #f0f8ff;}#sk-container-id-3 input.sk-toggleable__control:checked~div.sk-toggleable__content {max-height: 200px;max-width: 100%;overflow: auto;}#sk-container-id-3 input.sk-toggleable__control:checked~label.sk-toggleable__label-arrow:before {content: \"▾\";}#sk-container-id-3 div.sk-estimator input.sk-toggleable__control:checked~label.sk-toggleable__label {background-color: #d4ebff;}#sk-container-id-3 div.sk-label input.sk-toggleable__control:checked~label.sk-toggleable__label {background-color: #d4ebff;}#sk-container-id-3 input.sk-hidden--visually {border: 0;clip: rect(1px 1px 1px 1px);clip: rect(1px, 1px, 1px, 1px);height: 1px;margin: -1px;overflow: hidden;padding: 0;position: absolute;width: 1px;}#sk-container-id-3 div.sk-estimator {font-family: monospace;background-color: #f0f8ff;border: 1px dotted black;border-radius: 0.25em;box-sizing: border-box;margin-bottom: 0.5em;}#sk-container-id-3 div.sk-estimator:hover {background-color: #d4ebff;}#sk-container-id-3 div.sk-parallel-item::after {content: \"\";width: 100%;border-bottom: 1px solid gray;flex-grow: 1;}#sk-container-id-3 div.sk-label:hover label.sk-toggleable__label {background-color: #d4ebff;}#sk-container-id-3 div.sk-serial::before {content: \"\";position: absolute;border-left: 1px solid gray;box-sizing: border-box;top: 0;bottom: 0;left: 50%;z-index: 0;}#sk-container-id-3 div.sk-serial {display: flex;flex-direction: column;align-items: center;background-color: white;padding-right: 0.2em;padding-left: 0.2em;position: relative;}#sk-container-id-3 div.sk-item {position: relative;z-index: 1;}#sk-container-id-3 div.sk-parallel {display: flex;align-items: stretch;justify-content: center;background-color: white;position: relative;}#sk-container-id-3 div.sk-item::before, #sk-container-id-3 div.sk-parallel-item::before {content: \"\";position: absolute;border-left: 1px solid gray;box-sizing: border-box;top: 0;bottom: 0;left: 50%;z-index: -1;}#sk-container-id-3 div.sk-parallel-item {display: flex;flex-direction: column;z-index: 1;position: relative;background-color: white;}#sk-container-id-3 div.sk-parallel-item:first-child::after {align-self: flex-end;width: 50%;}#sk-container-id-3 div.sk-parallel-item:last-child::after {align-self: flex-start;width: 50%;}#sk-container-id-3 div.sk-parallel-item:only-child::after {width: 0;}#sk-container-id-3 div.sk-dashed-wrapped {border: 1px dashed gray;margin: 0 0.4em 0.5em 0.4em;box-sizing: border-box;padding-bottom: 0.4em;background-color: white;}#sk-container-id-3 div.sk-label label {font-family: monospace;font-weight: bold;display: inline-block;line-height: 1.2em;}#sk-container-id-3 div.sk-label-container {text-align: center;}#sk-container-id-3 div.sk-container {/* jupyter's `normalize.less` sets `[hidden] { display: none; }` but bootstrap.min.css set `[hidden] { display: none !important; }` so we also need the `!important` here to be able to override the default hidden behavior on the sphinx rendered scikit-learn.org. See: https://github.com/scikit-learn/scikit-learn/issues/21755 */display: inline-block !important;position: relative;}#sk-container-id-3 div.sk-text-repr-fallback {display: none;}</style><div id=\"sk-container-id-3\" class=\"sk-top-container\"><div class=\"sk-text-repr-fallback\"><pre>SVC(C=3.5111917342151275, probability=True, random_state=1)</pre><b>In a Jupyter environment, please rerun this cell to show the HTML representation or trust the notebook. <br />On GitHub, the HTML representation is unable to render, please try loading this page with nbviewer.org.</b></div><div class=\"sk-container\" hidden><div class=\"sk-item\"><div class=\"sk-estimator sk-toggleable\"><input class=\"sk-toggleable__control sk-hidden--visually\" id=\"sk-estimator-id-3\" type=\"checkbox\" checked><label for=\"sk-estimator-id-3\" class=\"sk-toggleable__label sk-toggleable__label-arrow\">SVC</label><div class=\"sk-toggleable__content\"><pre>SVC(C=3.5111917342151275, probability=True, random_state=1)</pre></div></div></div></div></div>"
            ],
            "text/plain": [
              "SVC(C=3.5111917342151275, probability=True, random_state=1)"
            ]
          },
          "execution_count": 49,
          "metadata": {},
          "output_type": "execute_result"
        }
      ],
      "source": [
        "svm_model = svm.SVC(probability=True, random_state=1, C=C_list[-2])\n",
        "svm_model.fit(vectorized_train_texts, encoded_train_labels)"
      ]
    },
    {
      "cell_type": "code",
      "execution_count": null,
      "metadata": {
        "id": "EhxCrkbYVXno"
      },
      "outputs": [],
      "source": [
        "svm_cls = SVM_model(svm_model, label_encoder, stop_words, vectorizer)"
      ]
    },
    {
      "cell_type": "code",
      "execution_count": null,
      "metadata": {
        "colab": {
          "base_uri": "https://localhost:8080/"
        },
        "id": "rZATQi5kZXTU",
        "outputId": "b7576518-3fdd-4f6d-bd8b-86a6c2fee8c4"
      },
      "outputs": [
        {
          "data": {
            "text/plain": [
              "0.872"
            ]
          },
          "execution_count": 51,
          "metadata": {},
          "output_type": "execute_result"
        }
      ],
      "source": [
        "predictions = svm_cls.detect_emotions_with_labels(val_texts)\n",
        "acc = accuracy_score(val_labels, predictions)\n",
        "acc"
      ]
    },
    {
      "cell_type": "markdown",
      "metadata": {
        "id": "TIICJyeX9h7d"
      },
      "source": [
        "## Testing\n"
      ]
    },
    {
      "cell_type": "code",
      "execution_count": null,
      "metadata": {
        "colab": {
          "base_uri": "https://localhost:8080/",
          "height": 181
        },
        "id": "Ac42QojP6eU_",
        "outputId": "4da238e6-bd9a-4db6-8cc3-aee4534cf309"
      },
      "outputs": [
        {
          "output_type": "error",
          "ename": "NameError",
          "evalue": "ignored",
          "traceback": [
            "\u001b[0;31m---------------------------------------------------------------------------\u001b[0m",
            "\u001b[0;31mNameError\u001b[0m                                 Traceback (most recent call last)",
            "\u001b[0;32m<ipython-input-24-85569fdd686a>\u001b[0m in \u001b[0;36m<cell line: 1>\u001b[0;34m()\u001b[0m\n\u001b[0;32m----> 1\u001b[0;31m \u001b[0mpreds_test\u001b[0m \u001b[0;34m=\u001b[0m \u001b[0msvm_model\u001b[0m\u001b[0;34m.\u001b[0m\u001b[0mpredict\u001b[0m\u001b[0;34m(\u001b[0m\u001b[0mvectorized_test_texts\u001b[0m\u001b[0;34m)\u001b[0m\u001b[0;34m\u001b[0m\u001b[0;34m\u001b[0m\u001b[0m\n\u001b[0m\u001b[1;32m      2\u001b[0m \u001b[0mcompute_metrics\u001b[0m\u001b[0;34m(\u001b[0m\u001b[0mencoded_test_labels\u001b[0m\u001b[0;34m,\u001b[0m \u001b[0mpreds_test\u001b[0m\u001b[0;34m)\u001b[0m\u001b[0;34m\u001b[0m\u001b[0;34m\u001b[0m\u001b[0m\n",
            "\u001b[0;31mNameError\u001b[0m: name 'svm_model' is not defined"
          ]
        }
      ],
      "source": [
        "preds_test = svm_model.predict(vectorized_test_texts)\n",
        "compute_metrics(encoded_test_labels, preds_test)"
      ]
    },
    {
      "cell_type": "code",
      "execution_count": null,
      "metadata": {
        "colab": {
          "base_uri": "https://localhost:8080/",
          "height": 198
        },
        "id": "9WAyjojXuJZy",
        "outputId": "0b0fbdbd-16a3-4bb4-e72d-1a5ae0166ba3"
      },
      "outputs": [
        {
          "output_type": "error",
          "ename": "NameError",
          "evalue": "ignored",
          "traceback": [
            "\u001b[0;31m---------------------------------------------------------------------------\u001b[0m",
            "\u001b[0;31mNameError\u001b[0m                                 Traceback (most recent call last)",
            "\u001b[0;32m<ipython-input-25-84ad2f8beac6>\u001b[0m in \u001b[0;36m<cell line: 1>\u001b[0;34m()\u001b[0m\n\u001b[0;32m----> 1\u001b[0;31m \u001b[0my_pred\u001b[0m \u001b[0;34m=\u001b[0m \u001b[0mlabel_encoder\u001b[0m\u001b[0;34m.\u001b[0m\u001b[0minverse_transform\u001b[0m\u001b[0;34m(\u001b[0m\u001b[0mpreds_test\u001b[0m\u001b[0;34m)\u001b[0m\u001b[0;34m\u001b[0m\u001b[0;34m\u001b[0m\u001b[0m\n\u001b[0m\u001b[1;32m      2\u001b[0m \u001b[0mcm\u001b[0m \u001b[0;34m=\u001b[0m \u001b[0mconfusion_matrix\u001b[0m\u001b[0;34m(\u001b[0m\u001b[0mtest_labels\u001b[0m\u001b[0;34m,\u001b[0m \u001b[0my_pred\u001b[0m\u001b[0;34m,\u001b[0m \u001b[0mlabels\u001b[0m\u001b[0;34m=\u001b[0m\u001b[0mlabels\u001b[0m\u001b[0;34m)\u001b[0m\u001b[0;34m\u001b[0m\u001b[0;34m\u001b[0m\u001b[0m\n\u001b[1;32m      3\u001b[0m \u001b[0mplot_confusion_matrix\u001b[0m\u001b[0;34m(\u001b[0m\u001b[0mcm\u001b[0m\u001b[0;34m,\u001b[0m \u001b[0mlabels\u001b[0m\u001b[0;34m)\u001b[0m\u001b[0;34m\u001b[0m\u001b[0;34m\u001b[0m\u001b[0m\n",
            "\u001b[0;31mNameError\u001b[0m: name 'preds_test' is not defined"
          ]
        }
      ],
      "source": [
        "y_pred = label_encoder.inverse_transform(preds_test)\n",
        "cm = confusion_matrix(test_labels, y_pred, labels=labels)\n",
        "plot_confusion_matrix(cm, labels)"
      ]
    },
    {
      "cell_type": "markdown",
      "metadata": {
        "id": "g-qpXM_69nY1"
      },
      "source": [
        "## Saving the model"
      ]
    },
    {
      "cell_type": "code",
      "execution_count": null,
      "metadata": {
        "colab": {
          "base_uri": "https://localhost:8080/"
        },
        "id": "qw_TwjhFuhAf",
        "outputId": "2bb134c0-9f97-4125-cd6d-456c27f382f4"
      },
      "outputs": [
        {
          "name": "stdout",
          "output_type": "stream",
          "text": [
            "Bert.ipynb\t  emoticons.csv  SVM.ipynb\t  wassa_test.csv\n",
            "Bert_wassa.ipynb  LICENSE\t svm_model.obj\t  wassa_train.csv\n",
            "dataset.zip\t  README.md\t SVM_wassa.ipynb  wassa_val.csv\n"
          ]
        }
      ],
      "source": [
        "!ls"
      ]
    },
    {
      "cell_type": "code",
      "execution_count": null,
      "metadata": {
        "id": "-DJVYB2x10_Y"
      },
      "outputs": [],
      "source": [
        "pickle_object(svm_model, \"svm_model.obj\")"
      ]
    },
    {
      "cell_type": "code",
      "execution_count": null,
      "metadata": {
        "id": "CpIiDqFZB4hO"
      },
      "outputs": [],
      "source": [
        "svm_model = pickle_load_object(\"svm_model.obj\")"
      ]
    },
    {
      "cell_type": "code",
      "execution_count": null,
      "metadata": {
        "id": "dgW8TTELC9HQ"
      },
      "outputs": [],
      "source": []
    },
    {
      "cell_type": "code",
      "execution_count": null,
      "metadata": {
        "colab": {
          "base_uri": "https://localhost:8080/",
          "height": 198
        },
        "id": "yeyiq3hEDAQP",
        "outputId": "93cdd165-b6c8-4d44-8832-845595af1c22"
      },
      "outputs": [
        {
          "output_type": "error",
          "ename": "NameError",
          "evalue": "ignored",
          "traceback": [
            "\u001b[0;31m---------------------------------------------------------------------------\u001b[0m",
            "\u001b[0;31mNameError\u001b[0m                                 Traceback (most recent call last)",
            "\u001b[0;32m<ipython-input-26-84ad2f8beac6>\u001b[0m in \u001b[0;36m<cell line: 1>\u001b[0;34m()\u001b[0m\n\u001b[0;32m----> 1\u001b[0;31m \u001b[0my_pred\u001b[0m \u001b[0;34m=\u001b[0m \u001b[0mlabel_encoder\u001b[0m\u001b[0;34m.\u001b[0m\u001b[0minverse_transform\u001b[0m\u001b[0;34m(\u001b[0m\u001b[0mpreds_test\u001b[0m\u001b[0;34m)\u001b[0m\u001b[0;34m\u001b[0m\u001b[0;34m\u001b[0m\u001b[0m\n\u001b[0m\u001b[1;32m      2\u001b[0m \u001b[0mcm\u001b[0m \u001b[0;34m=\u001b[0m \u001b[0mconfusion_matrix\u001b[0m\u001b[0;34m(\u001b[0m\u001b[0mtest_labels\u001b[0m\u001b[0;34m,\u001b[0m \u001b[0my_pred\u001b[0m\u001b[0;34m,\u001b[0m \u001b[0mlabels\u001b[0m\u001b[0;34m=\u001b[0m\u001b[0mlabels\u001b[0m\u001b[0;34m)\u001b[0m\u001b[0;34m\u001b[0m\u001b[0;34m\u001b[0m\u001b[0m\n\u001b[1;32m      3\u001b[0m \u001b[0mplot_confusion_matrix\u001b[0m\u001b[0;34m(\u001b[0m\u001b[0mcm\u001b[0m\u001b[0;34m,\u001b[0m \u001b[0mlabels\u001b[0m\u001b[0;34m)\u001b[0m\u001b[0;34m\u001b[0m\u001b[0;34m\u001b[0m\u001b[0m\n",
            "\u001b[0;31mNameError\u001b[0m: name 'preds_test' is not defined"
          ]
        }
      ],
      "source": [
        "y_pred = label_encoder.inverse_transform(preds_test)\n",
        "cm = confusion_matrix(test_labels, y_pred, labels=labels)\n",
        "plot_confusion_matrix(cm, labels)"
      ]
    },
    {
      "cell_type": "markdown",
      "metadata": {
        "id": "7-2BsYg-M3s4"
      },
      "source": [
        "# Multinomial Naive bayes"
      ]
    },
    {
      "cell_type": "code",
      "execution_count": null,
      "metadata": {
        "colab": {
          "base_uri": "https://localhost:8080/",
          "height": 74
        },
        "id": "u43mIhR8NCxa",
        "outputId": "736c0c91-a737-4029-96e2-5b26e3326d22"
      },
      "outputs": [
        {
          "data": {
            "text/html": [
              "<style>#sk-container-id-3 {color: black;background-color: white;}#sk-container-id-3 pre{padding: 0;}#sk-container-id-3 div.sk-toggleable {background-color: white;}#sk-container-id-3 label.sk-toggleable__label {cursor: pointer;display: block;width: 100%;margin-bottom: 0;padding: 0.3em;box-sizing: border-box;text-align: center;}#sk-container-id-3 label.sk-toggleable__label-arrow:before {content: \"▸\";float: left;margin-right: 0.25em;color: #696969;}#sk-container-id-3 label.sk-toggleable__label-arrow:hover:before {color: black;}#sk-container-id-3 div.sk-estimator:hover label.sk-toggleable__label-arrow:before {color: black;}#sk-container-id-3 div.sk-toggleable__content {max-height: 0;max-width: 0;overflow: hidden;text-align: left;background-color: #f0f8ff;}#sk-container-id-3 div.sk-toggleable__content pre {margin: 0.2em;color: black;border-radius: 0.25em;background-color: #f0f8ff;}#sk-container-id-3 input.sk-toggleable__control:checked~div.sk-toggleable__content {max-height: 200px;max-width: 100%;overflow: auto;}#sk-container-id-3 input.sk-toggleable__control:checked~label.sk-toggleable__label-arrow:before {content: \"▾\";}#sk-container-id-3 div.sk-estimator input.sk-toggleable__control:checked~label.sk-toggleable__label {background-color: #d4ebff;}#sk-container-id-3 div.sk-label input.sk-toggleable__control:checked~label.sk-toggleable__label {background-color: #d4ebff;}#sk-container-id-3 input.sk-hidden--visually {border: 0;clip: rect(1px 1px 1px 1px);clip: rect(1px, 1px, 1px, 1px);height: 1px;margin: -1px;overflow: hidden;padding: 0;position: absolute;width: 1px;}#sk-container-id-3 div.sk-estimator {font-family: monospace;background-color: #f0f8ff;border: 1px dotted black;border-radius: 0.25em;box-sizing: border-box;margin-bottom: 0.5em;}#sk-container-id-3 div.sk-estimator:hover {background-color: #d4ebff;}#sk-container-id-3 div.sk-parallel-item::after {content: \"\";width: 100%;border-bottom: 1px solid gray;flex-grow: 1;}#sk-container-id-3 div.sk-label:hover label.sk-toggleable__label {background-color: #d4ebff;}#sk-container-id-3 div.sk-serial::before {content: \"\";position: absolute;border-left: 1px solid gray;box-sizing: border-box;top: 0;bottom: 0;left: 50%;z-index: 0;}#sk-container-id-3 div.sk-serial {display: flex;flex-direction: column;align-items: center;background-color: white;padding-right: 0.2em;padding-left: 0.2em;position: relative;}#sk-container-id-3 div.sk-item {position: relative;z-index: 1;}#sk-container-id-3 div.sk-parallel {display: flex;align-items: stretch;justify-content: center;background-color: white;position: relative;}#sk-container-id-3 div.sk-item::before, #sk-container-id-3 div.sk-parallel-item::before {content: \"\";position: absolute;border-left: 1px solid gray;box-sizing: border-box;top: 0;bottom: 0;left: 50%;z-index: -1;}#sk-container-id-3 div.sk-parallel-item {display: flex;flex-direction: column;z-index: 1;position: relative;background-color: white;}#sk-container-id-3 div.sk-parallel-item:first-child::after {align-self: flex-end;width: 50%;}#sk-container-id-3 div.sk-parallel-item:last-child::after {align-self: flex-start;width: 50%;}#sk-container-id-3 div.sk-parallel-item:only-child::after {width: 0;}#sk-container-id-3 div.sk-dashed-wrapped {border: 1px dashed gray;margin: 0 0.4em 0.5em 0.4em;box-sizing: border-box;padding-bottom: 0.4em;background-color: white;}#sk-container-id-3 div.sk-label label {font-family: monospace;font-weight: bold;display: inline-block;line-height: 1.2em;}#sk-container-id-3 div.sk-label-container {text-align: center;}#sk-container-id-3 div.sk-container {/* jupyter's `normalize.less` sets `[hidden] { display: none; }` but bootstrap.min.css set `[hidden] { display: none !important; }` so we also need the `!important` here to be able to override the default hidden behavior on the sphinx rendered scikit-learn.org. See: https://github.com/scikit-learn/scikit-learn/issues/21755 */display: inline-block !important;position: relative;}#sk-container-id-3 div.sk-text-repr-fallback {display: none;}</style><div id=\"sk-container-id-3\" class=\"sk-top-container\"><div class=\"sk-text-repr-fallback\"><pre>MultinomialNB(alpha=1)</pre><b>In a Jupyter environment, please rerun this cell to show the HTML representation or trust the notebook. <br />On GitHub, the HTML representation is unable to render, please try loading this page with nbviewer.org.</b></div><div class=\"sk-container\" hidden><div class=\"sk-item\"><div class=\"sk-estimator sk-toggleable\"><input class=\"sk-toggleable__control sk-hidden--visually\" id=\"sk-estimator-id-3\" type=\"checkbox\" checked><label for=\"sk-estimator-id-3\" class=\"sk-toggleable__label sk-toggleable__label-arrow\">MultinomialNB</label><div class=\"sk-toggleable__content\"><pre>MultinomialNB(alpha=1)</pre></div></div></div></div></div>"
            ],
            "text/plain": [
              "MultinomialNB(alpha=1)"
            ]
          },
          "execution_count": 38,
          "metadata": {},
          "output_type": "execute_result"
        }
      ],
      "source": [
        "mnb = MultinomialNB(alpha=1)\n",
        "mnb.fit(vectorized_train_texts, encoded_train_labels)"
      ]
    },
    {
      "cell_type": "code",
      "execution_count": null,
      "metadata": {
        "id": "AWFGaW0aOjnS"
      },
      "outputs": [],
      "source": [
        "preds_val = mnb.predict(vectorized_val_texts)"
      ]
    },
    {
      "cell_type": "code",
      "execution_count": null,
      "metadata": {
        "id": "knq4eoYfPOOM"
      },
      "outputs": [],
      "source": [
        "preds_test = mnb.predict(vectorized_test_texts)"
      ]
    },
    {
      "cell_type": "code",
      "execution_count": null,
      "metadata": {
        "colab": {
          "base_uri": "https://localhost:8080/"
        },
        "id": "wkYOCwe0O5EB",
        "outputId": "ec0f3655-f0a8-43d3-c6ed-e2c0b4d6031e"
      },
      "outputs": [
        {
          "name": "stdout",
          "output_type": "stream",
          "text": [
            "Model has acc = 0.7826666666666666\n",
            ", precision = 0.7833875616383951\n",
            ", recall = 0.7826666666666666\n",
            ", f1_score = 0.7774387339598252\n",
            "\n"
          ]
        }
      ],
      "source": [
        "compute_metrics(encoded_val_labels, preds_val)"
      ]
    },
    {
      "cell_type": "code",
      "execution_count": null,
      "metadata": {
        "colab": {
          "base_uri": "https://localhost:8080/"
        },
        "id": "xJzrBZMMPTCP",
        "outputId": "134d4ebb-2c43-4226-a0af-55fce9c2bf3f"
      },
      "outputs": [
        {
          "name": "stdout",
          "output_type": "stream",
          "text": [
            "Model has acc = 0.78\n",
            ", precision = 0.7785008337244983\n",
            ", recall = 0.78\n",
            ", f1_score = 0.7769269528896695\n",
            "\n"
          ]
        }
      ],
      "source": [
        "compute_metrics(encoded_test_labels, preds_test)"
      ]
    },
    {
      "cell_type": "markdown",
      "metadata": {
        "id": "i_HjBuyjM75c"
      },
      "source": [
        "# Gaussian Naive Bayes"
      ]
    },
    {
      "cell_type": "code",
      "execution_count": null,
      "metadata": {
        "colab": {
          "base_uri": "https://localhost:8080/",
          "height": 74
        },
        "id": "VKB175q1QzAz",
        "outputId": "65b0feb5-1289-486a-f3c4-21d25679ca5b"
      },
      "outputs": [
        {
          "data": {
            "text/html": [
              "<style>#sk-container-id-4 {color: black;background-color: white;}#sk-container-id-4 pre{padding: 0;}#sk-container-id-4 div.sk-toggleable {background-color: white;}#sk-container-id-4 label.sk-toggleable__label {cursor: pointer;display: block;width: 100%;margin-bottom: 0;padding: 0.3em;box-sizing: border-box;text-align: center;}#sk-container-id-4 label.sk-toggleable__label-arrow:before {content: \"▸\";float: left;margin-right: 0.25em;color: #696969;}#sk-container-id-4 label.sk-toggleable__label-arrow:hover:before {color: black;}#sk-container-id-4 div.sk-estimator:hover label.sk-toggleable__label-arrow:before {color: black;}#sk-container-id-4 div.sk-toggleable__content {max-height: 0;max-width: 0;overflow: hidden;text-align: left;background-color: #f0f8ff;}#sk-container-id-4 div.sk-toggleable__content pre {margin: 0.2em;color: black;border-radius: 0.25em;background-color: #f0f8ff;}#sk-container-id-4 input.sk-toggleable__control:checked~div.sk-toggleable__content {max-height: 200px;max-width: 100%;overflow: auto;}#sk-container-id-4 input.sk-toggleable__control:checked~label.sk-toggleable__label-arrow:before {content: \"▾\";}#sk-container-id-4 div.sk-estimator input.sk-toggleable__control:checked~label.sk-toggleable__label {background-color: #d4ebff;}#sk-container-id-4 div.sk-label input.sk-toggleable__control:checked~label.sk-toggleable__label {background-color: #d4ebff;}#sk-container-id-4 input.sk-hidden--visually {border: 0;clip: rect(1px 1px 1px 1px);clip: rect(1px, 1px, 1px, 1px);height: 1px;margin: -1px;overflow: hidden;padding: 0;position: absolute;width: 1px;}#sk-container-id-4 div.sk-estimator {font-family: monospace;background-color: #f0f8ff;border: 1px dotted black;border-radius: 0.25em;box-sizing: border-box;margin-bottom: 0.5em;}#sk-container-id-4 div.sk-estimator:hover {background-color: #d4ebff;}#sk-container-id-4 div.sk-parallel-item::after {content: \"\";width: 100%;border-bottom: 1px solid gray;flex-grow: 1;}#sk-container-id-4 div.sk-label:hover label.sk-toggleable__label {background-color: #d4ebff;}#sk-container-id-4 div.sk-serial::before {content: \"\";position: absolute;border-left: 1px solid gray;box-sizing: border-box;top: 0;bottom: 0;left: 50%;z-index: 0;}#sk-container-id-4 div.sk-serial {display: flex;flex-direction: column;align-items: center;background-color: white;padding-right: 0.2em;padding-left: 0.2em;position: relative;}#sk-container-id-4 div.sk-item {position: relative;z-index: 1;}#sk-container-id-4 div.sk-parallel {display: flex;align-items: stretch;justify-content: center;background-color: white;position: relative;}#sk-container-id-4 div.sk-item::before, #sk-container-id-4 div.sk-parallel-item::before {content: \"\";position: absolute;border-left: 1px solid gray;box-sizing: border-box;top: 0;bottom: 0;left: 50%;z-index: -1;}#sk-container-id-4 div.sk-parallel-item {display: flex;flex-direction: column;z-index: 1;position: relative;background-color: white;}#sk-container-id-4 div.sk-parallel-item:first-child::after {align-self: flex-end;width: 50%;}#sk-container-id-4 div.sk-parallel-item:last-child::after {align-self: flex-start;width: 50%;}#sk-container-id-4 div.sk-parallel-item:only-child::after {width: 0;}#sk-container-id-4 div.sk-dashed-wrapped {border: 1px dashed gray;margin: 0 0.4em 0.5em 0.4em;box-sizing: border-box;padding-bottom: 0.4em;background-color: white;}#sk-container-id-4 div.sk-label label {font-family: monospace;font-weight: bold;display: inline-block;line-height: 1.2em;}#sk-container-id-4 div.sk-label-container {text-align: center;}#sk-container-id-4 div.sk-container {/* jupyter's `normalize.less` sets `[hidden] { display: none; }` but bootstrap.min.css set `[hidden] { display: none !important; }` so we also need the `!important` here to be able to override the default hidden behavior on the sphinx rendered scikit-learn.org. See: https://github.com/scikit-learn/scikit-learn/issues/21755 */display: inline-block !important;position: relative;}#sk-container-id-4 div.sk-text-repr-fallback {display: none;}</style><div id=\"sk-container-id-4\" class=\"sk-top-container\"><div class=\"sk-text-repr-fallback\"><pre>GaussianNB(var_smoothing=0.5)</pre><b>In a Jupyter environment, please rerun this cell to show the HTML representation or trust the notebook. <br />On GitHub, the HTML representation is unable to render, please try loading this page with nbviewer.org.</b></div><div class=\"sk-container\" hidden><div class=\"sk-item\"><div class=\"sk-estimator sk-toggleable\"><input class=\"sk-toggleable__control sk-hidden--visually\" id=\"sk-estimator-id-4\" type=\"checkbox\" checked><label for=\"sk-estimator-id-4\" class=\"sk-toggleable__label sk-toggleable__label-arrow\">GaussianNB</label><div class=\"sk-toggleable__content\"><pre>GaussianNB(var_smoothing=0.5)</pre></div></div></div></div></div>"
            ],
            "text/plain": [
              "GaussianNB(var_smoothing=0.5)"
            ]
          },
          "execution_count": 43,
          "metadata": {},
          "output_type": "execute_result"
        }
      ],
      "source": [
        "gaussian_nb = GaussianNB(var_smoothing=5e-1)\n",
        "gaussian_nb"
      ]
    },
    {
      "cell_type": "code",
      "execution_count": null,
      "metadata": {
        "id": "CtjO4VW19nln"
      },
      "outputs": [],
      "source": [
        "x = vectorized_train_texts.toarray()"
      ]
    },
    {
      "cell_type": "code",
      "execution_count": null,
      "metadata": {
        "colab": {
          "base_uri": "https://localhost:8080/",
          "height": 74
        },
        "id": "99_-upxLAc96",
        "outputId": "72ffbbc4-b216-4841-bea8-c597748bf8a7"
      },
      "outputs": [
        {
          "data": {
            "text/html": [
              "<style>#sk-container-id-5 {color: black;background-color: white;}#sk-container-id-5 pre{padding: 0;}#sk-container-id-5 div.sk-toggleable {background-color: white;}#sk-container-id-5 label.sk-toggleable__label {cursor: pointer;display: block;width: 100%;margin-bottom: 0;padding: 0.3em;box-sizing: border-box;text-align: center;}#sk-container-id-5 label.sk-toggleable__label-arrow:before {content: \"▸\";float: left;margin-right: 0.25em;color: #696969;}#sk-container-id-5 label.sk-toggleable__label-arrow:hover:before {color: black;}#sk-container-id-5 div.sk-estimator:hover label.sk-toggleable__label-arrow:before {color: black;}#sk-container-id-5 div.sk-toggleable__content {max-height: 0;max-width: 0;overflow: hidden;text-align: left;background-color: #f0f8ff;}#sk-container-id-5 div.sk-toggleable__content pre {margin: 0.2em;color: black;border-radius: 0.25em;background-color: #f0f8ff;}#sk-container-id-5 input.sk-toggleable__control:checked~div.sk-toggleable__content {max-height: 200px;max-width: 100%;overflow: auto;}#sk-container-id-5 input.sk-toggleable__control:checked~label.sk-toggleable__label-arrow:before {content: \"▾\";}#sk-container-id-5 div.sk-estimator input.sk-toggleable__control:checked~label.sk-toggleable__label {background-color: #d4ebff;}#sk-container-id-5 div.sk-label input.sk-toggleable__control:checked~label.sk-toggleable__label {background-color: #d4ebff;}#sk-container-id-5 input.sk-hidden--visually {border: 0;clip: rect(1px 1px 1px 1px);clip: rect(1px, 1px, 1px, 1px);height: 1px;margin: -1px;overflow: hidden;padding: 0;position: absolute;width: 1px;}#sk-container-id-5 div.sk-estimator {font-family: monospace;background-color: #f0f8ff;border: 1px dotted black;border-radius: 0.25em;box-sizing: border-box;margin-bottom: 0.5em;}#sk-container-id-5 div.sk-estimator:hover {background-color: #d4ebff;}#sk-container-id-5 div.sk-parallel-item::after {content: \"\";width: 100%;border-bottom: 1px solid gray;flex-grow: 1;}#sk-container-id-5 div.sk-label:hover label.sk-toggleable__label {background-color: #d4ebff;}#sk-container-id-5 div.sk-serial::before {content: \"\";position: absolute;border-left: 1px solid gray;box-sizing: border-box;top: 0;bottom: 0;left: 50%;z-index: 0;}#sk-container-id-5 div.sk-serial {display: flex;flex-direction: column;align-items: center;background-color: white;padding-right: 0.2em;padding-left: 0.2em;position: relative;}#sk-container-id-5 div.sk-item {position: relative;z-index: 1;}#sk-container-id-5 div.sk-parallel {display: flex;align-items: stretch;justify-content: center;background-color: white;position: relative;}#sk-container-id-5 div.sk-item::before, #sk-container-id-5 div.sk-parallel-item::before {content: \"\";position: absolute;border-left: 1px solid gray;box-sizing: border-box;top: 0;bottom: 0;left: 50%;z-index: -1;}#sk-container-id-5 div.sk-parallel-item {display: flex;flex-direction: column;z-index: 1;position: relative;background-color: white;}#sk-container-id-5 div.sk-parallel-item:first-child::after {align-self: flex-end;width: 50%;}#sk-container-id-5 div.sk-parallel-item:last-child::after {align-self: flex-start;width: 50%;}#sk-container-id-5 div.sk-parallel-item:only-child::after {width: 0;}#sk-container-id-5 div.sk-dashed-wrapped {border: 1px dashed gray;margin: 0 0.4em 0.5em 0.4em;box-sizing: border-box;padding-bottom: 0.4em;background-color: white;}#sk-container-id-5 div.sk-label label {font-family: monospace;font-weight: bold;display: inline-block;line-height: 1.2em;}#sk-container-id-5 div.sk-label-container {text-align: center;}#sk-container-id-5 div.sk-container {/* jupyter's `normalize.less` sets `[hidden] { display: none; }` but bootstrap.min.css set `[hidden] { display: none !important; }` so we also need the `!important` here to be able to override the default hidden behavior on the sphinx rendered scikit-learn.org. See: https://github.com/scikit-learn/scikit-learn/issues/21755 */display: inline-block !important;position: relative;}#sk-container-id-5 div.sk-text-repr-fallback {display: none;}</style><div id=\"sk-container-id-5\" class=\"sk-top-container\"><div class=\"sk-text-repr-fallback\"><pre>GaussianNB(var_smoothing=0.5)</pre><b>In a Jupyter environment, please rerun this cell to show the HTML representation or trust the notebook. <br />On GitHub, the HTML representation is unable to render, please try loading this page with nbviewer.org.</b></div><div class=\"sk-container\" hidden><div class=\"sk-item\"><div class=\"sk-estimator sk-toggleable\"><input class=\"sk-toggleable__control sk-hidden--visually\" id=\"sk-estimator-id-5\" type=\"checkbox\" checked><label for=\"sk-estimator-id-5\" class=\"sk-toggleable__label sk-toggleable__label-arrow\">GaussianNB</label><div class=\"sk-toggleable__content\"><pre>GaussianNB(var_smoothing=0.5)</pre></div></div></div></div></div>"
            ],
            "text/plain": [
              "GaussianNB(var_smoothing=0.5)"
            ]
          },
          "execution_count": 45,
          "metadata": {},
          "output_type": "execute_result"
        }
      ],
      "source": [
        "gaussian_nb.fit(x, encoded_train_labels)"
      ]
    },
    {
      "cell_type": "code",
      "execution_count": null,
      "metadata": {
        "id": "KWo2FEPvAl1f"
      },
      "outputs": [],
      "source": [
        "preds_val = gaussian_nb.predict(vectorized_val_texts.toarray())\n",
        "preds_test = gaussian_nb.predict(vectorized_test_texts.toarray())"
      ]
    },
    {
      "cell_type": "code",
      "execution_count": null,
      "metadata": {
        "colab": {
          "base_uri": "https://localhost:8080/"
        },
        "id": "fiBcZNfkiZua",
        "outputId": "23886fc0-8a98-4424-9887-848a0b96ea24"
      },
      "outputs": [
        {
          "name": "stdout",
          "output_type": "stream",
          "text": [
            "Model has acc = 0.7053333333333334\n",
            ", precision = 0.7477872710093605\n",
            ", recall = 0.7053333333333335\n",
            ", f1_score = 0.7107362322002709\n",
            "\n"
          ]
        }
      ],
      "source": [
        "compute_metrics(encoded_val_labels, preds_val)"
      ]
    },
    {
      "cell_type": "code",
      "execution_count": null,
      "metadata": {
        "colab": {
          "base_uri": "https://localhost:8080/"
        },
        "id": "xvXhjW9beUqE",
        "outputId": "bacfb578-9352-4b87-a53a-332a44cb79d4"
      },
      "outputs": [
        {
          "name": "stdout",
          "output_type": "stream",
          "text": [
            "Model has acc = 0.7026666666666667\n",
            ", precision = 0.7448890961141931\n",
            ", recall = 0.7026666666666667\n",
            ", f1_score = 0.7090340679709878\n",
            "\n"
          ]
        }
      ],
      "source": [
        "compute_metrics(encoded_test_labels, preds_test)"
      ]
    },
    {
      "cell_type": "code",
      "execution_count": null,
      "metadata": {
        "id": "VvIm75IsFyN4"
      },
      "outputs": [],
      "source": []
    }
  ],
  "metadata": {
    "colab": {
      "provenance": []
    },
    "kernelspec": {
      "display_name": "Python 3",
      "name": "python3"
    },
    "language_info": {
      "name": "python"
    },
    "widgets": {
      "application/vnd.jupyter.widget-state+json": {
        "5c03a17737ab44afb0880f7823dbb1ef": {
          "model_module": "@jupyter-widgets/controls",
          "model_module_version": "1.5.0",
          "model_name": "HTMLModel",
          "state": {
            "_dom_classes": [],
            "_model_module": "@jupyter-widgets/controls",
            "_model_module_version": "1.5.0",
            "_model_name": "HTMLModel",
            "_view_count": null,
            "_view_module": "@jupyter-widgets/controls",
            "_view_module_version": "1.5.0",
            "_view_name": "HTMLView",
            "description": "",
            "description_tooltip": null,
            "layout": "IPY_MODEL_9bd339dc184b4820a1d67dbe9006ce42",
            "placeholder": "​",
            "style": "IPY_MODEL_7bedfd622448441dafa22900b3dde273",
            "value": " 13/13 [08:20&lt;00:00, 38.07s/it]"
          }
        },
        "737728acfccc4639a7d28b9a400ce0a3": {
          "model_module": "@jupyter-widgets/base",
          "model_module_version": "1.2.0",
          "model_name": "LayoutModel",
          "state": {
            "_model_module": "@jupyter-widgets/base",
            "_model_module_version": "1.2.0",
            "_model_name": "LayoutModel",
            "_view_count": null,
            "_view_module": "@jupyter-widgets/base",
            "_view_module_version": "1.2.0",
            "_view_name": "LayoutView",
            "align_content": null,
            "align_items": null,
            "align_self": null,
            "border": null,
            "bottom": null,
            "display": null,
            "flex": null,
            "flex_flow": null,
            "grid_area": null,
            "grid_auto_columns": null,
            "grid_auto_flow": null,
            "grid_auto_rows": null,
            "grid_column": null,
            "grid_gap": null,
            "grid_row": null,
            "grid_template_areas": null,
            "grid_template_columns": null,
            "grid_template_rows": null,
            "height": null,
            "justify_content": null,
            "justify_items": null,
            "left": null,
            "margin": null,
            "max_height": null,
            "max_width": null,
            "min_height": null,
            "min_width": null,
            "object_fit": null,
            "object_position": null,
            "order": null,
            "overflow": null,
            "overflow_x": null,
            "overflow_y": null,
            "padding": null,
            "right": null,
            "top": null,
            "visibility": null,
            "width": null
          }
        },
        "7bedfd622448441dafa22900b3dde273": {
          "model_module": "@jupyter-widgets/controls",
          "model_module_version": "1.5.0",
          "model_name": "DescriptionStyleModel",
          "state": {
            "_model_module": "@jupyter-widgets/controls",
            "_model_module_version": "1.5.0",
            "_model_name": "DescriptionStyleModel",
            "_view_count": null,
            "_view_module": "@jupyter-widgets/base",
            "_view_module_version": "1.2.0",
            "_view_name": "StyleView",
            "description_width": ""
          }
        },
        "89a9b8dff0e34967b8ba8e2c086c782a": {
          "model_module": "@jupyter-widgets/controls",
          "model_module_version": "1.5.0",
          "model_name": "HBoxModel",
          "state": {
            "_dom_classes": [],
            "_model_module": "@jupyter-widgets/controls",
            "_model_module_version": "1.5.0",
            "_model_name": "HBoxModel",
            "_view_count": null,
            "_view_module": "@jupyter-widgets/controls",
            "_view_module_version": "1.5.0",
            "_view_name": "HBoxView",
            "box_style": "",
            "children": [
              "IPY_MODEL_a1cf5775619e48f8a5a9c5483be52e84",
              "IPY_MODEL_c4237a50e0084075954274cb9a3a61ce",
              "IPY_MODEL_5c03a17737ab44afb0880f7823dbb1ef"
            ],
            "layout": "IPY_MODEL_b67d95517a92442db2dc70ea6d8d3775"
          }
        },
        "94c48917361d46e08fe3c80af08c6f11": {
          "model_module": "@jupyter-widgets/controls",
          "model_module_version": "1.5.0",
          "model_name": "DescriptionStyleModel",
          "state": {
            "_model_module": "@jupyter-widgets/controls",
            "_model_module_version": "1.5.0",
            "_model_name": "DescriptionStyleModel",
            "_view_count": null,
            "_view_module": "@jupyter-widgets/base",
            "_view_module_version": "1.2.0",
            "_view_name": "StyleView",
            "description_width": ""
          }
        },
        "9bd339dc184b4820a1d67dbe9006ce42": {
          "model_module": "@jupyter-widgets/base",
          "model_module_version": "1.2.0",
          "model_name": "LayoutModel",
          "state": {
            "_model_module": "@jupyter-widgets/base",
            "_model_module_version": "1.2.0",
            "_model_name": "LayoutModel",
            "_view_count": null,
            "_view_module": "@jupyter-widgets/base",
            "_view_module_version": "1.2.0",
            "_view_name": "LayoutView",
            "align_content": null,
            "align_items": null,
            "align_self": null,
            "border": null,
            "bottom": null,
            "display": null,
            "flex": null,
            "flex_flow": null,
            "grid_area": null,
            "grid_auto_columns": null,
            "grid_auto_flow": null,
            "grid_auto_rows": null,
            "grid_column": null,
            "grid_gap": null,
            "grid_row": null,
            "grid_template_areas": null,
            "grid_template_columns": null,
            "grid_template_rows": null,
            "height": null,
            "justify_content": null,
            "justify_items": null,
            "left": null,
            "margin": null,
            "max_height": null,
            "max_width": null,
            "min_height": null,
            "min_width": null,
            "object_fit": null,
            "object_position": null,
            "order": null,
            "overflow": null,
            "overflow_x": null,
            "overflow_y": null,
            "padding": null,
            "right": null,
            "top": null,
            "visibility": null,
            "width": null
          }
        },
        "a1cf5775619e48f8a5a9c5483be52e84": {
          "model_module": "@jupyter-widgets/controls",
          "model_module_version": "1.5.0",
          "model_name": "HTMLModel",
          "state": {
            "_dom_classes": [],
            "_model_module": "@jupyter-widgets/controls",
            "_model_module_version": "1.5.0",
            "_model_name": "HTMLModel",
            "_view_count": null,
            "_view_module": "@jupyter-widgets/controls",
            "_view_module_version": "1.5.0",
            "_view_name": "HTMLView",
            "description": "",
            "description_tooltip": null,
            "layout": "IPY_MODEL_eab7b42d444144268f9a4f29fa067f62",
            "placeholder": "​",
            "style": "IPY_MODEL_94c48917361d46e08fe3c80af08c6f11",
            "value": "100%"
          }
        },
        "b38d2aee8ead414094d930df83bc21cd": {
          "model_module": "@jupyter-widgets/controls",
          "model_module_version": "1.5.0",
          "model_name": "ProgressStyleModel",
          "state": {
            "_model_module": "@jupyter-widgets/controls",
            "_model_module_version": "1.5.0",
            "_model_name": "ProgressStyleModel",
            "_view_count": null,
            "_view_module": "@jupyter-widgets/base",
            "_view_module_version": "1.2.0",
            "_view_name": "StyleView",
            "bar_color": null,
            "description_width": ""
          }
        },
        "b67d95517a92442db2dc70ea6d8d3775": {
          "model_module": "@jupyter-widgets/base",
          "model_module_version": "1.2.0",
          "model_name": "LayoutModel",
          "state": {
            "_model_module": "@jupyter-widgets/base",
            "_model_module_version": "1.2.0",
            "_model_name": "LayoutModel",
            "_view_count": null,
            "_view_module": "@jupyter-widgets/base",
            "_view_module_version": "1.2.0",
            "_view_name": "LayoutView",
            "align_content": null,
            "align_items": null,
            "align_self": null,
            "border": null,
            "bottom": null,
            "display": null,
            "flex": null,
            "flex_flow": null,
            "grid_area": null,
            "grid_auto_columns": null,
            "grid_auto_flow": null,
            "grid_auto_rows": null,
            "grid_column": null,
            "grid_gap": null,
            "grid_row": null,
            "grid_template_areas": null,
            "grid_template_columns": null,
            "grid_template_rows": null,
            "height": null,
            "justify_content": null,
            "justify_items": null,
            "left": null,
            "margin": null,
            "max_height": null,
            "max_width": null,
            "min_height": null,
            "min_width": null,
            "object_fit": null,
            "object_position": null,
            "order": null,
            "overflow": null,
            "overflow_x": null,
            "overflow_y": null,
            "padding": null,
            "right": null,
            "top": null,
            "visibility": null,
            "width": null
          }
        },
        "c4237a50e0084075954274cb9a3a61ce": {
          "model_module": "@jupyter-widgets/controls",
          "model_module_version": "1.5.0",
          "model_name": "FloatProgressModel",
          "state": {
            "_dom_classes": [],
            "_model_module": "@jupyter-widgets/controls",
            "_model_module_version": "1.5.0",
            "_model_name": "FloatProgressModel",
            "_view_count": null,
            "_view_module": "@jupyter-widgets/controls",
            "_view_module_version": "1.5.0",
            "_view_name": "ProgressView",
            "bar_style": "success",
            "description": "",
            "description_tooltip": null,
            "layout": "IPY_MODEL_737728acfccc4639a7d28b9a400ce0a3",
            "max": 13,
            "min": 0,
            "orientation": "horizontal",
            "style": "IPY_MODEL_b38d2aee8ead414094d930df83bc21cd",
            "value": 13
          }
        },
        "eab7b42d444144268f9a4f29fa067f62": {
          "model_module": "@jupyter-widgets/base",
          "model_module_version": "1.2.0",
          "model_name": "LayoutModel",
          "state": {
            "_model_module": "@jupyter-widgets/base",
            "_model_module_version": "1.2.0",
            "_model_name": "LayoutModel",
            "_view_count": null,
            "_view_module": "@jupyter-widgets/base",
            "_view_module_version": "1.2.0",
            "_view_name": "LayoutView",
            "align_content": null,
            "align_items": null,
            "align_self": null,
            "border": null,
            "bottom": null,
            "display": null,
            "flex": null,
            "flex_flow": null,
            "grid_area": null,
            "grid_auto_columns": null,
            "grid_auto_flow": null,
            "grid_auto_rows": null,
            "grid_column": null,
            "grid_gap": null,
            "grid_row": null,
            "grid_template_areas": null,
            "grid_template_columns": null,
            "grid_template_rows": null,
            "height": null,
            "justify_content": null,
            "justify_items": null,
            "left": null,
            "margin": null,
            "max_height": null,
            "max_width": null,
            "min_height": null,
            "min_width": null,
            "object_fit": null,
            "object_position": null,
            "order": null,
            "overflow": null,
            "overflow_x": null,
            "overflow_y": null,
            "padding": null,
            "right": null,
            "top": null,
            "visibility": null,
            "width": null
          }
        }
      }
    }
  },
  "nbformat": 4,
  "nbformat_minor": 0
}